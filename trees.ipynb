{
 "cells": [
  {
   "cell_type": "code",
   "execution_count": null,
   "metadata": {
    "colab": {
     "base_uri": "https://localhost:8080/",
     "height": 1000
    },
    "colab_type": "code",
    "id": "ZbsvFKN3ik5r",
    "outputId": "74a843dc-328d-492b-cc2c-0208d9768c96"
   },
   "outputs": [
    {
     "name": "stdout",
     "output_type": "stream",
     "text": [
      "Collecting dendropy\n",
      "\u001b[?25l  Downloading https://files.pythonhosted.org/packages/f5/21/17e4fbb1c2a68421eec43930b1e118660c7483229f1b28ba4402e8856884/DendroPy-4.4.0.tar.gz (15.2MB)\n",
      "\u001b[K     |████████████████████████████████| 15.2MB 200kB/s \n",
      "\u001b[?25hCollecting biopython\n",
      "\u001b[?25l  Downloading https://files.pythonhosted.org/packages/83/3d/e0c8a993dbea1136be90c31345aefc5babdd5046cd52f81c18fc3fdad865/biopython-1.76-cp36-cp36m-manylinux1_x86_64.whl (2.3MB)\n",
      "\u001b[K     |████████████████████████████████| 2.3MB 53.6MB/s \n",
      "\u001b[?25hRequirement already satisfied: setuptools in /usr/local/lib/python3.6/dist-packages (from dendropy) (46.1.3)\n",
      "Requirement already satisfied: numpy in /usr/local/lib/python3.6/dist-packages (from biopython) (1.18.2)\n",
      "Building wheels for collected packages: dendropy\n",
      "  Building wheel for dendropy (setup.py) ... \u001b[?25l\u001b[?25hdone\n",
      "  Created wheel for dendropy: filename=DendroPy-4.4.0-cp36-none-any.whl size=442139 sha256=f412590507f5c636118d10659144b41892555cd8170b355a69d868f68fb3bac0\n",
      "  Stored in directory: /root/.cache/pip/wheels/88/76/d0/90381494189528abc27fab0faa25bf960143460963daae7ba7\n",
      "Successfully built dendropy\n",
      "Installing collected packages: dendropy, biopython\n",
      "Successfully installed biopython-1.76 dendropy-4.4.0\n",
      "Looking in links: https://s3.eu-central-1.amazonaws.com/pytorch-geometric.com/whl/torch-1.4.0.html\n",
      "Collecting torch-scatter==latest+cu101\n",
      "\u001b[?25l  Downloading https://s3.eu-central-1.amazonaws.com/pytorch-geometric.com/whl/torch-1.4.0/torch_scatter-latest%2Bcu101-cp36-cp36m-linux_x86_64.whl (10.6MB)\n",
      "\u001b[K     |████████████████████████████████| 10.6MB 7.4MB/s \n",
      "\u001b[?25hCollecting torch-sparse==latest+cu101\n",
      "\u001b[?25l  Downloading https://s3.eu-central-1.amazonaws.com/pytorch-geometric.com/whl/torch-1.4.0/torch_sparse-latest%2Bcu101-cp36-cp36m-linux_x86_64.whl (15.2MB)\n",
      "\u001b[K     |████████████████████████████████| 15.2MB 52.4MB/s \n",
      "\u001b[?25hRequirement already satisfied: scipy in /usr/local/lib/python3.6/dist-packages (from torch-sparse==latest+cu101) (1.4.1)\n",
      "Requirement already satisfied: numpy>=1.13.3 in /usr/local/lib/python3.6/dist-packages (from scipy->torch-sparse==latest+cu101) (1.18.2)\n",
      "Installing collected packages: torch-scatter, torch-sparse\n",
      "Successfully installed torch-scatter-2.0.4 torch-sparse-0.6.1\n",
      "Collecting torch-geometric\n",
      "\u001b[?25l  Downloading https://files.pythonhosted.org/packages/4c/35/8a65fc0b685d916f5f70199d6ad6f19bb002dc3a547a3fe5b68d60047f3b/torch_geometric-1.4.3.tar.gz (129kB)\n",
      "\u001b[K     |████████████████████████████████| 133kB 8.1MB/s \n",
      "\u001b[?25hRequirement already satisfied: torch in /usr/local/lib/python3.6/dist-packages (from torch-geometric) (1.4.0)\n",
      "Requirement already satisfied: numpy in /usr/local/lib/python3.6/dist-packages (from torch-geometric) (1.18.2)\n",
      "Requirement already satisfied: scipy in /usr/local/lib/python3.6/dist-packages (from torch-geometric) (1.4.1)\n",
      "Requirement already satisfied: networkx in /usr/local/lib/python3.6/dist-packages (from torch-geometric) (2.4)\n",
      "Requirement already satisfied: scikit-learn in /usr/local/lib/python3.6/dist-packages (from torch-geometric) (0.22.2.post1)\n",
      "Requirement already satisfied: scikit-image in /usr/local/lib/python3.6/dist-packages (from torch-geometric) (0.16.2)\n",
      "Requirement already satisfied: numba in /usr/local/lib/python3.6/dist-packages (from torch-geometric) (0.47.0)\n",
      "Requirement already satisfied: requests in /usr/local/lib/python3.6/dist-packages (from torch-geometric) (2.21.0)\n",
      "Collecting plyfile\n",
      "  Downloading https://files.pythonhosted.org/packages/93/c8/cf47848cd4d661850e4a8e7f0fc4f7298515e06d0da7255ed08e5312d4aa/plyfile-0.7.2-py3-none-any.whl\n",
      "Requirement already satisfied: pandas in /usr/local/lib/python3.6/dist-packages (from torch-geometric) (1.0.3)\n",
      "Collecting rdflib\n",
      "\u001b[?25l  Downloading https://files.pythonhosted.org/packages/3c/fe/630bacb652680f6d481b9febbb3e2c3869194a1a5fc3401a4a41195a2f8f/rdflib-4.2.2-py3-none-any.whl (344kB)\n",
      "\u001b[K     |████████████████████████████████| 348kB 15.9MB/s \n",
      "\u001b[?25hRequirement already satisfied: h5py in /usr/local/lib/python3.6/dist-packages (from torch-geometric) (2.10.0)\n",
      "Requirement already satisfied: googledrivedownloader in /usr/local/lib/python3.6/dist-packages (from torch-geometric) (0.4)\n",
      "Requirement already satisfied: decorator>=4.3.0 in /usr/local/lib/python3.6/dist-packages (from networkx->torch-geometric) (4.4.2)\n",
      "Requirement already satisfied: joblib>=0.11 in /usr/local/lib/python3.6/dist-packages (from scikit-learn->torch-geometric) (0.14.1)\n",
      "Requirement already satisfied: pillow>=4.3.0 in /usr/local/lib/python3.6/dist-packages (from scikit-image->torch-geometric) (7.0.0)\n",
      "Requirement already satisfied: matplotlib!=3.0.0,>=2.0.0 in /usr/local/lib/python3.6/dist-packages (from scikit-image->torch-geometric) (3.2.1)\n",
      "Requirement already satisfied: imageio>=2.3.0 in /usr/local/lib/python3.6/dist-packages (from scikit-image->torch-geometric) (2.4.1)\n",
      "Requirement already satisfied: PyWavelets>=0.4.0 in /usr/local/lib/python3.6/dist-packages (from scikit-image->torch-geometric) (1.1.1)\n",
      "Requirement already satisfied: setuptools in /usr/local/lib/python3.6/dist-packages (from numba->torch-geometric) (46.1.3)\n",
      "Requirement already satisfied: llvmlite>=0.31.0dev0 in /usr/local/lib/python3.6/dist-packages (from numba->torch-geometric) (0.31.0)\n",
      "Requirement already satisfied: chardet<3.1.0,>=3.0.2 in /usr/local/lib/python3.6/dist-packages (from requests->torch-geometric) (3.0.4)\n",
      "Requirement already satisfied: urllib3<1.25,>=1.21.1 in /usr/local/lib/python3.6/dist-packages (from requests->torch-geometric) (1.24.3)\n",
      "Requirement already satisfied: certifi>=2017.4.17 in /usr/local/lib/python3.6/dist-packages (from requests->torch-geometric) (2019.11.28)\n",
      "Requirement already satisfied: idna<2.9,>=2.5 in /usr/local/lib/python3.6/dist-packages (from requests->torch-geometric) (2.8)\n",
      "Requirement already satisfied: pytz>=2017.2 in /usr/local/lib/python3.6/dist-packages (from pandas->torch-geometric) (2018.9)\n",
      "Requirement already satisfied: python-dateutil>=2.6.1 in /usr/local/lib/python3.6/dist-packages (from pandas->torch-geometric) (2.8.1)\n",
      "Requirement already satisfied: pyparsing in /usr/local/lib/python3.6/dist-packages (from rdflib->torch-geometric) (2.4.6)\n",
      "Collecting isodate\n",
      "\u001b[?25l  Downloading https://files.pythonhosted.org/packages/9b/9f/b36f7774ff5ea8e428fdcfc4bb332c39ee5b9362ddd3d40d9516a55221b2/isodate-0.6.0-py2.py3-none-any.whl (45kB)\n",
      "\u001b[K     |████████████████████████████████| 51kB 7.9MB/s \n",
      "\u001b[?25hRequirement already satisfied: six in /usr/local/lib/python3.6/dist-packages (from h5py->torch-geometric) (1.12.0)\n",
      "Requirement already satisfied: cycler>=0.10 in /usr/local/lib/python3.6/dist-packages (from matplotlib!=3.0.0,>=2.0.0->scikit-image->torch-geometric) (0.10.0)\n",
      "Requirement already satisfied: kiwisolver>=1.0.1 in /usr/local/lib/python3.6/dist-packages (from matplotlib!=3.0.0,>=2.0.0->scikit-image->torch-geometric) (1.2.0)\n",
      "Building wheels for collected packages: torch-geometric\n",
      "  Building wheel for torch-geometric (setup.py) ... \u001b[?25l\u001b[?25hdone\n",
      "  Created wheel for torch-geometric: filename=torch_geometric-1.4.3-cp36-none-any.whl size=234873 sha256=36c940f50c4780bc8d763499a46b2c32b487960069681b4eabeb0ae86461afa3\n",
      "  Stored in directory: /root/.cache/pip/wheels/e2/c1/09/8693feee3f97e440d68b09abfca8b4c1e97150ace350b5003f\n",
      "Successfully built torch-geometric\n",
      "Installing collected packages: plyfile, isodate, rdflib, torch-geometric\n",
      "Successfully installed isodate-0.6.0 plyfile-0.7.2 rdflib-4.2.2 torch-geometric-1.4.3\n"
     ]
    }
   ],
   "source": [
    "# Installing dependencies\n",
    "!pip install dendropy biopython\n",
    "!pip install torch-scatter==latest+cu101 torch-sparse==latest+cu101 -f https://s3.eu-central-1.amazonaws.com/pytorch-geometric.com/whl/torch-1.4.0.html\n",
    "!pip install torch-geometric"
   ]
  },
  {
   "cell_type": "code",
   "execution_count": null,
   "metadata": {
    "colab": {},
    "colab_type": "code",
    "id": "qKMhVN5vdipV"
   },
   "outputs": [],
   "source": [
    "# mount data\n",
    "from google.colab import drive\n",
    "drive.mount('/content/gdrive')"
   ]
  },
  {
   "cell_type": "code",
   "execution_count": null,
   "metadata": {
    "colab": {
     "base_uri": "https://localhost:8080/",
     "height": 52
    },
    "colab_type": "code",
    "id": "43x4AUaUen-I",
    "outputId": "a6702e89-8e3d-4c37-e2e1-c36a5a0a45c2"
   },
   "outputs": [
    {
     "name": "stdout",
     "output_type": "stream",
     "text": [
      "Archaea  Fungi30  Metazoa15  Metazoa30\t     processed\t       Proteobacteria45\n",
      "Fungi15  Fungi45  Metazoa25  OtherEukaryota  Proteobacteria30\n"
     ]
    }
   ],
   "source": [
    "!ls /content/gdrive/My\\ Drive/data"
   ]
  },
  {
   "cell_type": "code",
   "execution_count": null,
   "metadata": {
    "colab": {},
    "colab_type": "code",
    "id": "M-RjAUZvh6XE"
   },
   "outputs": [],
   "source": [
    "import torch\n",
    "import dendropy\n",
    "from Bio import SeqIO\n",
    "from dendropy.calculate.treecompare import symmetric_difference\n",
    "from torch_geometric.data import InMemoryDataset, Data\n",
    "\n",
    "\n",
    "class MAGraph(InMemoryDataset):\n",
    "    \"\"\"A dataset class containing trees and aligned sequences as nodes' features\"\"\"\n",
    "    def __init__(self, root, trees, etalon_tree, alignments, seq_to_tensor, tensor_length=64, transform=None,\n",
    "                 pre_transform=None):\n",
    "        \"\"\"\"\n",
    "        self.trees = trees\n",
    "        self.etalon = etalon_tree\n",
    "        self.alignments = alignments\n",
    "        self.att = seq_to_tensor\n",
    "        self.feat_length = tensor_length\n",
    "        super().__init__(root, transform, pre_transform)\n",
    "        self.data, self.slices = torch.load(self.processed_paths[0])\n",
    "\n",
    "    @property\n",
    "    def raw_file_names(self):\n",
    "        return self.trees + self.alignments\n",
    "\n",
    "    @property\n",
    "    def processed_file_names(self):\n",
    "        return ['data.pt']\n",
    "\n",
    "    def download(self):\n",
    "        pass\n",
    "\n",
    "    def process(self):\n",
    "        data_list = list()\n",
    "        taxa = dendropy.TaxonNamespace()\n",
    "        etalon_tree = dendropy.Tree.get(\n",
    "            path=self.etalon,\n",
    "            schema='newick',\n",
    "            taxon_namespace=taxa,\n",
    "        )\n",
    "        tree_yielder = dendropy.Tree.yield_from_files(\n",
    "            files=self.trees,\n",
    "            schema='newick',\n",
    "            taxon_namespace=taxa,\n",
    "        )\n",
    "        for tree, aln_file in zip(tree_yielder, self.alignments):\n",
    "            # reading tree\n",
    "            # reading alignment\n",
    "            with open(aln_file) as fin:\n",
    "                seq_dict = {seq.name: seq.seq for seq in SeqIO.parse(fin, 'fasta')}\n",
    "            # create tensors\n",
    "            nlen = len(tree.nodes())\n",
    "            x = torch.zeros(nlen, self.feat_length)\n",
    "            # lookup table for TAXON->INDEX mapping\n",
    "            lookup = {str(t): tid for tid, t in enumerate(tree.preorder_node_iter())}\n",
    "            coo = torch.zeros((2, len(tree.edges())), dtype=torch.long)\n",
    "            edge_len = torch.zeros(len(tree.edges()), dtype=torch.long)\n",
    "            edge_ind = 0\n",
    "\n",
    "            # iterating through every node to calculate representations and create coo\n",
    "            for node in tree.preorder_node_iter():\n",
    "                # add edges to immediate children\n",
    "                for child_edge in node.child_edge_iter():\n",
    "                    coo[0, edge_ind] = lookup[str(child_edge.head_node)]\n",
    "                    coo[1, edge_ind] = lookup[str(child_edge.tail_node)]\n",
    "                    edge_len[edge_ind] = child_edge.length\n",
    "                    edge_ind += 1\n",
    "                # calculate features\n",
    "                if node.taxon is None:\n",
    "                    x[lookup[str(node)]] = self.att(None)\n",
    "                else:\n",
    "                    x[lookup[str(node)]] = self.att(seq_dict[node.taxon.label])\n",
    "            data_list.append(\n",
    "                Data(\n",
    "                    x=x,\n",
    "                    edge_index=coo,\n",
    "                    edge_attr=edge_len,\n",
    "                    y=symmetric_difference(\n",
    "                        etalon_tree.extract_tree_with_taxa_labels([r.taxon.label for r in tree.leaf_nodes()]), tree\n",
    "                    ),\n",
    "                    lookup=lookup\n",
    "                )\n",
    "            )\n",
    "\n",
    "        if self.pre_filter is not None:\n",
    "            data_list = [data for data in data_list if self.pre_filter(data)]\n",
    "\n",
    "        if self.pre_transform is not None:\n",
    "            data_list = [self.pre_transform(data) for data in data_list]\n",
    "\n",
    "        data, slices = self.collate(data_list)\n",
    "        torch.save((data, slices), self.processed_paths[0])\n"
   ]
  },
  {
   "cell_type": "code",
   "execution_count": null,
   "metadata": {
    "colab": {},
    "colab_type": "code",
    "id": "MW5oA9goiebl"
   },
   "outputs": [],
   "source": [
    "import torch\n",
    "import torch.nn as nn\n",
    "\n",
    "# aminoacids ids\n",
    "aa2id = {\n",
    "    \"A\": 1,\n",
    "    \"C\": 2,\n",
    "    \"D\": 3,\n",
    "    \"E\": 4,\n",
    "    \"F\": 5,\n",
    "    \"G\": 6,\n",
    "    \"H\": 7,\n",
    "    \"I\": 8,\n",
    "    \"K\": 9,\n",
    "    \"L\": 10,\n",
    "    \"M\": 11,\n",
    "    \"N\": 12,\n",
    "    \"P\": 13,\n",
    "    \"Q\": 14,\n",
    "    \"R\": 15,\n",
    "    \"S\": 16,\n",
    "    \"T\": 17,\n",
    "    \"V\": 18,\n",
    "    \"W\": 19,\n",
    "    \"X\": 20,\n",
    "    \"Y\": 21,\n",
    "    \"-\": 22,\n",
    "    \"O\": 23,\n",
    "    \"Z\": 24,\n",
    "}\n",
    "\n",
    "\n",
    "class RnnProt2Vec(nn.Module):\n",
    "    \"\"\"Module extracting features from protein sequences\"\"\"\n",
    "    def __init__(self, output_size, emb_size=4, dropout=0.2):\n",
    "        super(RnnProt2Vec, self).__init__()\n",
    "        self.emb = nn.Embedding(len(aa2id)+1, emb_size, padding_idx=0, max_norm=1)\n",
    "        self.conv1 = nn.Sequential(\n",
    "            nn.Conv1d(emb_size, emb_size*2, 13, stride=4),\n",
    "            nn.PReLU()\n",
    "        )\n",
    "        self.conv2 = nn.Sequential(\n",
    "            nn.Conv1d(emb_size*2, emb_size*4, 13, stride=4),\n",
    "            nn.PReLU()\n",
    "        )\n",
    "        self.drop = nn.Dropout(dropout)\n",
    "        self.lstm = nn.LSTM(emb_size*4, output_size, 4, batch_first=True, bidirectional=True)\n",
    "        self.norm = nn.BatchNorm1d(output_size)\n",
    "\n",
    "    def forward(self, seq):\n",
    "        if isinstance(seq, str):\n",
    "            seq = torch.tensor([aa2id[r] for r in seq], dtype=torch.long).view(1, -1)\n",
    "        # BxL\n",
    "        seq = self.emb(seq.long()).permute(0, 2, 1)\n",
    "        seq = self.conv1(seq)\n",
    "        seq = self.drop(seq)\n",
    "        seq = self.conv2(seq).permute(0, 2, 1)\n",
    "        seq = self.drop(seq)\n",
    "    \n",
    "        # BxLxE\n",
    "        _, (h, c) = self.lstm(seq, )\n",
    "        # h: 4xBxO\n",
    "        h = torch.sum(h, dim=0)\n",
    "        # returns BxO\n",
    "        return self.norm(h)"
   ]
  },
  {
   "cell_type": "code",
   "execution_count": null,
   "metadata": {
    "colab": {},
    "colab_type": "code",
    "id": "27uvTSMGoO0s"
   },
   "outputs": [],
   "source": [
    "from torch import nn\n",
    "from torch.nn import functional as func\n",
    "from torch_geometric import nn as gnn\n",
    "\n",
    "\n",
    "class TreeSupport(nn.Module):\n",
    "    def __init__(self, feature_map, feat_in, hidden_features=10, output_dim=1, dropout=0.1):\n",
    "        \"\"\"\n",
    "        A class for graph nodes convolution.\n",
    "        :param feature_map: callable feature mapping model\n",
    "        :param feat_in: Number of features of one node\n",
    "        :param hidden_features: Number of features between layers\n",
    "        :param dropout: dropout value (after each layer)\n",
    "        \"\"\"\n",
    "        super(TreeSupport, self).__init__()\n",
    "        self.feature_map = feature_map\n",
    "        self.dropout = dropout\n",
    "        self.conv1 = gnn.GINConv(\n",
    "            nn.Sequential(\n",
    "                nn.Linear(feat_in, hidden_features), \n",
    "                nn.PReLU(), \n",
    "                nn.Linear(hidden_features, hidden_features),\n",
    "                nn.PReLU(),\n",
    "                nn.BatchNorm1d(hidden_features)\n",
    "            ),\n",
    "            train_eps=True\n",
    "        )\n",
    "        self.conv2 = gnn.GINConv(\n",
    "            nn.Sequential(\n",
    "                nn.Linear(hidden_features, max(hidden_features // 2, 1)), \n",
    "                nn.PReLU(),\n",
    "                nn.Linear(max(hidden_features//2, 1), max(hidden_features//2, 1)),\n",
    "                nn.PReLU(),\n",
    "                nn.BatchNorm1d(max(hidden_features//2, 1))\n",
    "            ),\n",
    "            train_eps=True\n",
    "        )\n",
    "        self.conv3 = gnn.GINConv(\n",
    "            nn.Sequential(\n",
    "                nn.Linear(max(hidden_features // 2, 1), max(hidden_features // 2, 1)),\n",
    "                nn.PReLU(), \n",
    "                nn.Linear(max(hidden_features // 2, 1), max(hidden_features // 2, 1)), \n",
    "                nn.PReLU(),\n",
    "                nn.BatchNorm1d(max(hidden_features // 2, 1))),\n",
    "            train_eps=True\n",
    "        )\n",
    "        self.conv4 = gnn.SAGEConv(max(hidden_features // 2, 1), max(hidden_features // 2, 1))\n",
    "        self.conv5 = gnn.SAGEConv(max(hidden_features // 2, 1), output_dim)\n",
    "\n",
    "    def forward(self, data):\n",
    "        \"\"\"\n",
    "        Forward propagation\n",
    "        :param data:\n",
    "            x: (Nodes x Features)\n",
    "            edge_index: (2 x Edges)\n",
    "            edge_attr: (Edges x 1)\n",
    "        :return: results of the model (Nodes x 1)\n",
    "        \"\"\"\n",
    "        x, edge_index, edge_attr = data.x, data.edge_index, data.edge_attr.squeeze()\n",
    "        x = self.feature_map(x)\n",
    "        x = self.conv1(x, edge_index)\n",
    "        x = func.dropout(x, training=self.training, p=self.dropout)\n",
    "        x = self.conv2(x, edge_index)\n",
    "        x = func.dropout(x, training=self.training, p=self.dropout)\n",
    "        x = self.conv3(x, edge_index)\n",
    "        x = func.dropout(x, training=self.training, p=self.dropout)\n",
    "        x = self.conv4(x, edge_index, edge_attr)\n",
    "        x = func.rrelu(x)\n",
    "        x = func.dropout(x, training=self.training, p=self.dropout)\n",
    "        x = self.conv5(x, edge_index, edge_attr)\n",
    "        return func.rrelu(x)\n",
    "\n",
    "\n",
    "class WholeTreeAssessor(nn.Module):\n",
    "    def __init__(self, feature_map, feat_in, hidden_features=10, treesup_out=20, dropout=0.1):\n",
    "        \"\"\"\n",
    "        A class for whole tree assessment. Contains two convolution layers\n",
    "        :param feat_in: Number of features of one node\n",
    "        :param hidden_features: Number of features between layers\n",
    "        :param treesup_out: Number of output features for TreeSupport module. \n",
    "        \"\"\"\n",
    "        super(WholeTreeAssessor, self).__init__()\n",
    "        self.tree_conv = TreeSupport(feature_map, feat_in, hidden_features=hidden_features,  output_dim=treesup_out,\n",
    "                                     dropout=dropout)\n",
    "        self.gpl = gnn.GlobalAttention(\n",
    "            nn.Sequential(\n",
    "                nn.Linear(treesup_out, treesup_out),\n",
    "                nn.PReLU(), \n",
    "                nn.Linear(treesup_out, 1)),\n",
    "                nn.PReLU(),\n",
    "        )\n",
    "        self.lin = nn.Sequential(nn.Linear(treesup_out, 1), nn.PReLU())\n",
    "\n",
    "    def forward(self, data):\n",
    "        \"\"\"\n",
    "        Forward propagation\n",
    "        :param data:\n",
    "            x: (Nodes x Features)\n",
    "            edge_index: (2 x Edges)\n",
    "            edge_attr: (Edges x 1)\n",
    "            batch: batch indicator (Nodes)\n",
    "        :return: results of the model (Nodes x 1)\n",
    "        \"\"\"\n",
    "        x = self.tree_conv(data)\n",
    "        x = self.gpl(x, data.batch)\n",
    "        # Batch x treesup_out\n",
    "        return self.lin(x)\n"
   ]
  },
  {
   "cell_type": "code",
   "execution_count": null,
   "metadata": {
    "colab": {
     "base_uri": "https://localhost:8080/",
     "height": 52
    },
    "colab_type": "code",
    "id": "g5fsAcBAac6C",
    "outputId": "fb811eab-3ec1-4a23-9a2c-660c0d0c9c65"
   },
   "outputs": [
    {
     "name": "stderr",
     "output_type": "stream",
     "text": [
      "/usr/local/lib/python3.6/dist-packages/statsmodels/tools/_testing.py:19: FutureWarning: pandas.util.testing is deprecated. Use the functions in the public API at pandas.testing instead.\n",
      "  import pandas.util.testing as tm\n"
     ]
    }
   ],
   "source": [
    "import glob\n",
    "import re\n",
    "import time\n",
    "\n",
    "import torch\n",
    "from torch import optim\n",
    "\n",
    "from torch.utils.data import random_split, ConcatDataset\n",
    "from torch_geometric.data import DataLoader\n",
    "\n",
    "import seaborn as sns"
   ]
  },
  {
   "cell_type": "code",
   "execution_count": null,
   "metadata": {
    "colab": {
     "base_uri": "https://localhost:8080/",
     "height": 34
    },
    "colab_type": "code",
    "id": "W1fvtZafafyk",
    "outputId": "59d609e9-c8f0-45ae-ed9a-731d5dffc3d0"
   },
   "outputs": [
    {
     "data": {
      "text/plain": [
       "<torch._C.Generator at 0x7fe7a6c118f0>"
      ]
     },
     "execution_count": 8,
     "metadata": {
      "tags": []
     },
     "output_type": "execute_result"
    }
   ],
   "source": [
    "# make all deterministic\n",
    "torch.backends.cudnn.deterministic = True\n",
    "torch.backends.cudnn.benchmark = False\n",
    "torch.manual_seed(37)"
   ]
  },
  {
   "cell_type": "code",
   "execution_count": null,
   "metadata": {
    "colab": {},
    "colab_type": "code",
    "id": "_q_WI1yxoSs8"
   },
   "outputs": [],
   "source": [
    "data_paths = [\n",
    "  'Fungi15/', 'Fungi30/', 'Fungi45/',\n",
    "  'Metazoa15/', 'Metazoa25/',\n",
    "  'Proteobacteria30/', 'Proteobacteria45/'\n",
    "]  \n",
    "# constructing dataset\n",
    "data = ConcatDataset([\n",
    "  MAGraph(\n",
    "      '/content/gdrive/My Drive/data/'+x,\n",
    "      [],  # empty, using precomputed data\n",
    "      '',\n",
    "      [],\n",
    "      # 1550 is the max length of a sequence in the alignments\n",
    "      lambda x: torch.zeros(1550)  \n",
    "  ) for x in data_paths\n",
    "])\n",
    "\n",
    "# prepare train/val\n",
    "train_batch = 25\n",
    "val_batch = 10\n",
    "train_data, val_data = random_split(\n",
    "    data, [round(len(data) * 0.85), round(len(data) * 0.15)]\n",
    ")\n",
    "\n",
    "# data loaders\n",
    "train_dl = DataLoader(\n",
    "    train_data, batch_size=train_batch, pin_memory=True, shuffle=True, num_workers=4\n",
    ")\n",
    "val_dl = DataLoader(\n",
    "    val_data, batch_size=val_batch, num_workers=4\n",
    ")"
   ]
  },
  {
   "cell_type": "code",
   "execution_count": null,
   "metadata": {
    "colab": {
     "base_uri": "https://localhost:8080/",
     "height": 34
    },
    "colab_type": "code",
    "id": "Yq9yVdbWFNqf",
    "outputId": "0daa9e1b-7b3e-4e92-f46c-f8dca806507a"
   },
   "outputs": [
    {
     "data": {
      "text/plain": [
       "11889"
      ]
     },
     "execution_count": 10,
     "metadata": {
      "tags": []
     },
     "output_type": "execute_result"
    }
   ],
   "source": [
    "len(data)"
   ]
  },
  {
   "cell_type": "code",
   "execution_count": null,
   "metadata": {
    "colab": {},
    "colab_type": "code",
    "id": "EtzqOSbWoYEf"
   },
   "outputs": [],
   "source": [
    "# model\n",
    "torch.manual_seed(137)\n",
    "model = WholeTreeAssessor(\n",
    "    RnnProt2Vec(32),\n",
    "    32,\n",
    "    hidden_features=20,\n",
    "    dropout=0.4\n",
    ")\n",
    "if torch.cuda.is_available():\n",
    "    device = torch.device('cuda')\n",
    "else:\n",
    "    device = torch.device('cpu')\n",
    "model = model.to(device=device)\n",
    "torch.nn.utils.clip_grad_norm_(model.parameters(), 1)\n",
    "silent = False\n",
    "num_epochs = 200\n",
    "loss_fn = torch.nn.MSELoss()\n",
    "test_batches = len(val_dl)\n",
    "# stattr\n",
    "losses = []\n",
    "val_losses = []\n",
    "learning_rates = []\n"
   ]
  },
  {
   "cell_type": "code",
   "execution_count": null,
   "metadata": {
    "colab": {},
    "colab_type": "code",
    "id": "XOZTYOtDjbne"
   },
   "outputs": [],
   "source": [
    "### run to load model\n",
    "#model.load_state_dict(torch.load('/content/gdrive/My Drive/data/processed/model2_99.pt', map_location=device))"
   ]
  },
  {
   "cell_type": "code",
   "execution_count": null,
   "metadata": {
    "colab": {
     "base_uri": "https://localhost:8080/",
     "height": 1000
    },
    "colab_type": "code",
    "id": "3nQRo5JtovqL",
    "outputId": "34c5eb54-1203-4d1e-f5f4-0e9e78c3d77d"
   },
   "outputs": [
    {
     "name": "stdout",
     "output_type": "stream",
     "text": [
      "Epoch [1/200], Loss (last training batch/val): 0.0361/0.0488. Time elapsed: 70.43\n",
      "Epoch [2/200], Loss (last training batch/val): 0.0448/0.1094. Time elapsed: 141.21\n",
      "Epoch [3/200], Loss (last training batch/val): 0.0199/0.0710. Time elapsed: 211.81\n",
      "Epoch [4/200], Loss (last training batch/val): 0.0108/0.6866. Time elapsed: 282.58\n",
      "Epoch [5/200], Loss (last training batch/val): 0.0257/0.1339. Time elapsed: 353.32\n",
      "Epoch [6/200], Loss (last training batch/val): 0.0133/0.0309. Time elapsed: 423.70\n",
      "Epoch [7/200], Loss (last training batch/val): 0.0042/0.0212. Time elapsed: 494.40\n",
      "Epoch [8/200], Loss (last training batch/val): 0.0539/0.0231. Time elapsed: 564.77\n",
      "Epoch [9/200], Loss (last training batch/val): 0.0210/0.0504. Time elapsed: 635.36\n",
      "Epoch [10/200], Loss (last training batch/val): 0.0525/0.1526. Time elapsed: 705.92\n",
      "Epoch [11/200], Loss (last training batch/val): 0.0124/0.0204. Time elapsed: 777.82\n",
      "Epoch [12/200], Loss (last training batch/val): 0.0242/0.1027. Time elapsed: 848.74\n",
      "Epoch [13/200], Loss (last training batch/val): 0.0289/0.2190. Time elapsed: 919.95\n",
      "Epoch [14/200], Loss (last training batch/val): 0.0170/0.0346. Time elapsed: 991.32\n",
      "Epoch [15/200], Loss (last training batch/val): 0.0288/0.0240. Time elapsed: 1062.83\n",
      "Epoch [16/200], Loss (last training batch/val): 0.0172/0.0227. Time elapsed: 1133.75\n",
      "Epoch [17/200], Loss (last training batch/val): 0.0157/0.0328. Time elapsed: 1204.95\n",
      "Epoch [18/200], Loss (last training batch/val): 0.0117/0.0422. Time elapsed: 1276.21\n",
      "Epoch [19/200], Loss (last training batch/val): 0.0196/0.0359. Time elapsed: 1347.29\n",
      "Epoch [20/200], Loss (last training batch/val): 0.0053/0.1439. Time elapsed: 1418.84\n",
      "Epoch [21/200], Loss (last training batch/val): 0.0100/0.0211. Time elapsed: 1491.09\n",
      "Epoch [22/200], Loss (last training batch/val): 0.0426/0.0717. Time elapsed: 1563.05\n",
      "Epoch [23/200], Loss (last training batch/val): 0.0332/0.0297. Time elapsed: 1635.20\n",
      "Epoch [24/200], Loss (last training batch/val): 0.0149/0.0185. Time elapsed: 1707.67\n",
      "Epoch [25/200], Loss (last training batch/val): 0.0087/0.0190. Time elapsed: 1781.01\n",
      "Epoch [26/200], Loss (last training batch/val): 0.0251/0.0906. Time elapsed: 1853.88\n",
      "Epoch [27/200], Loss (last training batch/val): 0.0358/0.0151. Time elapsed: 1926.19\n",
      "Epoch [28/200], Loss (last training batch/val): 0.0113/0.0514. Time elapsed: 1998.45\n",
      "Epoch [29/200], Loss (last training batch/val): 0.0089/0.0256. Time elapsed: 2070.81\n",
      "Epoch [30/200], Loss (last training batch/val): 0.0198/0.0251. Time elapsed: 2142.84\n",
      "Epoch [31/200], Loss (last training batch/val): 0.0065/0.0402. Time elapsed: 2214.80\n",
      "Epoch [32/200], Loss (last training batch/val): 0.0162/0.0166. Time elapsed: 2286.13\n",
      "Epoch [33/200], Loss (last training batch/val): 0.0262/0.0248. Time elapsed: 2358.03\n",
      "Epoch [34/200], Loss (last training batch/val): 0.0085/0.0250. Time elapsed: 2430.19\n",
      "Epoch [35/200], Loss (last training batch/val): 0.0162/0.0439. Time elapsed: 2501.82\n",
      "Epoch [36/200], Loss (last training batch/val): 0.0306/0.0168. Time elapsed: 2573.97\n",
      "Epoch [37/200], Loss (last training batch/val): 0.0165/0.0172. Time elapsed: 2646.01\n",
      "Epoch [38/200], Loss (last training batch/val): 0.0091/0.0186. Time elapsed: 2717.71\n",
      "Epoch [39/200], Loss (last training batch/val): 0.0113/0.0179. Time elapsed: 2789.92\n",
      "Epoch [40/200], Loss (last training batch/val): 0.0114/0.0345. Time elapsed: 2861.88\n",
      "Epoch [41/200], Loss (last training batch/val): 0.0105/0.0222. Time elapsed: 2934.50\n",
      "Epoch [42/200], Loss (last training batch/val): 0.0182/0.0492. Time elapsed: 3006.91\n",
      "Epoch [43/200], Loss (last training batch/val): 0.0199/0.0263. Time elapsed: 3079.09\n",
      "Epoch [44/200], Loss (last training batch/val): 0.0121/0.0362. Time elapsed: 3151.15\n",
      "Epoch [45/200], Loss (last training batch/val): 0.0436/0.0168. Time elapsed: 3223.27\n",
      "Epoch [46/200], Loss (last training batch/val): 0.0096/0.0162. Time elapsed: 3294.90\n",
      "Epoch [47/200], Loss (last training batch/val): 0.0067/0.0150. Time elapsed: 3366.93\n",
      "Epoch [48/200], Loss (last training batch/val): 0.0233/0.0192. Time elapsed: 3439.08\n",
      "Epoch [49/200], Loss (last training batch/val): 0.0016/0.0342. Time elapsed: 3510.97\n",
      "Epoch [50/200], Loss (last training batch/val): 0.0167/0.0158. Time elapsed: 3583.11\n",
      "Epoch [51/200], Loss (last training batch/val): 0.0193/0.0149. Time elapsed: 3655.77\n",
      "Epoch [52/200], Loss (last training batch/val): 0.0153/0.0144. Time elapsed: 3728.43\n",
      "Epoch [53/200], Loss (last training batch/val): 0.0217/0.0131. Time elapsed: 3800.70\n",
      "Epoch [54/200], Loss (last training batch/val): 0.0093/0.0138. Time elapsed: 3873.45\n",
      "Epoch [55/200], Loss (last training batch/val): 0.0127/0.0134. Time elapsed: 3945.78\n",
      "Epoch [56/200], Loss (last training batch/val): 0.0147/0.0243. Time elapsed: 4017.82\n",
      "Epoch [57/200], Loss (last training batch/val): 0.0147/0.0170. Time elapsed: 4089.57\n",
      "Epoch [58/200], Loss (last training batch/val): 0.0089/0.0139. Time elapsed: 4161.72\n",
      "Epoch [59/200], Loss (last training batch/val): 0.0125/0.0131. Time elapsed: 4233.63\n",
      "Epoch [60/200], Loss (last training batch/val): 0.0244/0.0208. Time elapsed: 4305.69\n",
      "Epoch [61/200], Loss (last training batch/val): 0.0064/0.0462. Time elapsed: 4377.80\n",
      "Epoch [62/200], Loss (last training batch/val): 0.0174/0.0153. Time elapsed: 4449.68\n",
      "Epoch [63/200], Loss (last training batch/val): 0.0165/0.0131. Time elapsed: 4521.90\n",
      "Epoch [64/200], Loss (last training batch/val): 0.0249/0.0140. Time elapsed: 4594.39\n",
      "Epoch [65/200], Loss (last training batch/val): 0.0059/0.0255. Time elapsed: 4666.46\n",
      "Epoch [66/200], Loss (last training batch/val): 0.0147/0.0133. Time elapsed: 4738.48\n",
      "Epoch [67/200], Loss (last training batch/val): 0.0189/0.0141. Time elapsed: 4810.80\n",
      "Epoch [68/200], Loss (last training batch/val): 0.0074/0.0201. Time elapsed: 4883.22\n",
      "Epoch [69/200], Loss (last training batch/val): 0.0117/0.0149. Time elapsed: 4955.71\n",
      "Epoch [70/200], Loss (last training batch/val): 0.0085/0.0144. Time elapsed: 5028.06\n",
      "Epoch [71/200], Loss (last training batch/val): 0.0243/0.0139. Time elapsed: 5101.83\n",
      "Epoch [72/200], Loss (last training batch/val): 0.0167/0.0133. Time elapsed: 5175.04\n",
      "Epoch [73/200], Loss (last training batch/val): 0.0053/0.0136. Time elapsed: 5248.19\n",
      "Epoch [74/200], Loss (last training batch/val): 0.0131/0.0147. Time elapsed: 5321.32\n",
      "Epoch [75/200], Loss (last training batch/val): 0.0090/0.0134. Time elapsed: 5394.38\n",
      "Epoch [76/200], Loss (last training batch/val): 0.0142/0.0128. Time elapsed: 5467.21\n",
      "Epoch [77/200], Loss (last training batch/val): 0.0039/0.0133. Time elapsed: 5539.83\n",
      "Epoch [78/200], Loss (last training batch/val): 0.0122/0.0137. Time elapsed: 5612.06\n",
      "Epoch [79/200], Loss (last training batch/val): 0.0064/0.0139. Time elapsed: 5683.98\n",
      "Epoch [80/200], Loss (last training batch/val): 0.0134/0.0136. Time elapsed: 5756.34\n",
      "Epoch [81/200], Loss (last training batch/val): 0.0054/0.0133. Time elapsed: 5828.88\n",
      "Epoch [82/200], Loss (last training batch/val): 0.0057/0.0142. Time elapsed: 5901.04\n",
      "Epoch [83/200], Loss (last training batch/val): 0.0102/0.0124. Time elapsed: 5973.22\n",
      "Epoch [84/200], Loss (last training batch/val): 0.0098/0.0122. Time elapsed: 6045.31\n",
      "Epoch [85/200], Loss (last training batch/val): 0.0241/0.0193. Time elapsed: 6117.43\n",
      "Epoch [86/200], Loss (last training batch/val): 0.0058/0.0126. Time elapsed: 6189.56\n",
      "Epoch [87/200], Loss (last training batch/val): 0.0247/0.0136. Time elapsed: 6261.74\n",
      "Epoch [88/200], Loss (last training batch/val): 0.0105/0.0132. Time elapsed: 6333.91\n",
      "Epoch [89/200], Loss (last training batch/val): 0.0283/0.0122. Time elapsed: 6405.94\n",
      "Epoch [90/200], Loss (last training batch/val): 0.0180/0.0191. Time elapsed: 6477.95\n",
      "Epoch [91/200], Loss (last training batch/val): 0.0062/0.0142. Time elapsed: 6550.23\n",
      "Epoch [92/200], Loss (last training batch/val): 0.0108/0.0151. Time elapsed: 6622.55\n",
      "Epoch [93/200], Loss (last training batch/val): 0.0163/0.0125. Time elapsed: 6695.17\n",
      "Epoch [94/200], Loss (last training batch/val): 0.0119/0.0137. Time elapsed: 6767.17\n",
      "Epoch [95/200], Loss (last training batch/val): 0.0063/0.0120. Time elapsed: 6839.40\n",
      "Epoch [96/200], Loss (last training batch/val): 0.0025/0.0135. Time elapsed: 6911.76\n",
      "Epoch [97/200], Loss (last training batch/val): 0.0029/0.0127. Time elapsed: 6984.08\n",
      "Epoch [98/200], Loss (last training batch/val): 0.0174/0.0248. Time elapsed: 7056.06\n",
      "Epoch [99/200], Loss (last training batch/val): 0.0262/0.0128. Time elapsed: 7127.85\n",
      "Epoch [100/200], Loss (last training batch/val): 0.0126/0.0157. Time elapsed: 7200.02\n",
      "Epoch [101/200], Loss (last training batch/val): 0.0122/0.0124. Time elapsed: 7272.71\n",
      "Epoch [102/200], Loss (last training batch/val): 0.0175/0.0314. Time elapsed: 7344.67\n",
      "Epoch [103/200], Loss (last training batch/val): 0.0040/0.0119. Time elapsed: 7416.81\n",
      "Epoch [104/200], Loss (last training batch/val): 0.0075/0.0123. Time elapsed: 7489.11\n",
      "Epoch [105/200], Loss (last training batch/val): 0.0084/0.0134. Time elapsed: 7561.41\n",
      "Epoch [106/200], Loss (last training batch/val): 0.0059/0.0161. Time elapsed: 7633.84\n",
      "Epoch [107/200], Loss (last training batch/val): 0.0162/0.0125. Time elapsed: 7705.99\n",
      "Epoch [108/200], Loss (last training batch/val): 0.0162/0.0118. Time elapsed: 7778.01\n",
      "Epoch [109/200], Loss (last training batch/val): 0.0305/0.0167. Time elapsed: 7850.25\n",
      "Epoch [110/200], Loss (last training batch/val): 0.0099/0.0121. Time elapsed: 7922.57\n",
      "Epoch [111/200], Loss (last training batch/val): 0.0095/0.0130. Time elapsed: 7995.34\n",
      "Epoch [112/200], Loss (last training batch/val): 0.0153/0.0120. Time elapsed: 8067.64\n",
      "Epoch [113/200], Loss (last training batch/val): 0.0018/0.0137. Time elapsed: 8139.72\n",
      "Epoch [114/200], Loss (last training batch/val): 0.0084/0.0217. Time elapsed: 8212.15\n",
      "Epoch [115/200], Loss (last training batch/val): 0.0099/0.0120. Time elapsed: 8284.23\n",
      "Epoch [116/200], Loss (last training batch/val): 0.0070/0.0138. Time elapsed: 8356.22\n",
      "Epoch [117/200], Loss (last training batch/val): 0.0069/0.0114. Time elapsed: 8428.41\n",
      "Epoch [118/200], Loss (last training batch/val): 0.0061/0.0114. Time elapsed: 8500.66\n",
      "Epoch [119/200], Loss (last training batch/val): 0.0122/0.0120. Time elapsed: 8573.41\n",
      "Epoch [120/200], Loss (last training batch/val): 0.0156/0.0113. Time elapsed: 8646.11\n",
      "Epoch [121/200], Loss (last training batch/val): 0.0087/0.0126. Time elapsed: 8719.33\n",
      "Epoch [122/200], Loss (last training batch/val): 0.0315/0.0109. Time elapsed: 8792.25\n",
      "Epoch [123/200], Loss (last training batch/val): 0.0020/0.0127. Time elapsed: 8865.46\n",
      "Epoch [124/200], Loss (last training batch/val): 0.0129/0.0135. Time elapsed: 8937.74\n",
      "Epoch [125/200], Loss (last training batch/val): 0.0013/0.0106. Time elapsed: 9010.43\n",
      "Epoch [126/200], Loss (last training batch/val): 0.0125/0.0118. Time elapsed: 9083.05\n",
      "Epoch [127/200], Loss (last training batch/val): 0.0045/0.0111. Time elapsed: 9155.79\n",
      "Epoch [128/200], Loss (last training batch/val): 0.0070/0.0130. Time elapsed: 9228.52\n",
      "Epoch [129/200], Loss (last training batch/val): 0.0091/0.0174. Time elapsed: 9301.18\n",
      "Epoch [130/200], Loss (last training batch/val): 0.0038/0.0111. Time elapsed: 9373.54\n",
      "Epoch [131/200], Loss (last training batch/val): 0.0084/0.0126. Time elapsed: 9446.62\n",
      "Epoch [132/200], Loss (last training batch/val): 0.0031/0.0119. Time elapsed: 9518.97\n",
      "Epoch [133/200], Loss (last training batch/val): 0.0194/0.0111. Time elapsed: 9591.01\n",
      "Epoch [134/200], Loss (last training batch/val): 0.0135/0.0110. Time elapsed: 9663.03\n",
      "Epoch [135/200], Loss (last training batch/val): 0.0117/0.0169. Time elapsed: 9735.13\n",
      "Epoch [136/200], Loss (last training batch/val): 0.0027/0.0188. Time elapsed: 9807.37\n",
      "Epoch [137/200], Loss (last training batch/val): 0.0095/0.0136. Time elapsed: 9879.58\n",
      "Epoch [138/200], Loss (last training batch/val): 0.0065/0.0159. Time elapsed: 9951.76\n",
      "Epoch [139/200], Loss (last training batch/val): 0.0017/0.0107. Time elapsed: 10023.96\n",
      "Epoch [140/200], Loss (last training batch/val): 0.0165/0.0129. Time elapsed: 10096.37\n",
      "Epoch [141/200], Loss (last training batch/val): 0.0173/0.0102. Time elapsed: 10169.21\n",
      "Epoch [142/200], Loss (last training batch/val): 0.0040/0.0123. Time elapsed: 10241.65\n",
      "Epoch [143/200], Loss (last training batch/val): 0.0072/0.0148. Time elapsed: 10314.10\n",
      "Epoch [144/200], Loss (last training batch/val): 0.0114/0.0106. Time elapsed: 10386.85\n",
      "Epoch [145/200], Loss (last training batch/val): 0.0128/0.0110. Time elapsed: 10459.45\n",
      "Epoch [146/200], Loss (last training batch/val): 0.0101/0.0123. Time elapsed: 10531.90\n",
      "Epoch [147/200], Loss (last training batch/val): 0.0097/0.0118. Time elapsed: 10604.16\n",
      "Epoch [148/200], Loss (last training batch/val): 0.0040/0.0110. Time elapsed: 10676.42\n",
      "Epoch [149/200], Loss (last training batch/val): 0.0105/0.0119. Time elapsed: 10748.42\n",
      "Epoch [150/200], Loss (last training batch/val): 0.0126/0.0105. Time elapsed: 10820.22\n",
      "Epoch [151/200], Loss (last training batch/val): 0.0086/0.0111. Time elapsed: 10893.00\n",
      "Epoch [152/200], Loss (last training batch/val): 0.0058/0.0119. Time elapsed: 10965.20\n",
      "Epoch [153/200], Loss (last training batch/val): 0.0087/0.0143. Time elapsed: 11037.38\n",
      "Epoch [154/200], Loss (last training batch/val): 0.0022/0.0102. Time elapsed: 11109.60\n",
      "Epoch [155/200], Loss (last training batch/val): 0.0106/0.0118. Time elapsed: 11181.45\n",
      "Epoch [156/200], Loss (last training batch/val): 0.0013/0.0110. Time elapsed: 11253.71\n",
      "Epoch [157/200], Loss (last training batch/val): 0.0085/0.0122. Time elapsed: 11325.72\n",
      "Epoch [158/200], Loss (last training batch/val): 0.0145/0.0110. Time elapsed: 11397.70\n",
      "Epoch [159/200], Loss (last training batch/val): 0.0127/0.0111. Time elapsed: 11469.66\n",
      "Epoch [160/200], Loss (last training batch/val): 0.0110/0.0105. Time elapsed: 11541.93\n",
      "Epoch [161/200], Loss (last training batch/val): 0.0048/0.0122. Time elapsed: 11614.63\n",
      "Epoch [162/200], Loss (last training batch/val): 0.0121/0.0174. Time elapsed: 11686.88\n",
      "Epoch [163/200], Loss (last training batch/val): 0.0076/0.0109. Time elapsed: 11758.67\n",
      "Epoch [164/200], Loss (last training batch/val): 0.0035/0.0101. Time elapsed: 11830.98\n",
      "Epoch [165/200], Loss (last training batch/val): 0.0197/0.0181. Time elapsed: 11903.32\n",
      "Epoch [166/200], Loss (last training batch/val): 0.0062/0.0152. Time elapsed: 11975.79\n",
      "Epoch [167/200], Loss (last training batch/val): 0.0108/0.0106. Time elapsed: 12048.09\n",
      "Epoch [168/200], Loss (last training batch/val): 0.0105/0.0114. Time elapsed: 12120.32\n",
      "Epoch [169/200], Loss (last training batch/val): 0.0101/0.0112. Time elapsed: 12192.16\n",
      "Epoch [170/200], Loss (last training batch/val): 0.0230/0.0101. Time elapsed: 12264.64\n",
      "Epoch [171/200], Loss (last training batch/val): 0.0209/0.0103. Time elapsed: 12337.84\n",
      "Epoch [172/200], Loss (last training batch/val): 0.0170/0.0141. Time elapsed: 12410.78\n",
      "Epoch [173/200], Loss (last training batch/val): 0.0052/0.0152. Time elapsed: 12483.83\n",
      "Epoch [174/200], Loss (last training batch/val): 0.0130/0.0118. Time elapsed: 12557.05\n",
      "Epoch [175/200], Loss (last training batch/val): 0.0027/0.0129. Time elapsed: 12629.71\n",
      "Epoch [176/200], Loss (last training batch/val): 0.0083/0.0104. Time elapsed: 12702.27\n",
      "Epoch [177/200], Loss (last training batch/val): 0.0060/0.0108. Time elapsed: 12774.47\n",
      "Epoch [178/200], Loss (last training batch/val): 0.0021/0.0109. Time elapsed: 12846.73\n",
      "Epoch [179/200], Loss (last training batch/val): 0.0018/0.0116. Time elapsed: 12918.38\n",
      "Epoch [180/200], Loss (last training batch/val): 0.0150/0.0122. Time elapsed: 12989.86\n",
      "Epoch [181/200], Loss (last training batch/val): 0.0034/0.0105. Time elapsed: 13061.53\n",
      "Epoch [182/200], Loss (last training batch/val): 0.0136/0.0105. Time elapsed: 13133.13\n",
      "Epoch [183/200], Loss (last training batch/val): 0.0138/0.0105. Time elapsed: 13204.74\n",
      "Epoch [184/200], Loss (last training batch/val): 0.0069/0.0129. Time elapsed: 13276.01\n",
      "Epoch [185/200], Loss (last training batch/val): 0.0220/0.0151. Time elapsed: 13347.42\n",
      "Epoch [186/200], Loss (last training batch/val): 0.0054/0.0116. Time elapsed: 13418.75\n",
      "Epoch [187/200], Loss (last training batch/val): 0.0108/0.0108. Time elapsed: 13489.94\n",
      "Epoch [188/200], Loss (last training batch/val): 0.0041/0.0108. Time elapsed: 13561.18\n",
      "Epoch [189/200], Loss (last training batch/val): 0.0106/0.0106. Time elapsed: 13632.59\n",
      "Epoch [190/200], Loss (last training batch/val): 0.0191/0.0107. Time elapsed: 13703.91\n",
      "Epoch [191/200], Loss (last training batch/val): 0.0173/0.0112. Time elapsed: 13775.68\n",
      "Epoch [192/200], Loss (last training batch/val): 0.0097/0.0103. Time elapsed: 13846.48\n",
      "Epoch [193/200], Loss (last training batch/val): 0.0098/0.0143. Time elapsed: 13917.68\n",
      "Epoch [194/200], Loss (last training batch/val): 0.0133/0.0107. Time elapsed: 13988.59\n",
      "Epoch [195/200], Loss (last training batch/val): 0.0052/0.0112. Time elapsed: 14059.52\n",
      "Epoch [196/200], Loss (last training batch/val): 0.0134/0.0107. Time elapsed: 14130.60\n",
      "Epoch [197/200], Loss (last training batch/val): 0.0306/0.0105. Time elapsed: 14201.33\n",
      "Epoch [198/200], Loss (last training batch/val): 0.0029/0.0123. Time elapsed: 14271.84\n",
      "Epoch [199/200], Loss (last training batch/val): 0.0062/0.0109. Time elapsed: 14342.67\n",
      "Epoch [200/200], Loss (last training batch/val): 0.0022/0.0138. Time elapsed: 14413.50\n"
     ]
    }
   ],
   "source": [
    "optimizer = optim.RMSprop(model.parameters(), lr=0.001, centered=True)\n",
    "start = time.time()\n",
    "for epoch in range(num_epochs):\n",
    "    model.train()\n",
    "    # noinspection PyTypeChecker\n",
    "    for data in train_dl:\n",
    "        data = data.to(device)\n",
    "        optimizer.zero_grad()\n",
    "        out = model(data)\n",
    "        loss = loss_fn(out.squeeze(), data.y.float()/data.batch.unique(return_counts=True)[1])\n",
    "        losses.append(loss.item())  # history\n",
    "        # optimize\n",
    "        loss.backward()\n",
    "        optimizer.step()\n",
    "        # stats\n",
    "        learning_rates.append(-1)\n",
    "\n",
    "    # evaluation\n",
    "    model.eval()\n",
    "    agg_loss = torch.tensor(0.0)\n",
    "    with torch.autograd.no_grad():\n",
    "        # noinspection PyTypeChecker\n",
    "        for data in val_dl:\n",
    "            data = data.to(device)\n",
    "            out = model(data)\n",
    "            agg_loss += loss_fn(out.squeeze(), data.y.float()/data.batch.unique(return_counts=True)[1])\n",
    "        val_losses.append(agg_loss.item()/test_batches)\n",
    "    \n",
    "    if not silent:\n",
    "        print(\n",
    "            \"Epoch [{}/{}], Loss (last training batch/val): {:.4f}/{:.4f}. Time elapsed: {:.2f}\".format(\n",
    "                epoch + 1,\n",
    "                num_epochs,\n",
    "                losses[-1],\n",
    "                val_losses[-1],\n",
    "                time.time() - start,\n",
    "            )\n",
    "        )\n",
    "    if (epoch+1) % 10 == 0:\n",
    "        with open('/content/gdrive/My Drive/data/processed/model2_{}.txt', 'w') as fout:\n",
    "            fout.write(\" \".join(map(str, losses))+\"\\n\")\n",
    "            fout.write(\" \".join(map(str, val_losses))+\"\\n\")\n",
    "        torch.save(model.state_dict(), '/content/gdrive/My Drive/data/processed/model2_{}.pt'.format(epoch))"
   ]
  },
  {
   "cell_type": "code",
   "execution_count": null,
   "metadata": {
    "colab": {},
    "colab_type": "code",
    "id": "aM1qbDGbMvGY"
   },
   "outputs": [],
   "source": [
    "# finetuning\n",
    "optimizer = optim.RMSprop(model.parameters(), lr=0.00004, centered=True)\n",
    "start = time.time()\n",
    "for epoch in range(epoch, epoch+50):\n",
    "    model.train()\n",
    "    # noinspection PyTypeChecker\n",
    "    for data in train_dl:\n",
    "        data = data.to(device)\n",
    "        optimizer.zero_grad()\n",
    "        out = model(data)\n",
    "        loss = loss_fn(out.squeeze(), data.y.float()/data.batch.unique(return_counts=True)[1])\n",
    "        losses.append(loss.item())  # history\n",
    "        # optimize\n",
    "        loss.backward()\n",
    "        optimizer.step()\n",
    "        # stats\n",
    "        learning_rates.append(-1)\n",
    "\n",
    "    # evaluation\n",
    "    model.eval()\n",
    "    agg_loss = torch.tensor(0.0)\n",
    "    with torch.autograd.no_grad():\n",
    "        # noinspection PyTypeChecker\n",
    "        for data in val_dl:\n",
    "            data = data.to(device)\n",
    "            out = model(data)\n",
    "            agg_loss += loss_fn(out.squeeze(), data.y.float()/data.batch.unique(return_counts=True)[1])\n",
    "        val_losses.append(agg_loss.item()/test_batches)\n",
    "    \n",
    "    if not silent:\n",
    "        print(\n",
    "            \"Epoch [{}/{}], Loss (last training batch/val): {:.4f}/{:.4f}. Time elapsed: {:.2f}\".format(\n",
    "                epoch + 1,\n",
    "                num_epochs+50,\n",
    "                losses[-1],\n",
    "                val_losses[-1],\n",
    "                time.time() - start,\n",
    "            )\n",
    "        )\n",
    "    if (epoch+1) % 10 == 0:\n",
    "        with open('/content/gdrive/My Drive/data/processed/model2_{}.txt', 'w') as fout:\n",
    "            fout.write(\" \".join(map(str, losses))+\"\\n\")\n",
    "            fout.write(\" \".join(map(str, val_losses))+\"\\n\")\n",
    "        torch.save(model.state_dict(), '/content/gdrive/My Drive/data/processed/model2_{}.pt'.format(epoch))"
   ]
  },
  {
   "cell_type": "code",
   "execution_count": null,
   "metadata": {
    "colab": {},
    "colab_type": "code",
    "id": "oAoX-NM2UNpr"
   },
   "outputs": [],
   "source": [
    "output = []\n",
    "target = []\n",
    "with torch.no_grad():\n",
    "    for batch in val_dl:\n",
    "        target.append((batch.y.float()/batch.batch.unique(return_counts=True)[1]).squeeze())\n",
    "        output.append(model(batch.to(torch.device('cuda'))).detach().cpu().squeeze())"
   ]
  },
  {
   "cell_type": "code",
   "execution_count": null,
   "metadata": {
    "colab": {},
    "colab_type": "code",
    "id": "-MsmVVOKYOhd"
   },
   "outputs": [],
   "source": [
    "output = torch.cat(output)\n",
    "target = torch.cat(target)"
   ]
  },
  {
   "cell_type": "code",
   "execution_count": null,
   "metadata": {
    "colab": {
     "base_uri": "https://localhost:8080/",
     "height": 282
    },
    "colab_type": "code",
    "id": "wBlK4N8OUU8q",
    "outputId": "29148088-102f-445c-e3a7-01048ec8c3e7"
   },
   "outputs": [
    {
     "data": {
      "text/plain": [
       "<matplotlib.axes._subplots.AxesSubplot at 0x7fe72c99cb00>"
      ]
     },
     "execution_count": 34,
     "metadata": {
      "tags": []
     },
     "output_type": "execute_result"
    },
    {
     "data": {
      "image/png": "[encoded data removed]",
      "text/plain": [
       "<Figure size 432x288 with 1 Axes>"
      ]
     },
     "metadata": {
      "tags": []
     },
     "output_type": "display_data"
    }
   ],
   "source": [
    "# Validation predictions\n",
    "sns.scatterplot(x=target, y=output)"
   ]
  },
  {
   "cell_type": "code",
   "execution_count": null,
   "metadata": {
    "colab": {},
    "colab_type": "code",
    "id": "5pe3U_lZU6Bp"
   },
   "outputs": [],
   "source": [
    "test_data = MAGraph(\n",
    "    '/content/gdrive/My Drive/data/Archaea',\n",
    "    [],\n",
    "    '',\n",
    "    [],\n",
    "    lambda x: torch.zeros(1550)\n",
    ")\n",
    "test_dl = DataLoader(\n",
    "    test_data, batch_size=20, num_workers=4, \n",
    ")"
   ]
  },
  {
   "cell_type": "code",
   "execution_count": null,
   "metadata": {
    "colab": {},
    "colab_type": "code",
    "id": "08Pp4fWGU8ns"
   },
   "outputs": [],
   "source": [
    "output = []\n",
    "target = []\n",
    "with torch.no_grad():\n",
    "    for batch in test_dl:\n",
    "        target.append((batch.y.float()/batch.batch.unique(return_counts=True)[1]).squeeze())\n",
    "        output.append(model(batch.to(device)).detach().cpu().squeeze())\n",
    "\n",
    "output = torch.cat(output)\n",
    "target = torch.cat(target)"
   ]
  },
  {
   "cell_type": "code",
   "execution_count": null,
   "metadata": {
    "colab": {
     "base_uri": "https://localhost:8080/",
     "height": 282
    },
    "colab_type": "code",
    "id": "d06FMiE0tjlL",
    "outputId": "265d27ab-e17f-42aa-a802-c04da2a03507"
   },
   "outputs": [
    {
     "data": {
      "text/plain": [
       "<matplotlib.axes._subplots.AxesSubplot at 0x7fe72cce00b8>"
      ]
     },
     "execution_count": 61,
     "metadata": {
      "tags": []
     },
     "output_type": "execute_result"
    },
    {
     "data": {
      "image/png": "[encoded data removed]",
      "text/plain": [
       "<Figure size 432x288 with 1 Axes>"
      ]
     },
     "metadata": {
      "tags": []
     },
     "output_type": "display_data"
    }
   ],
   "source": [
    "# Predictions with a completely different data\n",
    "sns.scatterplot(x=target, y=output)"
   ]
  },
  {
   "cell_type": "code",
   "execution_count": null,
   "metadata": {
    "colab": {},
    "colab_type": "code",
    "id": "8yGUhR6-4OlD"
   },
   "outputs": [],
   "source": [
    "groups = torch.tensor([\n",
    "[\n",
    "    torch.sum(torch.sort(test_data[i].x[torch.sum(test_data[i].x, dim=1)>0], dim=0)[0] !=\\\n",
    "    torch.sort(test_data[j].x[torch.sum(test_data[j].x, dim=1)>0], dim=0)[0]).item()\n",
    "    for i in range(len(test_data))\n",
    "] for j in range(len(test_data))\n",
    "])"
   ]
  },
  {
   "cell_type": "code",
   "execution_count": null,
   "metadata": {
    "colab": {},
    "colab_type": "code",
    "id": "7i_4xqwE4Dap"
   },
   "outputs": [],
   "source": [
    "grouped_target = torch.stack([target[groups[i]==0] for i in range(372)])\n",
    "grouped_output = torch.stack([output[groups[i]==0] for i in range(372)])"
   ]
  },
  {
   "cell_type": "code",
   "execution_count": null,
   "metadata": {
    "colab": {
     "base_uri": "https://localhost:8080/",
     "height": 34
    },
    "colab_type": "code",
    "id": "AL4SqFHO-YZ6",
    "outputId": "b84c5637-1768-4270-8106-bb162effd323"
   },
   "outputs": [
    {
     "data": {
      "text/plain": [
       "tensor(116)"
      ]
     },
     "execution_count": 69,
     "metadata": {
      "tags": []
     },
     "output_type": "execute_result"
    }
   ],
   "source": [
    "# Correctly predicted best tree of for\n",
    "torch.sum(torch.argmax(grouped_output, dim=1) == torch.argmax(grouped_target, dim=1))"
   ]
  },
  {
   "cell_type": "markdown",
   "metadata": {
    "colab_type": "text",
    "id": "fgzjVs4DNkEJ"
   },
   "source": [
    "The result is not that bad... "
   ]
  },
  {
   "cell_type": "code",
   "execution_count": 2,
   "metadata": {
    "colab": {
     "base_uri": "https://localhost:8080/",
     "height": 34
    },
    "colab_type": "code",
    "id": "2mjm1qKfK8Zn",
    "outputId": "dffbb46c-7c72-49ee-fd65-01301ab71afb"
   },
   "outputs": [
    {
     "data": {
      "text/plain": [
       "0.3118279569892473"
      ]
     },
     "execution_count": 2,
     "metadata": {
      "tags": []
     },
     "output_type": "execute_result"
    }
   ],
   "source": [
    "# Accuracy is\n",
    "116/372"
   ]
  },
  {
   "cell_type": "markdown",
   "metadata": {
    "colab_type": "text",
    "id": "kkjmswXxP-YE"
   },
   "source": [
    "Pretty promising results\n",
    "\n",
    "!!!! THE CODE IS UNDER CONSTRUCTION !!!!"
   ]
  },
  {
   "cell_type": "code",
   "execution_count": null,
   "metadata": {
    "colab": {},
    "colab_type": "code",
    "id": "ngcJcIIwP59a"
   },
   "outputs": [],
   "source": []
  }
 ],
 "metadata": {
  "accelerator": "GPU",
  "colab": {
   "authorship_tag": "ABX9TyN/2/GV5eIreP55ibXf9oYp",
   "collapsed_sections": [],
   "name": "Tree.ipynb",
   "provenance": []
  },
  "kernelspec": {
   "display_name": "Python 3",
   "language": "python",
   "name": "python3"
  },
  "language_info": {
   "codemirror_mode": {
    "name": "ipython",
    "version": 3
   },
   "file_extension": ".py",
   "mimetype": "text/x-python",
   "name": "python",
   "nbconvert_exporter": "python",
   "pygments_lexer": "ipython3",
   "version": "3.8.1"
  }
 },
 "nbformat": 4,
 "nbformat_minor": 4
}
