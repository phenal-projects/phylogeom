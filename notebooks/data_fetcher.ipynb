{
 "cells": [
  {
   "cell_type": "code",
   "execution_count": null,
   "metadata": {
    "pycharm": {
     "is_executing": false
    }
   },
   "outputs": [],
   "source": [
    "import sys\n",
    "sys.path.append('../src/') # for graph_data\n",
    "\n",
    "import graph_data as gd\n",
    "from Bio import Phylo as phy\n",
    "import glob"
   ]
  },
  {
   "cell_type": "markdown",
   "metadata": {},
   "source": [
    "# Make all the necessary data from alignments"
   ]
  },
  {
   "cell_type": "code",
   "execution_count": null,
   "metadata": {
    "pycharm": {
     "is_executing": false
    }
   },
   "outputs": [],
   "source": [
    "# specify your wdir with data\n",
    "data_path = '../data/'\n",
    "# specify your target tree\n",
    "target_tree = phy.read(data_path+\"tree/Other_eukaryota_2018.tre\", 'newick') "
   ]
  },
  {
   "cell_type": "code",
   "execution_count": null,
   "metadata": {
    "pycharm": {
     "is_executing": false
    }
   },
   "outputs": [],
   "source": [
    "# Make trees and labels (best)\n",
    "# First, you need to create data_path+\"tree/Eukaryota/\"\n",
    "# Takes a lot of time\n",
    "gd.labeler(\n",
    "    glob.glob(data_path+\"alns/other_eukaryota_2018/*.fasta\"),\n",
    "    data_path+\"tree/Other_eukaryota_2018.tre\",\n",
    "    data_path+\"tree/Eukaryota/\",\n",
    "    rebuild=True\n",
    ")"
   ]
  },
  {
   "cell_type": "code",
   "execution_count": null,
   "metadata": {
    "pycharm": {
     "name": "#%%\n"
    }
   },
   "outputs": [],
   "source": [
    "# create fml_output dir first. NEEDS FIX!\n",
    "tr = gd.Trees(\n",
    "    data_path+\"tree/Eukaryota/\",\n",
    "    data_path+\"alns/other_eukaryota_2018/\",\n",
    "    target_tree)\n"
   ]
  }
 ],
 "metadata": {
  "kernelspec": {
   "display_name": "Python 3",
   "language": "python",
   "name": "python3"
  },
  "language_info": {
   "codemirror_mode": {
    "name": "ipython",
    "version": 3
   },
   "file_extension": ".py",
   "mimetype": "text/x-python",
   "name": "python",
   "nbconvert_exporter": "python",
   "pygments_lexer": "ipython3",
   "version": "3.8.1"
  },
  "pycharm": {
   "stem_cell": {
    "cell_type": "raw",
    "metadata": {
     "collapsed": false
    },
    "source": []
   }
  }
 },
 "nbformat": 4,
 "nbformat_minor": 4
}
