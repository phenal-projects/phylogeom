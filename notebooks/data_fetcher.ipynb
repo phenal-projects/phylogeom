{
 "cells": [
  {
   "cell_type": "code",
   "execution_count": 1,
   "metadata": {
    "pycharm": {
     "is_executing": false
    }
   },
   "outputs": [],
   "source": [
    "import graph_data as gd\n",
    "from Bio import Phylo as phy\n",
    "import glob"
   ]
  },
  {
   "cell_type": "markdown",
   "metadata": {},
   "source": [
    "# Make all the necessary data from alignments"
   ]
  },
  {
   "cell_type": "code",
   "execution_count": 2,
   "metadata": {
    "pycharm": {
     "is_executing": false
    }
   },
   "outputs": [],
   "source": [
    "# specify your wdir with data\n",
    "data_path = '../data/'\n",
    "# specify your target tree\n",
    "target_tree = phy.read(data_path+\"tree/Other_eukaryota_2018.tre\", 'newick') "
   ]
  },
  {
   "cell_type": "code",
   "execution_count": null,
   "metadata": {
    "pycharm": {
     "is_executing": true
    }
   },
   "outputs": [
    {
     "name": "stdout",
     "text": [
      "\n",
      "PF01480_1 finished\n",
      "\n",
      "PF00160_2 finished\n",
      "\n",
      "PF02148_1 finished\n",
      "\n",
      "PF04851_1 finished\n",
      "\n",
      "PF01991_1 finished\n",
      "\n",
      "PF01248_1 finished\n",
      "\n",
      "PF01956_1 finished\n",
      "\n",
      "PF10598_1 finished\n",
      "\n",
      "PF16969_1 finished\n",
      "\n",
      "PF00828_2 finished\n",
      "\n",
      "PF13639_1 finished\n",
      "\n",
      "PF01134_1 finished\n"
     ],
     "output_type": "stream"
    }
   ],
   "source": [
    "# Make trees and labels (best)\n",
    "gd.labeler(\n",
    "    glob.glob(data_path+\"alns/other_eukaryota_2018/*.fasta\"),\n",
    "    data_path+\"tree/Other_eukaryota_2018.tre\",\n",
    "    data_path+\"tree/Eukaryota/\",\n",
    "    rebuild=True\n",
    ")"
   ]
  },
  {
   "cell_type": "code",
   "execution_count": 8,
   "metadata": {
    "pycharm": {
     "name": "#%%\n"
    }
   },
   "outputs": [
    {
     "name": "stdout",
     "output_type": "stream",
     "text": [
      "Processing...\n",
      "Done!\n"
     ]
    }
   ],
   "source": [
    "# create fml_output dir first. NEEDS FIX!\n",
    "tr = gd.Trees(\n",
    "    data_path+\"tree/Eukaryota/\",\n",
    "    data_path+\"alns/other_eukaryota_2018/\",\n",
    "    target_tree)\n"
   ]
  }
 ],
 "metadata": {
  "kernelspec": {
   "display_name": "Python 3",
   "language": "python",
   "name": "python3"
  },
  "language_info": {
   "codemirror_mode": {
    "name": "ipython",
    "version": 3
   },
   "file_extension": ".py",
   "mimetype": "text/x-python",
   "name": "python",
   "nbconvert_exporter": "python",
   "pygments_lexer": "ipython3",
   "version": "3.7.5"
  },
  "pycharm": {
   "stem_cell": {
    "cell_type": "raw",
    "source": [],
    "metadata": {
     "collapsed": false
    }
   }
  }
 },
 "nbformat": 4,
 "nbformat_minor": 4
}