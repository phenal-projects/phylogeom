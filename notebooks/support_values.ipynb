{
 "cells": [
  {
   "cell_type": "code",
   "execution_count": 1,
   "metadata": {},
   "outputs": [],
   "source": [
    "import graph_data as gd\n",
    "import time\n",
    "import torch\n",
    "from models import TreeSupport\n",
    "from torch import optim\n",
    "from torch.nn import MSELoss\n",
    "from torch.utils.data import random_split, ConcatDataset\n",
    "from torch_geometric.data import DataLoader\n",
    "from Bio import Phylo as phy"
   ]
  },
  {
   "cell_type": "markdown",
   "metadata": {},
   "source": [
    "# Datasets\n",
    "## Prepare trees and reconstructed sequences"
   ]
  },
  {
   "cell_type": "code",
   "execution_count": 2,
   "metadata": {},
   "outputs": [],
   "source": [
    "data_path = 'data/'"
   ]
  },
  {
   "cell_type": "code",
   "execution_count": 3,
   "metadata": {
    "scrolled": true
   },
   "outputs": [],
   "source": [
    "target_tree = phy.read(data_path+'tree/Fungi45_infer/Fungi.tre', 'newick')\n",
    "#all_data = gd.Trees.load_ready_trees(data_path+'tree/Fungi45_infer/fml_output/', data_path+'tree/Fungi45_infer/fml_output/*.tre', target_tree)  # INITIALIZE NEW DS\n",
    "fungi_data = gd.Trees(data_path+'tree/Fungi45_infer/', data_path+'alns/Fungi45/', target_tree)\n",
    "fungi_data.data.x = fungi_data.data.x.float()\n",
    "fungi_data.data.edge_attr = (torch.max(fungi_data.data.edge_attr)+0.001 - fungi_data.data.edge_attr).float()\n",
    "fungi_data.data.edge_index = fungi_data.data.edge_index.long()"
   ]
  },
  {
   "cell_type": "code",
   "execution_count": 4,
   "metadata": {},
   "outputs": [],
   "source": [
    "target_tree = phy.read(data_path+'tree/arch_fung/Archaea.tre', 'newick')\n",
    "#archaea_data = gd.Trees.load_ready_trees(data_path+'tree/Archaea/fml_output/', data_path+'tree/Archaea/fml_output/*.tre', target_tree)  # INITIALIZE NEW DS //delete temp_tree\n",
    "archaea_data = gd.Trees(data_path+\"tree/Archaea/\", data_path+\"alns/Archaea/\", target_tree)\n",
    "archaea_data.data.x = archaea_data.data.x.float()\n",
    "archaea_data.data.edge_attr = (torch.max(archaea_data.data.edge_attr)+0.001 - archaea_data.data.edge_attr).float()\n",
    "archaea_data.data.edge_index = archaea_data.data.edge_index.long()"
   ]
  },
  {
   "cell_type": "code",
   "execution_count": 5,
   "metadata": {},
   "outputs": [],
   "source": [
    "# concatenate datasets\n",
    "all_data =  ConcatDataset([fungi_data, archaea_data])"
   ]
  },
  {
   "cell_type": "code",
   "execution_count": 6,
   "metadata": {},
   "outputs": [],
   "source": [
    "# data preparation\n",
    "train_batch = 1000\n",
    "test_batch = 1000\n",
    "# data loaders\n",
    "train, test = random_split(\n",
    "    all_data, [round(len(all_data) * 0.8), round(len(all_data) * 0.2)]\n",
    ")"
   ]
  },
  {
   "cell_type": "markdown",
   "metadata": {},
   "source": [
    "# Train model"
   ]
  },
  {
   "cell_type": "code",
   "execution_count": 7,
   "metadata": {},
   "outputs": [],
   "source": [
    "train_dl = DataLoader(\n",
    "    train, batch_size=train_batch, pin_memory=True, num_workers=3\n",
    ")\n",
    "test_dl = DataLoader(\n",
    "    test, batch_size=test_batch, num_workers=2\n",
    ")"
   ]
  },
  {
   "cell_type": "code",
   "execution_count": 8,
   "metadata": {},
   "outputs": [],
   "source": [
    "model = TreeSupport(231, 400)\n",
    "model = model.cuda()\n",
    "silent = False\n",
    "num_epochs = 200\n",
    "loss_fn = MSELoss()\n",
    "test_batches = len(test_dl)\n",
    "# stattr\n",
    "losses = []\n",
    "val_losses = []\n",
    "learning_rates = []"
   ]
  },
  {
   "cell_type": "code",
   "execution_count": 9,
   "metadata": {},
   "outputs": [
    {
     "name": "stdout",
     "output_type": "stream",
     "text": [
      "Epoch [1/600], Loss (last training batch/val): 0.4372/0.3574. Time elapsed: 1.81\n",
      "Epoch [2/600], Loss (last training batch/val): 0.3595/0.3438. Time elapsed: 3.37\n",
      "Epoch [3/600], Loss (last training batch/val): 0.3403/0.3326. Time elapsed: 4.93\n",
      "Epoch [4/600], Loss (last training batch/val): 0.3301/0.3274. Time elapsed: 6.49\n",
      "Epoch [5/600], Loss (last training batch/val): 0.3213/0.3225. Time elapsed: 8.10\n",
      "Epoch [6/600], Loss (last training batch/val): 0.3136/0.3233. Time elapsed: 9.66\n",
      "Epoch [7/600], Loss (last training batch/val): 0.3073/0.3147. Time elapsed: 11.23\n",
      "Epoch [8/600], Loss (last training batch/val): 0.3037/0.3153. Time elapsed: 12.79\n",
      "Epoch [9/600], Loss (last training batch/val): 0.3006/0.3114. Time elapsed: 14.36\n",
      "Epoch [10/600], Loss (last training batch/val): 0.3002/0.3110. Time elapsed: 15.94\n",
      "Epoch [11/600], Loss (last training batch/val): 0.2949/0.3361. Time elapsed: 17.50\n",
      "Epoch [12/600], Loss (last training batch/val): 0.2935/0.3387. Time elapsed: 19.08\n",
      "Epoch [13/600], Loss (last training batch/val): 0.2900/0.3005. Time elapsed: 20.68\n",
      "Epoch [14/600], Loss (last training batch/val): 0.2879/0.3489. Time elapsed: 22.25\n",
      "Epoch [15/600], Loss (last training batch/val): 0.2858/0.3040. Time elapsed: 23.81\n",
      "Epoch [16/600], Loss (last training batch/val): 0.2799/0.3468. Time elapsed: 25.39\n",
      "Epoch [17/600], Loss (last training batch/val): 0.2763/0.3388. Time elapsed: 26.95\n",
      "Epoch [18/600], Loss (last training batch/val): 0.2741/0.3700. Time elapsed: 28.52\n",
      "Epoch    18: reducing learning rate of group 0 to 1.5000e-04.\n",
      "Epoch [19/600], Loss (last training batch/val): 0.2672/0.3032. Time elapsed: 30.09\n",
      "Epoch [20/600], Loss (last training batch/val): 0.2652/0.3312. Time elapsed: 31.72\n",
      "Epoch [21/600], Loss (last training batch/val): 0.2604/0.3494. Time elapsed: 33.30\n",
      "Epoch [22/600], Loss (last training batch/val): 0.2573/0.3079. Time elapsed: 34.86\n",
      "Epoch [23/600], Loss (last training batch/val): 0.2520/0.3304. Time elapsed: 36.43\n",
      "Epoch [24/600], Loss (last training batch/val): 0.2478/0.2836. Time elapsed: 37.99\n",
      "Epoch [25/600], Loss (last training batch/val): 0.2446/0.3295. Time elapsed: 39.57\n",
      "Epoch [26/600], Loss (last training batch/val): 0.2411/0.2998. Time elapsed: 41.15\n",
      "Epoch [27/600], Loss (last training batch/val): 0.2373/0.2864. Time elapsed: 42.71\n",
      "Epoch [28/600], Loss (last training batch/val): 0.2352/0.3069. Time elapsed: 44.28\n",
      "Epoch [29/600], Loss (last training batch/val): 0.2282/0.2788. Time elapsed: 45.85\n",
      "Epoch [30/600], Loss (last training batch/val): 0.2267/0.2713. Time elapsed: 47.43\n",
      "Epoch [31/600], Loss (last training batch/val): 0.2221/0.2801. Time elapsed: 49.00\n",
      "Epoch [32/600], Loss (last training batch/val): 0.2179/0.2517. Time elapsed: 50.56\n",
      "Epoch [33/600], Loss (last training batch/val): 0.2144/0.2483. Time elapsed: 52.13\n",
      "Epoch [34/600], Loss (last training batch/val): 0.2131/0.2118. Time elapsed: 53.69\n",
      "Epoch [35/600], Loss (last training batch/val): 0.2095/0.1914. Time elapsed: 55.28\n",
      "Epoch [36/600], Loss (last training batch/val): 0.2087/0.1953. Time elapsed: 56.86\n",
      "Epoch [37/600], Loss (last training batch/val): 0.2003/0.2130. Time elapsed: 58.50\n",
      "Epoch [38/600], Loss (last training batch/val): 0.2012/0.2094. Time elapsed: 60.08\n",
      "Epoch [39/600], Loss (last training batch/val): 0.1953/0.1858. Time elapsed: 61.65\n",
      "Epoch [40/600], Loss (last training batch/val): 0.1942/0.1894. Time elapsed: 63.41\n",
      "Epoch [41/600], Loss (last training batch/val): 0.1891/0.1694. Time elapsed: 64.97\n",
      "Epoch [42/600], Loss (last training batch/val): 0.1858/0.1682. Time elapsed: 66.60\n",
      "Epoch [43/600], Loss (last training batch/val): 0.1898/0.2466. Time elapsed: 68.44\n",
      "Epoch [44/600], Loss (last training batch/val): 0.1941/0.1714. Time elapsed: 70.39\n",
      "Epoch [45/600], Loss (last training batch/val): 0.1863/0.1675. Time elapsed: 71.97\n",
      "Epoch [46/600], Loss (last training batch/val): 0.1818/0.1645. Time elapsed: 74.25\n",
      "Epoch [47/600], Loss (last training batch/val): 0.1779/0.1621. Time elapsed: 75.84\n",
      "Epoch [48/600], Loss (last training batch/val): 0.1760/0.1586. Time elapsed: 77.40\n",
      "Epoch [49/600], Loss (last training batch/val): 0.1726/0.1552. Time elapsed: 78.97\n",
      "Epoch [50/600], Loss (last training batch/val): 0.1701/0.1524. Time elapsed: 80.55\n",
      "Epoch [51/600], Loss (last training batch/val): 0.1672/0.1499. Time elapsed: 82.13\n",
      "Epoch [52/600], Loss (last training batch/val): 0.1764/0.1490. Time elapsed: 83.69\n",
      "Epoch [53/600], Loss (last training batch/val): 0.1680/0.1475. Time elapsed: 85.27\n",
      "Epoch [54/600], Loss (last training batch/val): 0.1620/0.1464. Time elapsed: 86.84\n",
      "Epoch [55/600], Loss (last training batch/val): 0.1594/0.1424. Time elapsed: 88.72\n",
      "Epoch [56/600], Loss (last training batch/val): 0.1568/0.1401. Time elapsed: 90.31\n",
      "Epoch [57/600], Loss (last training batch/val): 0.1554/0.1415. Time elapsed: 91.88\n",
      "Epoch [58/600], Loss (last training batch/val): 0.1594/0.1939. Time elapsed: 93.47\n",
      "Epoch [59/600], Loss (last training batch/val): 0.1828/0.1546. Time elapsed: 95.98\n",
      "Epoch [60/600], Loss (last training batch/val): 0.1680/0.1557. Time elapsed: 97.65\n",
      "Epoch [61/600], Loss (last training batch/val): 0.1588/0.1449. Time elapsed: 99.22\n",
      "Epoch [62/600], Loss (last training batch/val): 0.1567/0.1375. Time elapsed: 101.70\n",
      "Epoch [63/600], Loss (last training batch/val): 0.1515/0.1387. Time elapsed: 103.65\n",
      "Epoch [64/600], Loss (last training batch/val): 0.1530/0.1342. Time elapsed: 105.36\n",
      "Epoch [65/600], Loss (last training batch/val): 0.1489/0.1314. Time elapsed: 107.56\n",
      "Epoch [66/600], Loss (last training batch/val): 0.1484/0.1288. Time elapsed: 109.14\n",
      "Epoch [67/600], Loss (last training batch/val): 0.1581/0.1276. Time elapsed: 111.39\n",
      "Epoch [68/600], Loss (last training batch/val): 0.1463/0.1342. Time elapsed: 112.96\n",
      "Epoch [69/600], Loss (last training batch/val): 0.1503/0.1292. Time elapsed: 115.17\n",
      "Epoch [70/600], Loss (last training batch/val): 0.1450/0.1455. Time elapsed: 116.79\n",
      "Epoch [71/600], Loss (last training batch/val): 0.1485/0.1360. Time elapsed: 118.44\n",
      "Epoch [72/600], Loss (last training batch/val): 0.1457/0.1239. Time elapsed: 120.59\n",
      "Epoch [73/600], Loss (last training batch/val): 0.1407/0.1217. Time elapsed: 122.15\n",
      "Epoch [74/600], Loss (last training batch/val): 0.1390/0.1486. Time elapsed: 124.22\n",
      "Epoch [75/600], Loss (last training batch/val): 0.1500/0.1241. Time elapsed: 125.79\n",
      "Epoch [76/600], Loss (last training batch/val): 0.1398/0.1255. Time elapsed: 127.43\n",
      "Epoch [77/600], Loss (last training batch/val): 0.1378/0.1192. Time elapsed: 129.63\n",
      "Epoch [78/600], Loss (last training batch/val): 0.1394/0.1410. Time elapsed: 131.20\n",
      "Epoch [79/600], Loss (last training batch/val): 0.1390/0.1199. Time elapsed: 133.27\n",
      "Epoch [80/600], Loss (last training batch/val): 0.1363/0.1195. Time elapsed: 134.84\n",
      "Epoch [81/600], Loss (last training batch/val): 0.1333/0.1149. Time elapsed: 136.42\n",
      "Epoch [82/600], Loss (last training batch/val): 0.1320/0.1153. Time elapsed: 137.98\n",
      "Epoch [83/600], Loss (last training batch/val): 0.1322/0.1116. Time elapsed: 139.85\n",
      "Epoch [84/600], Loss (last training batch/val): 0.1324/0.1109. Time elapsed: 141.80\n",
      "Epoch [85/600], Loss (last training batch/val): 0.1291/0.1123. Time elapsed: 143.37\n",
      "Epoch [86/600], Loss (last training batch/val): 0.1296/0.1145. Time elapsed: 145.65\n",
      "Epoch [87/600], Loss (last training batch/val): 0.1333/0.1342. Time elapsed: 147.24\n",
      "Epoch [88/600], Loss (last training batch/val): 0.1308/0.1106. Time elapsed: 149.24\n",
      "Epoch [89/600], Loss (last training batch/val): 0.1300/0.1106. Time elapsed: 150.82\n",
      "Epoch [90/600], Loss (last training batch/val): 0.1291/0.1105. Time elapsed: 153.35\n",
      "Epoch [91/600], Loss (last training batch/val): 0.1263/0.1066. Time elapsed: 155.00\n",
      "Epoch [92/600], Loss (last training batch/val): 0.1243/0.1050. Time elapsed: 156.67\n",
      "Epoch [93/600], Loss (last training batch/val): 0.1265/0.1062. Time elapsed: 158.82\n",
      "Epoch [94/600], Loss (last training batch/val): 0.1400/0.1049. Time elapsed: 160.44\n",
      "Epoch [95/600], Loss (last training batch/val): 0.1260/0.1130. Time elapsed: 162.70\n",
      "Epoch [96/600], Loss (last training batch/val): 0.1221/0.1081. Time elapsed: 164.28\n",
      "Epoch [97/600], Loss (last training batch/val): 0.1220/0.1021. Time elapsed: 166.75\n",
      "Epoch [98/600], Loss (last training batch/val): 0.1204/0.1009. Time elapsed: 168.33\n",
      "Epoch [99/600], Loss (last training batch/val): 0.2089/0.1276. Time elapsed: 170.57\n",
      "Epoch [100/600], Loss (last training batch/val): 0.1433/0.1217. Time elapsed: 172.19\n",
      "Epoch [101/600], Loss (last training batch/val): 0.1378/0.1125. Time elapsed: 173.76\n",
      "Epoch [102/600], Loss (last training batch/val): 0.1314/0.1073. Time elapsed: 175.35\n",
      "Epoch [103/600], Loss (last training batch/val): 0.1295/0.1295. Time elapsed: 177.19\n",
      "Epoch   103: reducing learning rate of group 0 to 7.5000e-05.\n",
      "Epoch [104/600], Loss (last training batch/val): 0.1363/0.1031. Time elapsed: 178.76\n",
      "Epoch [105/600], Loss (last training batch/val): 0.1235/0.1026. Time elapsed: 181.27\n",
      "Epoch [106/600], Loss (last training batch/val): 0.1197/0.0997. Time elapsed: 183.09\n",
      "Epoch [107/600], Loss (last training batch/val): 0.1187/0.0979. Time elapsed: 184.66\n",
      "Epoch [108/600], Loss (last training batch/val): 0.1183/0.0977. Time elapsed: 186.94\n",
      "Epoch [109/600], Loss (last training batch/val): 0.1163/0.0966. Time elapsed: 188.52\n",
      "Epoch [110/600], Loss (last training batch/val): 0.1153/0.0959. Time elapsed: 190.97\n",
      "Epoch [111/600], Loss (last training batch/val): 0.1147/0.0957. Time elapsed: 192.55\n",
      "Epoch [112/600], Loss (last training batch/val): 0.1142/0.0953. Time elapsed: 194.92\n",
      "Epoch [113/600], Loss (last training batch/val): 0.1146/0.0955. Time elapsed: 197.07\n",
      "Epoch [114/600], Loss (last training batch/val): 0.1132/0.0962. Time elapsed: 198.65\n",
      "Epoch [115/600], Loss (last training batch/val): 0.1125/0.0951. Time elapsed: 200.80\n",
      "Epoch [116/600], Loss (last training batch/val): 0.1134/0.0947. Time elapsed: 202.40\n",
      "Epoch [117/600], Loss (last training batch/val): 0.1120/0.0938. Time elapsed: 204.16\n",
      "Epoch [118/600], Loss (last training batch/val): 0.1116/0.0934. Time elapsed: 205.74\n",
      "Epoch [119/600], Loss (last training batch/val): 0.1117/0.0932. Time elapsed: 208.18\n",
      "Epoch [120/600], Loss (last training batch/val): 0.1114/0.0928. Time elapsed: 210.19\n",
      "Epoch [121/600], Loss (last training batch/val): 0.1114/0.0932. Time elapsed: 211.76\n",
      "Epoch [122/600], Loss (last training batch/val): 0.1101/0.0937. Time elapsed: 214.01\n",
      "Epoch [123/600], Loss (last training batch/val): 0.1109/0.0950. Time elapsed: 215.58\n",
      "Epoch [124/600], Loss (last training batch/val): 0.1109/0.0933. Time elapsed: 217.75\n",
      "Epoch [125/600], Loss (last training batch/val): 0.1094/0.0931. Time elapsed: 219.39\n",
      "Epoch   125: reducing learning rate of group 0 to 3.7500e-05.\n",
      "Epoch [126/600], Loss (last training batch/val): 0.1114/0.0934. Time elapsed: 221.05\n",
      "Epoch [127/600], Loss (last training batch/val): 0.1090/0.0919. Time elapsed: 223.21\n",
      "Epoch [128/600], Loss (last training batch/val): 0.1088/0.0911. Time elapsed: 224.78\n",
      "Epoch [129/600], Loss (last training batch/val): 0.1095/0.0910. Time elapsed: 226.89\n",
      "Epoch [130/600], Loss (last training batch/val): 0.1088/0.0912. Time elapsed: 228.46\n",
      "Epoch [131/600], Loss (last training batch/val): 0.1083/0.0911. Time elapsed: 230.12\n",
      "Epoch [132/600], Loss (last training batch/val): 0.1078/0.0906. Time elapsed: 232.27\n",
      "Epoch [133/600], Loss (last training batch/val): 0.1089/0.0904. Time elapsed: 233.86\n",
      "Epoch [134/600], Loss (last training batch/val): 0.1069/0.0904. Time elapsed: 236.31\n",
      "Epoch [135/600], Loss (last training batch/val): 0.1087/0.0901. Time elapsed: 237.88\n",
      "Epoch [136/600], Loss (last training batch/val): 0.1084/0.0898. Time elapsed: 240.33\n",
      "Epoch [137/600], Loss (last training batch/val): 0.1077/0.0899. Time elapsed: 242.38\n",
      "Epoch [138/600], Loss (last training batch/val): 0.1075/0.0896. Time elapsed: 243.96\n",
      "Epoch [139/600], Loss (last training batch/val): 0.1062/0.0894. Time elapsed: 246.42\n",
      "Epoch [140/600], Loss (last training batch/val): 0.1076/0.0892. Time elapsed: 248.01\n",
      "Epoch [141/600], Loss (last training batch/val): 0.1077/0.0891. Time elapsed: 250.24\n",
      "Epoch [142/600], Loss (last training batch/val): 0.1072/0.0891. Time elapsed: 251.81\n",
      "Epoch [143/600], Loss (last training batch/val): 0.1068/0.0888. Time elapsed: 254.01\n",
      "Epoch [144/600], Loss (last training batch/val): 0.1070/0.0889. Time elapsed: 255.63\n",
      "Epoch [145/600], Loss (last training batch/val): 0.1063/0.0884. Time elapsed: 257.28\n",
      "Epoch [146/600], Loss (last training batch/val): 0.1060/0.0885. Time elapsed: 259.44\n",
      "Epoch [147/600], Loss (last training batch/val): 0.1065/0.0882. Time elapsed: 261.02\n",
      "Epoch [148/600], Loss (last training batch/val): 0.1057/0.0880. Time elapsed: 263.47\n",
      "Epoch [149/600], Loss (last training batch/val): 0.1054/0.0878. Time elapsed: 265.05\n",
      "Epoch [150/600], Loss (last training batch/val): 0.1056/0.0877. Time elapsed: 267.50\n",
      "Epoch [151/600], Loss (last training batch/val): 0.1057/0.0880. Time elapsed: 269.54\n",
      "Epoch [152/600], Loss (last training batch/val): 0.1062/0.0874. Time elapsed: 271.11\n",
      "Epoch [153/600], Loss (last training batch/val): 0.1055/0.0873. Time elapsed: 273.36\n",
      "Epoch [154/600], Loss (last training batch/val): 0.1049/0.0872. Time elapsed: 274.99\n",
      "Epoch [155/600], Loss (last training batch/val): 0.1046/0.0872. Time elapsed: 277.46\n",
      "Epoch [156/600], Loss (last training batch/val): 0.1049/0.0868. Time elapsed: 279.04\n",
      "Epoch [157/600], Loss (last training batch/val): 0.1052/0.0871. Time elapsed: 281.33\n",
      "Epoch [158/600], Loss (last training batch/val): 0.1046/0.0866. Time elapsed: 282.89\n",
      "Epoch [159/600], Loss (last training batch/val): 0.1045/0.0865. Time elapsed: 284.74\n",
      "Epoch [160/600], Loss (last training batch/val): 0.1033/0.0866. Time elapsed: 286.69\n",
      "Epoch [161/600], Loss (last training batch/val): 0.1034/0.0865. Time elapsed: 288.27\n",
      "Epoch [162/600], Loss (last training batch/val): 0.1040/0.0860. Time elapsed: 290.56\n",
      "Epoch [163/600], Loss (last training batch/val): 0.1036/0.0859. Time elapsed: 292.13\n",
      "Epoch [164/600], Loss (last training batch/val): 0.1037/0.0860. Time elapsed: 294.58\n",
      "Epoch [165/600], Loss (last training batch/val): 0.1033/0.0864. Time elapsed: 296.16\n",
      "Epoch [166/600], Loss (last training batch/val): 0.1037/0.0857. Time elapsed: 298.43\n",
      "Epoch [167/600], Loss (last training batch/val): 0.1033/0.0854. Time elapsed: 300.00\n",
      "Epoch [168/600], Loss (last training batch/val): 0.1029/0.0851. Time elapsed: 301.92\n",
      "Epoch [169/600], Loss (last training batch/val): 0.1032/0.0862. Time elapsed: 303.81\n",
      "Epoch [170/600], Loss (last training batch/val): 0.1040/0.0865. Time elapsed: 305.37\n",
      "Epoch [171/600], Loss (last training batch/val): 0.1040/0.0854. Time elapsed: 307.66\n",
      "Epoch [172/600], Loss (last training batch/val): 0.1024/0.0852. Time elapsed: 309.24\n",
      "Epoch [173/600], Loss (last training batch/val): 0.1031/0.0850. Time elapsed: 311.21\n",
      "Epoch [174/600], Loss (last training batch/val): 0.1030/0.0844. Time elapsed: 312.78\n",
      "Epoch [175/600], Loss (last training batch/val): 0.1016/0.0851. Time elapsed: 315.31\n",
      "Epoch [176/600], Loss (last training batch/val): 0.1024/0.0862. Time elapsed: 316.97\n",
      "Epoch [177/600], Loss (last training batch/val): 0.1037/0.0849. Time elapsed: 318.63\n",
      "Epoch [178/600], Loss (last training batch/val): 0.1016/0.0844. Time elapsed: 321.11\n",
      "Epoch [179/600], Loss (last training batch/val): 0.1024/0.0841. Time elapsed: 322.69\n",
      "Epoch [180/600], Loss (last training batch/val): 0.1017/0.0842. Time elapsed: 325.18\n",
      "Epoch [181/600], Loss (last training batch/val): 0.1022/0.0851. Time elapsed: 326.99\n",
      "Epoch [182/600], Loss (last training batch/val): 0.1016/0.0834. Time elapsed: 328.62\n",
      "Epoch [183/600], Loss (last training batch/val): 0.1017/0.0833. Time elapsed: 330.85\n",
      "Epoch [184/600], Loss (last training batch/val): 0.1006/0.0834. Time elapsed: 332.45\n",
      "Epoch [185/600], Loss (last training batch/val): 0.0993/0.0832. Time elapsed: 334.89\n",
      "Epoch [186/600], Loss (last training batch/val): 0.1000/0.0836. Time elapsed: 336.47\n",
      "Epoch [187/600], Loss (last training batch/val): 0.1004/0.0830. Time elapsed: 338.90\n",
      "Epoch [188/600], Loss (last training batch/val): 0.1008/0.0828. Time elapsed: 340.98\n",
      "Epoch [189/600], Loss (last training batch/val): 0.0994/0.0825. Time elapsed: 342.58\n",
      "Epoch [190/600], Loss (last training batch/val): 0.1003/0.0825. Time elapsed: 344.82\n",
      "Epoch [191/600], Loss (last training batch/val): 0.0994/0.0825. Time elapsed: 346.40\n",
      "Epoch [192/600], Loss (last training batch/val): 0.0996/0.0824. Time elapsed: 348.24\n",
      "Epoch [193/600], Loss (last training batch/val): 0.0989/0.0828. Time elapsed: 349.83\n",
      "Epoch [194/600], Loss (last training batch/val): 0.1003/0.0821. Time elapsed: 351.41\n",
      "Epoch [195/600], Loss (last training batch/val): 0.0996/0.0822. Time elapsed: 353.18\n",
      "Epoch [196/600], Loss (last training batch/val): 0.1001/0.0820. Time elapsed: 354.76\n",
      "Epoch [197/600], Loss (last training batch/val): 0.1003/0.0822. Time elapsed: 357.23\n",
      "Epoch [198/600], Loss (last training batch/val): 0.0991/0.0821. Time elapsed: 359.15\n",
      "Epoch [199/600], Loss (last training batch/val): 0.1002/0.0838. Time elapsed: 360.72\n",
      "Epoch [200/600], Loss (last training batch/val): 0.1015/0.0852. Time elapsed: 363.01\n",
      "Epoch [201/600], Loss (last training batch/val): 0.1017/0.0816. Time elapsed: 364.59\n",
      "Epoch [202/600], Loss (last training batch/val): 0.0989/0.0823. Time elapsed: 367.05\n",
      "Epoch [203/600], Loss (last training batch/val): 0.0995/0.0816. Time elapsed: 368.64\n",
      "Epoch [204/600], Loss (last training batch/val): 0.0985/0.0809. Time elapsed: 370.94\n",
      "Epoch [205/600], Loss (last training batch/val): 0.0978/0.0811. Time elapsed: 372.53\n",
      "Epoch [206/600], Loss (last training batch/val): 0.0987/0.0818. Time elapsed: 374.65\n",
      "Epoch [207/600], Loss (last training batch/val): 0.0995/0.0819. Time elapsed: 377.01\n",
      "Epoch [208/600], Loss (last training batch/val): 0.0997/0.0807. Time elapsed: 378.58\n",
      "Epoch [209/600], Loss (last training batch/val): 0.0979/0.0813. Time elapsed: 381.05\n",
      "Epoch [210/600], Loss (last training batch/val): 0.0984/0.0803. Time elapsed: 382.62\n",
      "Epoch [211/600], Loss (last training batch/val): 0.0979/0.0806. Time elapsed: 384.83\n",
      "Epoch [212/600], Loss (last training batch/val): 0.0981/0.0807. Time elapsed: 387.16\n",
      "Epoch [213/600], Loss (last training batch/val): 0.0984/0.0812. Time elapsed: 388.74\n",
      "Epoch [214/600], Loss (last training batch/val): 0.0973/0.0804. Time elapsed: 391.20\n",
      "Epoch [215/600], Loss (last training batch/val): 0.0973/0.0798. Time elapsed: 392.80\n",
      "Epoch [216/600], Loss (last training batch/val): 0.0971/0.0797. Time elapsed: 395.14\n",
      "Epoch [217/600], Loss (last training batch/val): 0.0967/0.0796. Time elapsed: 396.73\n",
      "Epoch [218/600], Loss (last training batch/val): 0.0972/0.0794. Time elapsed: 398.94\n",
      "Epoch [219/600], Loss (last training batch/val): 0.0968/0.0805. Time elapsed: 400.55\n",
      "Epoch [220/600], Loss (last training batch/val): 0.0973/0.0814. Time elapsed: 402.26\n",
      "Epoch [221/600], Loss (last training batch/val): 0.0998/0.0809. Time elapsed: 404.70\n",
      "Epoch [222/600], Loss (last training batch/val): 0.0985/0.0793. Time elapsed: 406.85\n",
      "Epoch [223/600], Loss (last training batch/val): 0.0960/0.0793. Time elapsed: 409.14\n",
      "Epoch [224/600], Loss (last training batch/val): 0.0971/0.0789. Time elapsed: 410.73\n",
      "Epoch [225/600], Loss (last training batch/val): 0.0956/0.0789. Time elapsed: 412.72\n",
      "Epoch [226/600], Loss (last training batch/val): 0.0959/0.0795. Time elapsed: 414.55\n",
      "Epoch [227/600], Loss (last training batch/val): 0.0984/0.0803. Time elapsed: 416.22\n",
      "Epoch [228/600], Loss (last training batch/val): 0.0973/0.0787. Time elapsed: 418.42\n",
      "Epoch [229/600], Loss (last training batch/val): 0.0970/0.0785. Time elapsed: 420.00\n",
      "Epoch [230/600], Loss (last training batch/val): 0.0951/0.0785. Time elapsed: 422.15\n",
      "Epoch [231/600], Loss (last training batch/val): 0.0956/0.0782. Time elapsed: 423.72\n",
      "Epoch [232/600], Loss (last training batch/val): 0.0960/0.0781. Time elapsed: 426.20\n",
      "Epoch [233/600], Loss (last training batch/val): 0.0947/0.0790. Time elapsed: 427.80\n",
      "Epoch [234/600], Loss (last training batch/val): 0.0968/0.0790. Time elapsed: 429.62\n",
      "Epoch [235/600], Loss (last training batch/val): 0.0963/0.0784. Time elapsed: 432.05\n",
      "Epoch [236/600], Loss (last training batch/val): 0.0961/0.0779. Time elapsed: 433.64\n",
      "Epoch [237/600], Loss (last training batch/val): 0.0955/0.0778. Time elapsed: 435.52\n",
      "Epoch [238/600], Loss (last training batch/val): 0.0949/0.0776. Time elapsed: 437.11\n",
      "Epoch [239/600], Loss (last training batch/val): 0.0947/0.0776. Time elapsed: 439.55\n",
      "Epoch [240/600], Loss (last training batch/val): 0.0952/0.0785. Time elapsed: 441.63\n",
      "Epoch [241/600], Loss (last training batch/val): 0.0953/0.0784. Time elapsed: 443.26\n",
      "Epoch [242/600], Loss (last training batch/val): 0.0961/0.0790. Time elapsed: 445.79\n",
      "Epoch [243/600], Loss (last training batch/val): 0.0978/0.0790. Time elapsed: 447.36\n",
      "Epoch [244/600], Loss (last training batch/val): 0.0963/0.0773. Time elapsed: 449.84\n",
      "Epoch [245/600], Loss (last training batch/val): 0.0947/0.0780. Time elapsed: 451.74\n",
      "Epoch [246/600], Loss (last training batch/val): 0.0961/0.0776. Time elapsed: 453.32\n",
      "Epoch [247/600], Loss (last training batch/val): 0.0952/0.0779. Time elapsed: 455.61\n",
      "Epoch [248/600], Loss (last training batch/val): 0.0939/0.0769. Time elapsed: 457.24\n",
      "Epoch [249/600], Loss (last training batch/val): 0.0943/0.0767. Time elapsed: 459.71\n",
      "Epoch [250/600], Loss (last training batch/val): 0.0938/0.0766. Time elapsed: 461.33\n",
      "Epoch [251/600], Loss (last training batch/val): 0.0946/0.0766. Time elapsed: 463.82\n",
      "Epoch [252/600], Loss (last training batch/val): 0.0953/0.0773. Time elapsed: 465.86\n",
      "Epoch [253/600], Loss (last training batch/val): 0.0948/0.0789. Time elapsed: 467.68\n",
      "Epoch [254/600], Loss (last training batch/val): 0.0961/0.0768. Time elapsed: 470.20\n",
      "Epoch [255/600], Loss (last training batch/val): 0.0940/0.0775. Time elapsed: 471.82\n",
      "Epoch [256/600], Loss (last training batch/val): 0.0946/0.0771. Time elapsed: 473.77\n",
      "Epoch [257/600], Loss (last training batch/val): 0.0934/0.0764. Time elapsed: 475.38\n",
      "Epoch [258/600], Loss (last training batch/val): 0.0935/0.0776. Time elapsed: 477.85\n",
      "Epoch [259/600], Loss (last training batch/val): 0.0950/0.0764. Time elapsed: 479.90\n",
      "Epoch [260/600], Loss (last training batch/val): 0.0934/0.0772. Time elapsed: 481.48\n",
      "Epoch [261/600], Loss (last training batch/val): 0.0950/0.0766. Time elapsed: 483.77\n",
      "Epoch [262/600], Loss (last training batch/val): 0.0934/0.0759. Time elapsed: 485.36\n",
      "Epoch [263/600], Loss (last training batch/val): 0.0937/0.0768. Time elapsed: 487.82\n",
      "Epoch [264/600], Loss (last training batch/val): 0.0934/0.0771. Time elapsed: 489.40\n",
      "Epoch [265/600], Loss (last training batch/val): 0.0946/0.0771. Time elapsed: 491.83\n",
      "Epoch [266/600], Loss (last training batch/val): 0.0939/0.0761. Time elapsed: 493.93\n",
      "Epoch [267/600], Loss (last training batch/val): 0.0944/0.0756. Time elapsed: 495.54\n",
      "Epoch [268/600], Loss (last training batch/val): 0.0927/0.0755. Time elapsed: 498.00\n",
      "Epoch [269/600], Loss (last training batch/val): 0.0931/0.0753. Time elapsed: 499.58\n",
      "Epoch [270/600], Loss (last training batch/val): 0.0923/0.0753. Time elapsed: 502.05\n",
      "Epoch [271/600], Loss (last training batch/val): 0.0928/0.0755. Time elapsed: 504.04\n",
      "Epoch [272/600], Loss (last training batch/val): 0.0929/0.0756. Time elapsed: 505.61\n",
      "Epoch [273/600], Loss (last training batch/val): 0.0929/0.0763. Time elapsed: 507.90\n",
      "Epoch [274/600], Loss (last training batch/val): 0.0927/0.0756. Time elapsed: 509.48\n",
      "Epoch [275/600], Loss (last training batch/val): 0.0935/0.0757. Time elapsed: 511.94\n",
      "Epoch [276/600], Loss (last training batch/val): 0.0922/0.0749. Time elapsed: 513.55\n",
      "Epoch [277/600], Loss (last training batch/val): 0.0926/0.0749. Time elapsed: 515.96\n",
      "Epoch [278/600], Loss (last training batch/val): 0.0917/0.0756. Time elapsed: 518.09\n",
      "Epoch [279/600], Loss (last training batch/val): 0.0928/0.0777. Time elapsed: 519.68\n",
      "Epoch [280/600], Loss (last training batch/val): 0.0932/0.0773. Time elapsed: 522.17\n",
      "Epoch [281/600], Loss (last training batch/val): 0.0951/0.0752. Time elapsed: 523.76\n",
      "Epoch   281: reducing learning rate of group 0 to 1.8750e-05.\n",
      "Epoch [282/600], Loss (last training batch/val): 0.0921/0.0751. Time elapsed: 525.35\n",
      "Epoch [283/600], Loss (last training batch/val): 0.0933/0.0749. Time elapsed: 527.16\n",
      "Epoch [284/600], Loss (last training batch/val): 0.0922/0.0746. Time elapsed: 529.20\n",
      "Epoch [285/600], Loss (last training batch/val): 0.0921/0.0745. Time elapsed: 530.79\n",
      "Epoch [286/600], Loss (last training batch/val): 0.0912/0.0744. Time elapsed: 533.24\n",
      "Epoch [287/600], Loss (last training batch/val): 0.0919/0.0744. Time elapsed: 534.81\n",
      "Epoch [288/600], Loss (last training batch/val): 0.0916/0.0744. Time elapsed: 537.28\n",
      "Epoch [289/600], Loss (last training batch/val): 0.0921/0.0743. Time elapsed: 539.26\n",
      "Epoch [290/600], Loss (last training batch/val): 0.0916/0.0742. Time elapsed: 540.84\n",
      "Epoch [291/600], Loss (last training batch/val): 0.0914/0.0742. Time elapsed: 543.10\n",
      "Epoch [292/600], Loss (last training batch/val): 0.0914/0.0741. Time elapsed: 544.68\n",
      "Epoch [293/600], Loss (last training batch/val): 0.0923/0.0740. Time elapsed: 546.61\n",
      "Epoch [294/600], Loss (last training batch/val): 0.0917/0.0740. Time elapsed: 548.21\n",
      "Epoch [295/600], Loss (last training batch/val): 0.0915/0.0740. Time elapsed: 550.21\n",
      "Epoch [296/600], Loss (last training batch/val): 0.0906/0.0739. Time elapsed: 551.79\n",
      "Epoch [297/600], Loss (last training batch/val): 0.0910/0.0739. Time elapsed: 554.23\n",
      "Epoch [298/600], Loss (last training batch/val): 0.0907/0.0740. Time elapsed: 556.33\n",
      "Epoch [299/600], Loss (last training batch/val): 0.0913/0.0738. Time elapsed: 557.92\n",
      "Epoch [300/600], Loss (last training batch/val): 0.0918/0.0738. Time elapsed: 560.19\n",
      "Epoch [301/600], Loss (last training batch/val): 0.0914/0.0738. Time elapsed: 561.77\n",
      "Epoch [302/600], Loss (last training batch/val): 0.0919/0.0738. Time elapsed: 564.22\n",
      "Epoch [303/600], Loss (last training batch/val): 0.0906/0.0739. Time elapsed: 565.80\n",
      "Epoch [304/600], Loss (last training batch/val): 0.0908/0.0737. Time elapsed: 568.09\n",
      "Epoch [305/600], Loss (last training batch/val): 0.0915/0.0737. Time elapsed: 570.36\n",
      "Epoch [306/600], Loss (last training batch/val): 0.0909/0.0737. Time elapsed: 571.96\n",
      "Epoch [307/600], Loss (last training batch/val): 0.0911/0.0736. Time elapsed: 574.41\n",
      "Epoch [308/600], Loss (last training batch/val): 0.0909/0.0737. Time elapsed: 576.00\n",
      "Epoch [309/600], Loss (last training batch/val): 0.0911/0.0735. Time elapsed: 578.27\n",
      "Epoch [310/600], Loss (last training batch/val): 0.0909/0.0736. Time elapsed: 579.92\n",
      "Epoch [311/600], Loss (last training batch/val): 0.0908/0.0735. Time elapsed: 582.26\n",
      "Epoch [312/600], Loss (last training batch/val): 0.0911/0.0734. Time elapsed: 584.46\n",
      "Epoch [313/600], Loss (last training batch/val): 0.0913/0.0735. Time elapsed: 586.07\n",
      "Epoch [314/600], Loss (last training batch/val): 0.0915/0.0734. Time elapsed: 588.56\n",
      "Epoch [315/600], Loss (last training batch/val): 0.0903/0.0735. Time elapsed: 590.38\n",
      "Epoch [316/600], Loss (last training batch/val): 0.0910/0.0733. Time elapsed: 592.44\n",
      "Epoch [317/600], Loss (last training batch/val): 0.0902/0.0733. Time elapsed: 594.02\n",
      "Epoch [318/600], Loss (last training batch/val): 0.0905/0.0732. Time elapsed: 596.33\n",
      "Epoch [319/600], Loss (last training batch/val): 0.0910/0.0733. Time elapsed: 597.90\n",
      "Epoch [320/600], Loss (last training batch/val): 0.0911/0.0733. Time elapsed: 599.93\n",
      "Epoch [321/600], Loss (last training batch/val): 0.0912/0.0733. Time elapsed: 601.73\n",
      "Epoch [322/600], Loss (last training batch/val): 0.0906/0.0732. Time elapsed: 603.39\n",
      "Epoch [323/600], Loss (last training batch/val): 0.0911/0.0732. Time elapsed: 605.86\n",
      "Epoch [324/600], Loss (last training batch/val): 0.0908/0.0731. Time elapsed: 607.44\n",
      "Epoch [325/600], Loss (last training batch/val): 0.0912/0.0732. Time elapsed: 609.94\n",
      "Epoch [326/600], Loss (last training batch/val): 0.0903/0.0730. Time elapsed: 611.76\n",
      "Epoch [327/600], Loss (last training batch/val): 0.0902/0.0730. Time elapsed: 613.38\n",
      "Epoch [328/600], Loss (last training batch/val): 0.0900/0.0733. Time elapsed: 615.83\n",
      "Epoch [329/600], Loss (last training batch/val): 0.0900/0.0729. Time elapsed: 617.41\n",
      "Epoch [330/600], Loss (last training batch/val): 0.0904/0.0729. Time elapsed: 619.86\n",
      "Epoch [331/600], Loss (last training batch/val): 0.0909/0.0728. Time elapsed: 621.83\n",
      "Epoch [332/600], Loss (last training batch/val): 0.0899/0.0729. Time elapsed: 623.48\n",
      "Epoch [333/600], Loss (last training batch/val): 0.0897/0.0728. Time elapsed: 625.93\n",
      "Epoch [334/600], Loss (last training batch/val): 0.0902/0.0728. Time elapsed: 627.51\n",
      "Epoch [335/600], Loss (last training batch/val): 0.0900/0.0727. Time elapsed: 630.02\n",
      "Epoch [336/600], Loss (last training batch/val): 0.0895/0.0726. Time elapsed: 631.89\n",
      "Epoch [337/600], Loss (last training batch/val): 0.0892/0.0726. Time elapsed: 633.57\n",
      "Epoch [338/600], Loss (last training batch/val): 0.0905/0.0725. Time elapsed: 635.78\n",
      "Epoch [339/600], Loss (last training batch/val): 0.0907/0.0728. Time elapsed: 637.36\n",
      "Epoch [340/600], Loss (last training batch/val): 0.0907/0.0726. Time elapsed: 639.48\n",
      "Epoch [341/600], Loss (last training batch/val): 0.0906/0.0725. Time elapsed: 641.07\n",
      "Epoch [342/600], Loss (last training batch/val): 0.0899/0.0725. Time elapsed: 642.88\n",
      "Epoch [343/600], Loss (last training batch/val): 0.0900/0.0725. Time elapsed: 644.47\n",
      "Epoch [344/600], Loss (last training batch/val): 0.0903/0.0724. Time elapsed: 646.94\n",
      "Epoch [345/600], Loss (last training batch/val): 0.0898/0.0725. Time elapsed: 648.94\n",
      "Epoch [346/600], Loss (last training batch/val): 0.0893/0.0724. Time elapsed: 650.53\n",
      "Epoch [347/600], Loss (last training batch/val): 0.0891/0.0723. Time elapsed: 652.99\n",
      "Epoch [348/600], Loss (last training batch/val): 0.0900/0.0722. Time elapsed: 654.58\n",
      "Epoch [349/600], Loss (last training batch/val): 0.0898/0.0723. Time elapsed: 656.79\n",
      "Epoch [350/600], Loss (last training batch/val): 0.0898/0.0723. Time elapsed: 658.38\n",
      "Epoch [351/600], Loss (last training batch/val): 0.0895/0.0721. Time elapsed: 660.66\n",
      "Epoch [352/600], Loss (last training batch/val): 0.0898/0.0723. Time elapsed: 662.95\n",
      "Epoch [353/600], Loss (last training batch/val): 0.0894/0.0722. Time elapsed: 664.52\n",
      "Epoch [354/600], Loss (last training batch/val): 0.0894/0.0721. Time elapsed: 666.98\n",
      "Epoch [355/600], Loss (last training batch/val): 0.0896/0.0720. Time elapsed: 668.59\n",
      "Epoch [356/600], Loss (last training batch/val): 0.0898/0.0720. Time elapsed: 671.05\n",
      "Epoch [357/600], Loss (last training batch/val): 0.0891/0.0720. Time elapsed: 673.10\n",
      "Epoch [358/600], Loss (last training batch/val): 0.0894/0.0720. Time elapsed: 674.69\n",
      "Epoch [359/600], Loss (last training batch/val): 0.0892/0.0725. Time elapsed: 677.15\n",
      "Epoch [360/600], Loss (last training batch/val): 0.0893/0.0720. Time elapsed: 678.73\n",
      "Epoch [361/600], Loss (last training batch/val): 0.0891/0.0719. Time elapsed: 680.95\n",
      "Epoch [362/600], Loss (last training batch/val): 0.0896/0.0723. Time elapsed: 682.52\n",
      "Epoch [363/600], Loss (last training batch/val): 0.0888/0.0718. Time elapsed: 684.79\n",
      "Epoch [364/600], Loss (last training batch/val): 0.0902/0.0718. Time elapsed: 687.08\n",
      "Epoch [365/600], Loss (last training batch/val): 0.0895/0.0719. Time elapsed: 688.66\n",
      "Epoch [366/600], Loss (last training batch/val): 0.0899/0.0718. Time elapsed: 690.74\n",
      "Epoch [367/600], Loss (last training batch/val): 0.0896/0.0718. Time elapsed: 692.32\n",
      "Epoch [368/600], Loss (last training batch/val): 0.0890/0.0717. Time elapsed: 694.89\n",
      "Epoch [369/600], Loss (last training batch/val): 0.0888/0.0718. Time elapsed: 696.48\n",
      "Epoch [370/600], Loss (last training batch/val): 0.0898/0.0719. Time elapsed: 698.42\n",
      "Epoch [371/600], Loss (last training batch/val): 0.0901/0.0716. Time elapsed: 700.78\n",
      "Epoch [372/600], Loss (last training batch/val): 0.0887/0.0717. Time elapsed: 702.36\n",
      "Epoch [373/600], Loss (last training batch/val): 0.0893/0.0715. Time elapsed: 704.91\n",
      "Epoch [374/600], Loss (last training batch/val): 0.0887/0.0716. Time elapsed: 706.51\n",
      "Epoch [375/600], Loss (last training batch/val): 0.0894/0.0716. Time elapsed: 708.29\n",
      "Epoch [376/600], Loss (last training batch/val): 0.0892/0.0720. Time elapsed: 710.70\n",
      "Epoch [377/600], Loss (last training batch/val): 0.0896/0.0714. Time elapsed: 712.28\n",
      "Epoch [378/600], Loss (last training batch/val): 0.0897/0.0716. Time elapsed: 714.79\n",
      "Epoch [379/600], Loss (last training batch/val): 0.0891/0.0715. Time elapsed: 716.50\n",
      "Epoch [380/600], Loss (last training batch/val): 0.0886/0.0714. Time elapsed: 718.17\n",
      "Epoch [381/600], Loss (last training batch/val): 0.0892/0.0714. Time elapsed: 720.64\n",
      "Epoch [382/600], Loss (last training batch/val): 0.0885/0.0714. Time elapsed: 722.26\n",
      "Epoch [383/600], Loss (last training batch/val): 0.0880/0.0713. Time elapsed: 724.76\n",
      "Epoch [384/600], Loss (last training batch/val): 0.0878/0.0714. Time elapsed: 726.52\n",
      "Epoch [385/600], Loss (last training batch/val): 0.0892/0.0712. Time elapsed: 728.18\n",
      "Epoch [386/600], Loss (last training batch/val): 0.0883/0.0714. Time elapsed: 730.62\n",
      "Epoch [387/600], Loss (last training batch/val): 0.0880/0.0711. Time elapsed: 732.23\n",
      "Epoch [388/600], Loss (last training batch/val): 0.0882/0.0712. Time elapsed: 734.74\n",
      "Epoch [389/600], Loss (last training batch/val): 0.0896/0.0732. Time elapsed: 736.56\n",
      "Epoch [390/600], Loss (last training batch/val): 0.0889/0.0715. Time elapsed: 738.19\n",
      "Epoch [391/600], Loss (last training batch/val): 0.0881/0.0712. Time elapsed: 740.43\n",
      "Epoch [392/600], Loss (last training batch/val): 0.0890/0.0711. Time elapsed: 742.02\n",
      "Epoch [393/600], Loss (last training batch/val): 0.0888/0.0712. Time elapsed: 744.48\n",
      "Epoch [394/600], Loss (last training batch/val): 0.0881/0.0710. Time elapsed: 746.06\n",
      "Epoch [395/600], Loss (last training batch/val): 0.0876/0.0710. Time elapsed: 748.52\n",
      "Epoch [396/600], Loss (last training batch/val): 0.0880/0.0709. Time elapsed: 750.64\n",
      "Epoch [397/600], Loss (last training batch/val): 0.0874/0.0708. Time elapsed: 752.34\n",
      "Epoch [398/600], Loss (last training batch/val): 0.0889/0.0709. Time elapsed: 754.56\n",
      "Epoch [399/600], Loss (last training batch/val): 0.0887/0.0710. Time elapsed: 756.19\n",
      "Epoch [400/600], Loss (last training batch/val): 0.0884/0.0708. Time elapsed: 758.65\n",
      "Epoch [401/600], Loss (last training batch/val): 0.0890/0.0718. Time elapsed: 760.25\n",
      "Epoch [402/600], Loss (last training batch/val): 0.0891/0.0710. Time elapsed: 762.71\n",
      "Epoch [403/600], Loss (last training batch/val): 0.0885/0.0718. Time elapsed: 764.69\n",
      "Epoch [404/600], Loss (last training batch/val): 0.0877/0.0718. Time elapsed: 766.33\n",
      "Epoch [405/600], Loss (last training batch/val): 0.0890/0.0710. Time elapsed: 768.78\n",
      "Epoch   405: reducing learning rate of group 0 to 9.3750e-06.\n",
      "Epoch [406/600], Loss (last training batch/val): 0.0881/0.0708. Time elapsed: 770.37\n",
      "Epoch [407/600], Loss (last training batch/val): 0.0881/0.0707. Time elapsed: 772.85\n",
      "Epoch [408/600], Loss (last training batch/val): 0.0880/0.0707. Time elapsed: 774.78\n",
      "Epoch [409/600], Loss (last training batch/val): 0.0879/0.0707. Time elapsed: 776.43\n",
      "Epoch [410/600], Loss (last training batch/val): 0.0872/0.0707. Time elapsed: 778.88\n",
      "Epoch [411/600], Loss (last training batch/val): 0.0875/0.0707. Time elapsed: 780.47\n",
      "Epoch [412/600], Loss (last training batch/val): 0.0886/0.0706. Time elapsed: 782.97\n",
      "Epoch [413/600], Loss (last training batch/val): 0.0886/0.0706. Time elapsed: 784.85\n",
      "Epoch [414/600], Loss (last training batch/val): 0.0889/0.0707. Time elapsed: 786.43\n",
      "Epoch [415/600], Loss (last training batch/val): 0.0878/0.0706. Time elapsed: 788.90\n",
      "Epoch [416/600], Loss (last training batch/val): 0.0876/0.0706. Time elapsed: 790.85\n",
      "Epoch [417/600], Loss (last training batch/val): 0.0883/0.0706. Time elapsed: 792.50\n",
      "Epoch [418/600], Loss (last training batch/val): 0.0882/0.0705. Time elapsed: 794.96\n",
      "Epoch [419/600], Loss (last training batch/val): 0.0883/0.0705. Time elapsed: 796.58\n",
      "Epoch [420/600], Loss (last training batch/val): 0.0888/0.0705. Time elapsed: 799.06\n",
      "Epoch [421/600], Loss (last training batch/val): 0.0879/0.0706. Time elapsed: 800.94\n",
      "Epoch [422/600], Loss (last training batch/val): 0.0875/0.0705. Time elapsed: 803.47\n",
      "Epoch [423/600], Loss (last training batch/val): 0.0877/0.0706. Time elapsed: 805.81\n",
      "Epoch [424/600], Loss (last training batch/val): 0.0887/0.0704. Time elapsed: 807.39\n",
      "Epoch [425/600], Loss (last training batch/val): 0.0878/0.0704. Time elapsed: 809.43\n",
      "Epoch [426/600], Loss (last training batch/val): 0.0871/0.0704. Time elapsed: 811.02\n",
      "Epoch [427/600], Loss (last training batch/val): 0.0869/0.0704. Time elapsed: 812.65\n",
      "Epoch [428/600], Loss (last training batch/val): 0.0872/0.0704. Time elapsed: 814.91\n",
      "Epoch [429/600], Loss (last training batch/val): 0.0871/0.0704. Time elapsed: 816.51\n",
      "Epoch [430/600], Loss (last training batch/val): 0.0879/0.0703. Time elapsed: 818.96\n",
      "Epoch [431/600], Loss (last training batch/val): 0.0886/0.0703. Time elapsed: 820.56\n",
      "Epoch [432/600], Loss (last training batch/val): 0.0873/0.0703. Time elapsed: 823.03\n",
      "Epoch [433/600], Loss (last training batch/val): 0.0879/0.0704. Time elapsed: 825.04\n",
      "Epoch [434/600], Loss (last training batch/val): 0.0879/0.0704. Time elapsed: 826.63\n",
      "Epoch [435/600], Loss (last training batch/val): 0.0878/0.0703. Time elapsed: 829.09\n",
      "Epoch [436/600], Loss (last training batch/val): 0.0876/0.0703. Time elapsed: 830.69\n",
      "Epoch [437/600], Loss (last training batch/val): 0.0867/0.0703. Time elapsed: 832.29\n",
      "Epoch [438/600], Loss (last training batch/val): 0.0875/0.0702. Time elapsed: 834.10\n",
      "Epoch [439/600], Loss (last training batch/val): 0.0872/0.0702. Time elapsed: 835.68\n",
      "Epoch [440/600], Loss (last training batch/val): 0.0876/0.0703. Time elapsed: 838.16\n",
      "Epoch [441/600], Loss (last training batch/val): 0.0872/0.0702. Time elapsed: 840.16\n",
      "Epoch [442/600], Loss (last training batch/val): 0.0878/0.0702. Time elapsed: 841.75\n",
      "Epoch [443/600], Loss (last training batch/val): 0.0873/0.0702. Time elapsed: 844.04\n",
      "Epoch [444/600], Loss (last training batch/val): 0.0878/0.0702. Time elapsed: 845.63\n",
      "Epoch [445/600], Loss (last training batch/val): 0.0878/0.0702. Time elapsed: 848.10\n",
      "Epoch [446/600], Loss (last training batch/val): 0.0880/0.0702. Time elapsed: 849.68\n",
      "Epoch [447/600], Loss (last training batch/val): 0.0880/0.0702. Time elapsed: 852.13\n",
      "Epoch [448/600], Loss (last training batch/val): 0.0871/0.0702. Time elapsed: 854.24\n",
      "Epoch   448: reducing learning rate of group 0 to 4.6875e-06.\n",
      "Epoch [449/600], Loss (last training batch/val): 0.0874/0.0703. Time elapsed: 855.94\n",
      "Epoch [450/600], Loss (last training batch/val): 0.0867/0.0701. Time elapsed: 858.81\n",
      "Epoch [451/600], Loss (last training batch/val): 0.0862/0.0701. Time elapsed: 860.39\n",
      "Epoch [452/600], Loss (last training batch/val): 0.0879/0.0701. Time elapsed: 862.93\n",
      "Epoch [453/600], Loss (last training batch/val): 0.0875/0.0701. Time elapsed: 864.54\n",
      "Epoch [454/600], Loss (last training batch/val): 0.0875/0.0701. Time elapsed: 866.42\n",
      "Epoch [455/600], Loss (last training batch/val): 0.0877/0.0701. Time elapsed: 868.36\n",
      "Epoch [456/600], Loss (last training batch/val): 0.0871/0.0701. Time elapsed: 869.96\n",
      "Epoch [457/600], Loss (last training batch/val): 0.0870/0.0701. Time elapsed: 872.27\n",
      "Epoch [458/600], Loss (last training batch/val): 0.0868/0.0701. Time elapsed: 873.87\n",
      "Epoch [459/600], Loss (last training batch/val): 0.0874/0.0701. Time elapsed: 876.33\n",
      "Epoch [460/600], Loss (last training batch/val): 0.0874/0.0701. Time elapsed: 877.93\n",
      "Epoch [461/600], Loss (last training batch/val): 0.0882/0.0702. Time elapsed: 880.41\n",
      "Epoch [462/600], Loss (last training batch/val): 0.0870/0.0701. Time elapsed: 882.44\n",
      "Epoch [463/600], Loss (last training batch/val): 0.0869/0.0701. Time elapsed: 884.04\n",
      "Epoch [464/600], Loss (last training batch/val): 0.0869/0.0701. Time elapsed: 886.51\n",
      "Epoch [465/600], Loss (last training batch/val): 0.0877/0.0701. Time elapsed: 888.12\n",
      "Epoch [466/600], Loss (last training batch/val): 0.0873/0.0702. Time elapsed: 890.60\n",
      "Epoch [467/600], Loss (last training batch/val): 0.0870/0.0701. Time elapsed: 892.54\n",
      "Epoch [468/600], Loss (last training batch/val): 0.0873/0.0700. Time elapsed: 894.17\n",
      "Epoch [469/600], Loss (last training batch/val): 0.0874/0.0699. Time elapsed: 896.42\n",
      "Epoch [470/600], Loss (last training batch/val): 0.0876/0.0699. Time elapsed: 898.01\n",
      "Epoch [471/600], Loss (last training batch/val): 0.0871/0.0699. Time elapsed: 900.49\n",
      "Epoch [472/600], Loss (last training batch/val): 0.0878/0.0699. Time elapsed: 902.09\n",
      "Epoch [473/600], Loss (last training batch/val): 0.0869/0.0700. Time elapsed: 904.57\n",
      "Epoch [474/600], Loss (last training batch/val): 0.0874/0.0700. Time elapsed: 906.58\n",
      "Epoch [475/600], Loss (last training batch/val): 0.0880/0.0699. Time elapsed: 908.19\n",
      "Epoch [476/600], Loss (last training batch/val): 0.0871/0.0699. Time elapsed: 910.64\n",
      "Epoch [477/600], Loss (last training batch/val): 0.0870/0.0699. Time elapsed: 912.34\n",
      "Epoch [478/600], Loss (last training batch/val): 0.0875/0.0699. Time elapsed: 914.90\n",
      "Epoch [479/600], Loss (last training batch/val): 0.0874/0.0699. Time elapsed: 916.73\n",
      "Epoch [480/600], Loss (last training batch/val): 0.0862/0.0699. Time elapsed: 919.10\n",
      "Epoch [481/600], Loss (last training batch/val): 0.0867/0.0699. Time elapsed: 920.79\n",
      "Epoch [482/600], Loss (last training batch/val): 0.0872/0.0699. Time elapsed: 922.50\n",
      "Epoch [483/600], Loss (last training batch/val): 0.0873/0.0698. Time elapsed: 924.95\n",
      "Epoch [484/600], Loss (last training batch/val): 0.0872/0.0698. Time elapsed: 926.56\n",
      "Epoch [485/600], Loss (last training batch/val): 0.0879/0.0699. Time elapsed: 929.07\n",
      "Epoch [486/600], Loss (last training batch/val): 0.0867/0.0698. Time elapsed: 930.82\n",
      "Epoch [487/600], Loss (last training batch/val): 0.0869/0.0699. Time elapsed: 932.51\n",
      "Epoch [488/600], Loss (last training batch/val): 0.0868/0.0698. Time elapsed: 934.96\n",
      "Epoch [489/600], Loss (last training batch/val): 0.0869/0.0698. Time elapsed: 936.56\n",
      "Epoch [490/600], Loss (last training batch/val): 0.0872/0.0699. Time elapsed: 939.07\n",
      "Epoch [491/600], Loss (last training batch/val): 0.0866/0.0699. Time elapsed: 940.87\n",
      "Epoch   491: reducing learning rate of group 0 to 2.3437e-06.\n",
      "Epoch [492/600], Loss (last training batch/val): 0.0868/0.0699. Time elapsed: 942.55\n",
      "Epoch [493/600], Loss (last training batch/val): 0.0873/0.0698. Time elapsed: 945.00\n",
      "Epoch [494/600], Loss (last training batch/val): 0.0864/0.0699. Time elapsed: 946.61\n",
      "Epoch [495/600], Loss (last training batch/val): 0.0869/0.0698. Time elapsed: 949.10\n",
      "Epoch [496/600], Loss (last training batch/val): 0.0873/0.0698. Time elapsed: 950.93\n",
      "Epoch [497/600], Loss (last training batch/val): 0.0873/0.0698. Time elapsed: 952.61\n",
      "Epoch [498/600], Loss (last training batch/val): 0.0875/0.0698. Time elapsed: 955.06\n",
      "Epoch [499/600], Loss (last training batch/val): 0.0866/0.0698. Time elapsed: 956.66\n",
      "Epoch [500/600], Loss (last training batch/val): 0.0866/0.0698. Time elapsed: 959.17\n",
      "Epoch [501/600], Loss (last training batch/val): 0.0875/0.0698. Time elapsed: 961.00\n",
      "Epoch [502/600], Loss (last training batch/val): 0.0867/0.0698. Time elapsed: 962.68\n",
      "Epoch   502: reducing learning rate of group 0 to 1.1719e-06.\n",
      "Epoch [503/600], Loss (last training batch/val): 0.0871/0.0698. Time elapsed: 965.14\n",
      "Epoch [504/600], Loss (last training batch/val): 0.0870/0.0698. Time elapsed: 966.74\n",
      "Epoch [505/600], Loss (last training batch/val): 0.0868/0.0698. Time elapsed: 969.25\n",
      "Epoch [506/600], Loss (last training batch/val): 0.0872/0.0698. Time elapsed: 971.06\n",
      "Epoch [507/600], Loss (last training batch/val): 0.0874/0.0698. Time elapsed: 972.76\n",
      "Epoch [508/600], Loss (last training batch/val): 0.0866/0.0698. Time elapsed: 975.23\n",
      "Epoch [509/600], Loss (last training batch/val): 0.0863/0.0698. Time elapsed: 976.83\n",
      "Epoch [510/600], Loss (last training batch/val): 0.0878/0.0698. Time elapsed: 979.33\n",
      "Epoch   510: reducing learning rate of group 0 to 5.8594e-07.\n",
      "Epoch [511/600], Loss (last training batch/val): 0.0878/0.0698. Time elapsed: 981.18\n",
      "Epoch [512/600], Loss (last training batch/val): 0.0868/0.0698. Time elapsed: 982.84\n",
      "Epoch [513/600], Loss (last training batch/val): 0.0870/0.0697. Time elapsed: 985.29\n",
      "Epoch [514/600], Loss (last training batch/val): 0.0872/0.0698. Time elapsed: 986.91\n",
      "Epoch [515/600], Loss (last training batch/val): 0.0877/0.0698. Time elapsed: 988.50\n",
      "Epoch [516/600], Loss (last training batch/val): 0.0878/0.0698. Time elapsed: 990.96\n",
      "Epoch [517/600], Loss (last training batch/val): 0.0867/0.0698. Time elapsed: 992.55\n",
      "Epoch [518/600], Loss (last training batch/val): 0.0868/0.0698. Time elapsed: 994.86\n",
      "Epoch   518: reducing learning rate of group 0 to 2.9297e-07.\n",
      "Epoch [519/600], Loss (last training batch/val): 0.0870/0.0698. Time elapsed: 996.46\n",
      "Epoch [520/600], Loss (last training batch/val): 0.0864/0.0698. Time elapsed: 998.66\n",
      "Epoch [521/600], Loss (last training batch/val): 0.0873/0.0698. Time elapsed: 1001.03\n",
      "Epoch [522/600], Loss (last training batch/val): 0.0872/0.0698. Time elapsed: 1002.65\n",
      "Epoch [523/600], Loss (last training batch/val): 0.0874/0.0698. Time elapsed: 1005.11\n",
      "Epoch [524/600], Loss (last training batch/val): 0.0866/0.0698. Time elapsed: 1006.73\n",
      "Epoch [525/600], Loss (last training batch/val): 0.0870/0.0698. Time elapsed: 1009.21\n",
      "Epoch [526/600], Loss (last training batch/val): 0.0870/0.0698. Time elapsed: 1011.24\n",
      "Epoch   526: reducing learning rate of group 0 to 1.4648e-07.\n",
      "Epoch [527/600], Loss (last training batch/val): 0.0869/0.0698. Time elapsed: 1012.83\n",
      "Epoch [528/600], Loss (last training batch/val): 0.0872/0.0698. Time elapsed: 1015.13\n",
      "Epoch [529/600], Loss (last training batch/val): 0.0873/0.0698. Time elapsed: 1016.75\n",
      "Epoch [530/600], Loss (last training batch/val): 0.0869/0.0697. Time elapsed: 1019.21\n",
      "Epoch [531/600], Loss (last training batch/val): 0.0872/0.0698. Time elapsed: 1020.82\n",
      "Epoch [532/600], Loss (last training batch/val): 0.0865/0.0698. Time elapsed: 1023.33\n",
      "Epoch [533/600], Loss (last training batch/val): 0.0866/0.0698. Time elapsed: 1025.35\n",
      "Epoch [534/600], Loss (last training batch/val): 0.0870/0.0697. Time elapsed: 1026.95\n",
      "Epoch   534: reducing learning rate of group 0 to 7.3242e-08.\n",
      "Epoch [535/600], Loss (last training batch/val): 0.0862/0.0697. Time elapsed: 1029.41\n",
      "Epoch [536/600], Loss (last training batch/val): 0.0863/0.0698. Time elapsed: 1031.01\n",
      "Epoch [537/600], Loss (last training batch/val): 0.0878/0.0698. Time elapsed: 1033.51\n",
      "Epoch [538/600], Loss (last training batch/val): 0.0876/0.0698. Time elapsed: 1035.45\n",
      "Epoch [539/600], Loss (last training batch/val): 0.0874/0.0698. Time elapsed: 1037.13\n",
      "Epoch [540/600], Loss (last training batch/val): 0.0866/0.0698. Time elapsed: 1039.34\n",
      "Epoch [541/600], Loss (last training batch/val): 0.0871/0.0698. Time elapsed: 1040.94\n",
      "Epoch [542/600], Loss (last training batch/val): 0.0875/0.0698. Time elapsed: 1043.40\n",
      "Epoch   542: reducing learning rate of group 0 to 3.6621e-08.\n",
      "Epoch [543/600], Loss (last training batch/val): 0.0866/0.0698. Time elapsed: 1045.00\n",
      "Epoch [544/600], Loss (last training batch/val): 0.0867/0.0698. Time elapsed: 1047.47\n",
      "Epoch [545/600], Loss (last training batch/val): 0.0865/0.0698. Time elapsed: 1049.52\n",
      "Epoch [546/600], Loss (last training batch/val): 0.0870/0.0698. Time elapsed: 1051.15\n",
      "Epoch [547/600], Loss (last training batch/val): 0.0872/0.0698. Time elapsed: 1053.61\n",
      "Epoch [548/600], Loss (last training batch/val): 0.0863/0.0698. Time elapsed: 1055.24\n",
      "Epoch [549/600], Loss (last training batch/val): 0.0880/0.0698. Time elapsed: 1057.74\n",
      "Epoch [550/600], Loss (last training batch/val): 0.0865/0.0698. Time elapsed: 1059.62\n",
      "Epoch   550: reducing learning rate of group 0 to 1.8311e-08.\n",
      "Epoch [551/600], Loss (last training batch/val): 0.0868/0.0698. Time elapsed: 1061.31\n",
      "Epoch [552/600], Loss (last training batch/val): 0.0870/0.0698. Time elapsed: 1063.78\n",
      "Epoch [553/600], Loss (last training batch/val): 0.0869/0.0698. Time elapsed: 1065.39\n",
      "Epoch [554/600], Loss (last training batch/val): 0.0867/0.0698. Time elapsed: 1068.05\n",
      "Epoch [555/600], Loss (last training batch/val): 0.0877/0.0698. Time elapsed: 1069.76\n",
      "Epoch [556/600], Loss (last training batch/val): 0.0870/0.0698. Time elapsed: 1071.60\n",
      "Epoch [557/600], Loss (last training batch/val): 0.0870/0.0698. Time elapsed: 1074.11\n",
      "Epoch [558/600], Loss (last training batch/val): 0.0873/0.0698. Time elapsed: 1075.72\n",
      "Epoch [559/600], Loss (last training batch/val): 0.0868/0.0698. Time elapsed: 1078.25\n",
      "Epoch [560/600], Loss (last training batch/val): 0.0867/0.0698. Time elapsed: 1079.88\n",
      "Epoch [561/600], Loss (last training batch/val): 0.0859/0.0698. Time elapsed: 1081.69\n",
      "Epoch [562/600], Loss (last training batch/val): 0.0865/0.0698. Time elapsed: 1083.72\n",
      "Epoch [563/600], Loss (last training batch/val): 0.0880/0.0698. Time elapsed: 1085.31\n",
      "Epoch [564/600], Loss (last training batch/val): 0.0874/0.0698. Time elapsed: 1087.78\n",
      "Epoch [565/600], Loss (last training batch/val): 0.0872/0.0698. Time elapsed: 1089.40\n",
      "Epoch [566/600], Loss (last training batch/val): 0.0863/0.0698. Time elapsed: 1091.88\n",
      "Epoch [567/600], Loss (last training batch/val): 0.0873/0.0698. Time elapsed: 1093.81\n",
      "Epoch [568/600], Loss (last training batch/val): 0.0870/0.0698. Time elapsed: 1095.41\n",
      "Epoch [569/600], Loss (last training batch/val): 0.0870/0.0698. Time elapsed: 1097.70\n",
      "Epoch [570/600], Loss (last training batch/val): 0.0866/0.0698. Time elapsed: 1099.31\n",
      "Epoch [571/600], Loss (last training batch/val): 0.0879/0.0698. Time elapsed: 1101.78\n",
      "Epoch [572/600], Loss (last training batch/val): 0.0866/0.0698. Time elapsed: 1103.41\n",
      "Epoch [573/600], Loss (last training batch/val): 0.0868/0.0698. Time elapsed: 1105.94\n",
      "Epoch [574/600], Loss (last training batch/val): 0.0863/0.0698. Time elapsed: 1107.89\n",
      "Epoch [575/600], Loss (last training batch/val): 0.0874/0.0698. Time elapsed: 1109.51\n",
      "Epoch [576/600], Loss (last training batch/val): 0.0870/0.0698. Time elapsed: 1111.97\n",
      "Epoch [577/600], Loss (last training batch/val): 0.0871/0.0698. Time elapsed: 1113.56\n",
      "Epoch [578/600], Loss (last training batch/val): 0.0870/0.0698. Time elapsed: 1116.02\n",
      "Epoch [579/600], Loss (last training batch/val): 0.0867/0.0698. Time elapsed: 1117.96\n",
      "Epoch [580/600], Loss (last training batch/val): 0.0871/0.0698. Time elapsed: 1119.57\n",
      "Epoch [581/600], Loss (last training batch/val): 0.0865/0.0698. Time elapsed: 1121.87\n",
      "Epoch [582/600], Loss (last training batch/val): 0.0875/0.0698. Time elapsed: 1123.48\n",
      "Epoch [583/600], Loss (last training batch/val): 0.0875/0.0698. Time elapsed: 1125.94\n",
      "Epoch [584/600], Loss (last training batch/val): 0.0868/0.0698. Time elapsed: 1127.54\n",
      "Epoch [585/600], Loss (last training batch/val): 0.0875/0.0698. Time elapsed: 1130.02\n",
      "Epoch [586/600], Loss (last training batch/val): 0.0868/0.0698. Time elapsed: 1132.03\n",
      "Epoch [587/600], Loss (last training batch/val): 0.0871/0.0698. Time elapsed: 1133.63\n",
      "Epoch [588/600], Loss (last training batch/val): 0.0870/0.0698. Time elapsed: 1135.92\n",
      "Epoch [589/600], Loss (last training batch/val): 0.0868/0.0698. Time elapsed: 1137.52\n",
      "Epoch [590/600], Loss (last training batch/val): 0.0863/0.0698. Time elapsed: 1139.98\n",
      "Epoch [591/600], Loss (last training batch/val): 0.0871/0.0698. Time elapsed: 1141.59\n",
      "Epoch [592/600], Loss (last training batch/val): 0.0869/0.0698. Time elapsed: 1144.06\n",
      "Epoch [593/600], Loss (last training batch/val): 0.0872/0.0698. Time elapsed: 1146.10\n",
      "Epoch [594/600], Loss (last training batch/val): 0.0876/0.0698. Time elapsed: 1147.72\n",
      "Epoch [595/600], Loss (last training batch/val): 0.0867/0.0698. Time elapsed: 1150.19\n",
      "Epoch [596/600], Loss (last training batch/val): 0.0869/0.0698. Time elapsed: 1151.79\n",
      "Epoch [597/600], Loss (last training batch/val): 0.0872/0.0698. Time elapsed: 1154.27\n",
      "Epoch [598/600], Loss (last training batch/val): 0.0865/0.0698. Time elapsed: 1156.21\n",
      "Epoch [599/600], Loss (last training batch/val): 0.0869/0.0698. Time elapsed: 1157.94\n",
      "Epoch [600/600], Loss (last training batch/val): 0.0864/0.0698. Time elapsed: 1160.40\n"
     ]
    }
   ],
   "source": [
    "# interactive descending lr for less loss\n",
    "optimizer = optim.AdamW(model.parameters(), lr=0.0003)\n",
    "scheduler = optim.lr_scheduler.ReduceLROnPlateau(\n",
    "    optimizer, factor=0.5, verbose=True, cooldown=2, patience=5\n",
    ")\n",
    "num_epochs = 600\n",
    "start = time.time()\n",
    "for epoch in range(num_epochs):\n",
    "    model.train()\n",
    "    for data in train_dl:\n",
    "        data = data.to(torch.device('cuda'))\n",
    "        optimizer.zero_grad()\n",
    "        out = model(data)\n",
    "        loss = loss_fn(out, data.y)\n",
    "        losses.append(loss.item())  # history\n",
    "        # optimize\n",
    "        loss.backward()\n",
    "        optimizer.step()\n",
    "\n",
    "        # stats\n",
    "        learning_rates.append(-1)\n",
    "\n",
    "    # evaluation\n",
    "    model.eval()\n",
    "    agg_loss = 0\n",
    "    with torch.autograd.no_grad():\n",
    "        for data in test_dl:\n",
    "            data = data.to(torch.device('cuda'))\n",
    "            out = model(data)\n",
    "            agg_loss += loss_fn(out, data.y)\n",
    "        val_losses.append(agg_loss.item()/test_batches)\n",
    "    scheduler.step(agg_loss)\n",
    "    if not silent:\n",
    "        print(\n",
    "            \"Epoch [{}/{}], Loss (last training batch/val): {:.4f}/{:.4f}. Time elapsed: {:.2f}\".format(\n",
    "                epoch + 1,\n",
    "                num_epochs,\n",
    "                losses[-1],\n",
    "                val_losses[-1],\n",
    "                time.time() - start,\n",
    "            )\n",
    "        )"
   ]
  },
  {
   "cell_type": "markdown",
   "metadata": {},
   "source": [
    "# Learning stats"
   ]
  },
  {
   "cell_type": "code",
   "execution_count": 10,
   "metadata": {},
   "outputs": [
    {
     "data": {
      "text/plain": [
       "DataTransformerRegistry.enable('json')"
      ]
     },
     "execution_count": 10,
     "metadata": {},
     "output_type": "execute_result"
    }
   ],
   "source": [
    "import pandas as pd\n",
    "import numpy as np\n",
    "import altair as alt\n",
    "\n",
    "alt.data_transformers.enable('json')"
   ]
  },
  {
   "cell_type": "code",
   "execution_count": 11,
   "metadata": {},
   "outputs": [
    {
     "data": {
      "application/vnd.vegalite.v3+json": {
       "$schema": "https://vega.github.io/schema/vega-lite/v3.4.0.json",
       "config": {
        "mark": {
         "tooltip": null
        },
        "view": {
         "height": 300,
         "width": 400
        }
       },
       "data": {
        "format": {
         "type": "json"
        },
        "url": "altair-data-8055abc66ebe8033d2f5088fc2c0aa5b.json"
       },
       "encoding": {
        "color": {
         "field": "key",
         "type": "nominal"
        },
        "x": {
         "axis": {
          "title": "Epoch"
         },
         "field": "index",
         "type": "quantitative"
        },
        "y": {
         "field": "value",
         "title": "Loss",
         "type": "quantitative"
        }
       },
       "height": 600,
       "mark": "line",
       "transform": [
        {
         "fold": [
          "Training",
          "Validation"
         ]
        }
       ],
       "width": 900
      },
      "image/png": "[encoded data removed]",
      "text/plain": [
       "<VegaLite 3 object>\n",
       "\n",
       "If you see this message, it means the renderer has not been properly enabled\n",
       "for the frontend that you are using. For more information, see\n",
       "https://altair-viz.github.io/user_guide/troubleshooting.html\n"
      ]
     },
     "execution_count": 11,
     "metadata": {},
     "output_type": "execute_result"
    }
   ],
   "source": [
    "adata = pd.DataFrame(\n",
    "    {\n",
    "        \"LR\": learning_rates[len(train_dl)-1::len(train_dl)],\n",
    "        \"Training\":losses[len(train_dl)-1::len(train_dl)], \n",
    "        \"Validation\":val_losses\n",
    "    }\n",
    ").reset_index()\n",
    "alt.Chart(adata, width=900, height=600).transform_fold([\"Training\", \"Validation\"]).mark_line().encode(\n",
    "    x=alt.X(\"index\", axis=alt.Axis(title='Epoch')),\n",
    "    y=alt.Y(\"value:Q\", title=\"Loss\"),\n",
    "    color=\"key:N\"\n",
    ")"
   ]
  },
  {
   "cell_type": "code",
   "execution_count": 12,
   "metadata": {},
   "outputs": [],
   "source": [
    "nplist = list()\n",
    "for data in test_dl:\n",
    "    with torch.no_grad():\n",
    "        data.x, data.edge_index, data.edge_attr = data.x.float(), data.edge_index.long(), data.edge_attr.float()  # CLEAN IT!!!!!\n",
    "        out = model(data.to(torch.device('cuda')))\n",
    "        nplist.append(np.concatenate([data.y.cpu().numpy(), out.detach().cpu().numpy()], axis=1))"
   ]
  },
  {
   "cell_type": "code",
   "execution_count": 13,
   "metadata": {},
   "outputs": [],
   "source": [
    "results = pd.DataFrame(np.concatenate(nplist, 0), columns=['actual', 'predicted'])"
   ]
  },
  {
   "cell_type": "code",
   "execution_count": 14,
   "metadata": {},
   "outputs": [
    {
     "data": {
      "application/vnd.vegalite.v3+json": {
       "$schema": "https://vega.github.io/schema/vega-lite/v3.4.0.json",
       "config": {
        "mark": {
         "tooltip": null
        },
        "view": {
         "height": 300,
         "width": 400
        }
       },
       "data": {
        "format": {
         "type": "json"
        },
        "url": "altair-data-d0e712cfdf498689a0774f73c1c545e9.json"
       },
       "encoding": {
        "x": {
         "axis": {
          "title": "actual score"
         },
         "bin": {
          "maxbins": 2
         },
         "field": "actual",
         "type": "quantitative"
        },
        "y": {
         "axis": {
          "title": "predicted score"
         },
         "field": "predicted",
         "type": "quantitative"
        }
       },
       "height": 600,
       "mark": {
        "opacity": 1,
        "type": "boxplot"
       },
       "width": 900
      },
      "image/png": "[encoded data removed]",
      "text/plain": [
       "<VegaLite 3 object>\n",
       "\n",
       "If you see this message, it means the renderer has not been properly enabled\n",
       "for the frontend that you are using. For more information, see\n",
       "https://altair-viz.github.io/user_guide/troubleshooting.html\n"
      ]
     },
     "execution_count": 14,
     "metadata": {},
     "output_type": "execute_result"
    }
   ],
   "source": [
    "alt.Chart(results, width=900, height=600).mark_boxplot(opacity=1).encode(\n",
    "    x=alt.X(\"actual:Q\", bin=alt.Bin(maxbins=2), axis=alt.Axis(title='actual score')),\n",
    "    y=alt.Y(\"predicted\", axis=alt.Axis(title='predicted score'))\n",
    ")"
   ]
  },
  {
   "cell_type": "markdown",
   "metadata": {},
   "source": [
    "Модель хорошо предсказывает хорошие ветви. Рассмотрим ее как бинарный классификатор с параметром T."
   ]
  },
  {
   "cell_type": "code",
   "execution_count": 15,
   "metadata": {},
   "outputs": [],
   "source": [
    "torch.save(model.state_dict(), 'models/2gin_1sage_PAIRS(FUNGI_ARCHAEA).dct')"
   ]
  },
  {
   "cell_type": "code",
   "execution_count": 16,
   "metadata": {},
   "outputs": [],
   "source": [
    "import sklearn.metrics as metrics\n",
    "\n",
    "pred_act = results>0.5\n",
    "\n",
    "fpr, tpr, threshold = metrics.roc_curve(results[\"actual\"]==1, results[\"predicted\"])\n",
    "roc_data = pd.DataFrame({\"True Positive Rate\": tpr, \"False Positive Rate\": fpr})\n"
   ]
  },
  {
   "cell_type": "code",
   "execution_count": 17,
   "metadata": {},
   "outputs": [
    {
     "data": {
      "application/vnd.vegalite.v3+json": {
       "$schema": "https://vega.github.io/schema/vega-lite/v3.4.0.json",
       "config": {
        "mark": {
         "tooltip": null
        },
        "view": {
         "height": 300,
         "width": 400
        }
       },
       "data": {
        "format": {
         "type": "json"
        },
        "url": "altair-data-78af3588dd0a7212c989ad9b60fc73c6.json"
       },
       "encoding": {
        "x": {
         "field": "False Positive Rate",
         "type": "quantitative"
        },
        "y": {
         "field": "True Positive Rate",
         "type": "quantitative"
        }
       },
       "height": 600,
       "mark": "line",
       "width": 900
      },
      "image/png": "[encoded data removed]",
      "text/plain": [
       "<VegaLite 3 object>\n",
       "\n",
       "If you see this message, it means the renderer has not been properly enabled\n",
       "for the frontend that you are using. For more information, see\n",
       "https://altair-viz.github.io/user_guide/troubleshooting.html\n"
      ]
     },
     "execution_count": 17,
     "metadata": {},
     "output_type": "execute_result"
    }
   ],
   "source": [
    "alt.Chart(roc_data, width=900, height=600).mark_line().encode(\n",
    "    x=\"False Positive Rate\",\n",
    "    y=\"True Positive Rate\"\n",
    ")"
   ]
  },
  {
   "cell_type": "code",
   "execution_count": 18,
   "metadata": {},
   "outputs": [
    {
     "data": {
      "text/plain": [
       "0.983103859815907"
      ]
     },
     "execution_count": 18,
     "metadata": {},
     "output_type": "execute_result"
    }
   ],
   "source": [
    "metrics.roc_auc_score(results[\"actual\"]==1, results[\"predicted\"])"
   ]
  },
  {
   "cell_type": "code",
   "execution_count": 20,
   "metadata": {},
   "outputs": [
    {
     "data": {
      "text/plain": [
       "0.6284579"
      ]
     },
     "execution_count": 20,
     "metadata": {},
     "output_type": "execute_result"
    }
   ],
   "source": [
    "optimal_idx = np.argmax(tpr - fpr)\n",
    "optimal_threshold = threshold[optimal_idx]\n",
    "optimal_threshold"
   ]
  },
  {
   "cell_type": "code",
   "execution_count": 21,
   "metadata": {},
   "outputs": [
    {
     "data": {
      "text/plain": [
       "0.9333520438486429"
      ]
     },
     "execution_count": 21,
     "metadata": {},
     "output_type": "execute_result"
    }
   ],
   "source": [
    "metrics.accuracy_score(results[\"actual\"]==1, results[\"predicted\"]>0.628)"
   ]
  },
  {
   "cell_type": "markdown",
   "metadata": {},
   "source": [
    "## Test with completely different data"
   ]
  },
  {
   "cell_type": "code",
   "execution_count": 23,
   "metadata": {},
   "outputs": [],
   "source": [
    "# data\n",
    "target_tree = phy.read(data_path+'tree/Other_eukaryota_2018.tre', 'newick')\n",
    "test_dataset = gd.Trees(\n",
    "    data_path+\"tree/Eukaryota/\",\n",
    "    data_path+\"alns/other_eukaryota_2018/\",\n",
    "    target_tree\n",
    ")\n",
    "test_dataset.data.x = test_dataset.data.x.float()\n",
    "test_dataset.data.edge_attr = (torch.max(test_dataset.data.edge_attr)+0.001 - test_dataset.data.edge_attr).float()\n",
    "test_dataset.data.edge_index = test_dataset.data.edge_index.long()"
   ]
  },
  {
   "cell_type": "code",
   "execution_count": 24,
   "metadata": {},
   "outputs": [],
   "source": [
    "nplist = list()\n",
    "for data in test_dataset:\n",
    "    with torch.no_grad():\n",
    "        data.x, data.edge_index, data.edge_attr = data.x.float(), data.edge_index.long(), data.edge_attr.float()  # CLEAN IT!!!!!\n",
    "        out = model(data.to(torch.device('cuda')))\n",
    "        nplist.append(np.concatenate([data.y.cpu().numpy(), out.detach().cpu().numpy()], axis=1))"
   ]
  },
  {
   "cell_type": "code",
   "execution_count": 25,
   "metadata": {},
   "outputs": [],
   "source": [
    "test_results = pd.DataFrame(np.concatenate(nplist, 0), columns=['actual', 'predicted'])"
   ]
  },
  {
   "cell_type": "code",
   "execution_count": 26,
   "metadata": {},
   "outputs": [],
   "source": [
    "pred_act = test_results>0.5\n",
    "\n",
    "fpr, tpr, threshold = metrics.roc_curve(test_results[\"actual\"]==1, test_results[\"predicted\"])\n",
    "roc_data = pd.DataFrame({\"True Positive Rate\": tpr, \"False Positive Rate\": fpr})\n"
   ]
  },
  {
   "cell_type": "code",
   "execution_count": 27,
   "metadata": {},
   "outputs": [
    {
     "data": {
      "application/vnd.vegalite.v3+json": {
       "$schema": "https://vega.github.io/schema/vega-lite/v3.4.0.json",
       "config": {
        "mark": {
         "tooltip": null
        },
        "view": {
         "height": 300,
         "width": 400
        }
       },
       "data": {
        "format": {
         "type": "json"
        },
        "url": "altair-data-aa3767272d43abf9ba16928d726be5c3.json"
       },
       "encoding": {
        "x": {
         "field": "False Positive Rate",
         "type": "quantitative"
        },
        "y": {
         "field": "True Positive Rate",
         "type": "quantitative"
        }
       },
       "height": 600,
       "mark": "line",
       "width": 900
      },
      "image/png": "[encoded data removed]",
      "text/plain": [
       "<VegaLite 3 object>\n",
       "\n",
       "If you see this message, it means the renderer has not been properly enabled\n",
       "for the frontend that you are using. For more information, see\n",
       "https://altair-viz.github.io/user_guide/troubleshooting.html\n"
      ]
     },
     "execution_count": 27,
     "metadata": {},
     "output_type": "execute_result"
    }
   ],
   "source": [
    "alt.Chart(roc_data, width=900, height=600).mark_line().encode(\n",
    "    x=\"False Positive Rate\",\n",
    "    y=\"True Positive Rate\"\n",
    ")"
   ]
  },
  {
   "cell_type": "code",
   "execution_count": 28,
   "metadata": {},
   "outputs": [
    {
     "data": {
      "text/plain": [
       "0.9663619490201709"
      ]
     },
     "execution_count": 28,
     "metadata": {},
     "output_type": "execute_result"
    }
   ],
   "source": [
    "metrics.roc_auc_score(test_results[\"actual\"]==1, test_results[\"predicted\"])"
   ]
  },
  {
   "cell_type": "code",
   "execution_count": 29,
   "metadata": {},
   "outputs": [
    {
     "data": {
      "text/plain": [
       "0.8817379472658404"
      ]
     },
     "execution_count": 29,
     "metadata": {},
     "output_type": "execute_result"
    }
   ],
   "source": [
    "metrics.accuracy_score(test_results[\"actual\"]==1, test_results[\"predicted\"]>0.628)"
   ]
  },
  {
   "cell_type": "code",
   "execution_count": 31,
   "metadata": {},
   "outputs": [],
   "source": [
    "torch.save(model.state_dict(), 'models/2gin_1sage_PAIRS(FUNGI_ARCHAEA).dct')"
   ]
  },
  {
   "cell_type": "markdown",
   "metadata": {},
   "source": [
    "# Further assessment"
   ]
  },
  {
   "cell_type": "code",
   "execution_count": 43,
   "metadata": {},
   "outputs": [
    {
     "data": {
      "text/html": [
       "<div>\n",
       "<style scoped>\n",
       "    .dataframe tbody tr th:only-of-type {\n",
       "        vertical-align: middle;\n",
       "    }\n",
       "\n",
       "    .dataframe tbody tr th {\n",
       "        vertical-align: top;\n",
       "    }\n",
       "\n",
       "    .dataframe thead th {\n",
       "        text-align: right;\n",
       "    }\n",
       "</style>\n",
       "<table border=\"1\" class=\"dataframe\">\n",
       "  <thead>\n",
       "    <tr style=\"text-align: right;\">\n",
       "      <th></th>\n",
       "      <th>actual</th>\n",
       "      <th>predicted</th>\n",
       "    </tr>\n",
       "  </thead>\n",
       "  <tbody>\n",
       "    <tr>\n",
       "      <th>count</th>\n",
       "      <td>1.378800e+05</td>\n",
       "      <td>137880.000000</td>\n",
       "    </tr>\n",
       "    <tr>\n",
       "      <th>mean</th>\n",
       "      <td>4.496009e-01</td>\n",
       "      <td>0.445949</td>\n",
       "    </tr>\n",
       "    <tr>\n",
       "      <th>std</th>\n",
       "      <td>4.964652e-01</td>\n",
       "      <td>0.397463</td>\n",
       "    </tr>\n",
       "    <tr>\n",
       "      <th>min</th>\n",
       "      <td>1.925930e-34</td>\n",
       "      <td>0.000000</td>\n",
       "    </tr>\n",
       "    <tr>\n",
       "      <th>25%</th>\n",
       "      <td>1.525879e-05</td>\n",
       "      <td>0.000000</td>\n",
       "    </tr>\n",
       "    <tr>\n",
       "      <th>50%</th>\n",
       "      <td>9.765625e-04</td>\n",
       "      <td>0.556107</td>\n",
       "    </tr>\n",
       "    <tr>\n",
       "      <th>75%</th>\n",
       "      <td>1.000000e+00</td>\n",
       "      <td>0.836779</td>\n",
       "    </tr>\n",
       "    <tr>\n",
       "      <th>max</th>\n",
       "      <td>1.000000e+00</td>\n",
       "      <td>1.468934</td>\n",
       "    </tr>\n",
       "  </tbody>\n",
       "</table>\n",
       "</div>"
      ],
      "text/plain": [
       "             actual      predicted\n",
       "count  1.378800e+05  137880.000000\n",
       "mean   4.496009e-01       0.445949\n",
       "std    4.964652e-01       0.397463\n",
       "min    1.925930e-34       0.000000\n",
       "25%    1.525879e-05       0.000000\n",
       "50%    9.765625e-04       0.556107\n",
       "75%    1.000000e+00       0.836779\n",
       "max    1.000000e+00       1.468934"
      ]
     },
     "execution_count": 43,
     "metadata": {},
     "output_type": "execute_result"
    }
   ],
   "source": [
    "# first half of the nodes\n",
    "nplist = list()\n",
    "for data in test_dataset:\n",
    "    with torch.no_grad():\n",
    "        data.x, data.edge_index, data.edge_attr = data.x.float(), data.edge_index.long(), data.edge_attr.float()  # CLEAN IT!!!!!\n",
    "        out = model(data.to(torch.device('cuda')))[:60]\n",
    "        nplist.append(np.concatenate([data.y.cpu()[:60].numpy(), out.detach().cpu().numpy()], axis=1))\n",
    "test_results = pd.DataFrame(np.concatenate(nplist, 0), columns=['actual', 'predicted'])\n",
    "test_results.describe()"
   ]
  },
  {
   "cell_type": "code",
   "execution_count": 35,
   "metadata": {},
   "outputs": [],
   "source": [
    "fpr, tpr, threshold = metrics.roc_curve(test_results[\"actual\"]==1, test_results[\"predicted\"])\n",
    "roc_data = pd.DataFrame({\"True Positive Rate\": tpr, \"False Positive Rate\": fpr})"
   ]
  },
  {
   "cell_type": "code",
   "execution_count": 36,
   "metadata": {},
   "outputs": [
    {
     "data": {
      "application/vnd.vegalite.v3+json": {
       "$schema": "https://vega.github.io/schema/vega-lite/v3.4.0.json",
       "config": {
        "mark": {
         "tooltip": null
        },
        "view": {
         "height": 300,
         "width": 400
        }
       },
       "data": {
        "format": {
         "type": "json"
        },
        "url": "altair-data-e152acbf6efb021528ececc394e21681.json"
       },
       "encoding": {
        "x": {
         "field": "False Positive Rate",
         "type": "quantitative"
        },
        "y": {
         "field": "True Positive Rate",
         "type": "quantitative"
        }
       },
       "height": 600,
       "mark": "line",
       "width": 900
      },
      "image/png": "[encoded data removed]",
      "text/plain": [
       "<VegaLite 3 object>\n",
       "\n",
       "If you see this message, it means the renderer has not been properly enabled\n",
       "for the frontend that you are using. For more information, see\n",
       "https://altair-viz.github.io/user_guide/troubleshooting.html\n"
      ]
     },
     "execution_count": 36,
     "metadata": {},
     "output_type": "execute_result"
    }
   ],
   "source": [
    "alt.Chart(roc_data, width=900, height=600).mark_line().encode(\n",
    "    x=\"False Positive Rate\",\n",
    "    y=\"True Positive Rate\"\n",
    ")"
   ]
  },
  {
   "cell_type": "code",
   "execution_count": 37,
   "metadata": {},
   "outputs": [],
   "source": [
    "# second half\n",
    "nplist = list()\n",
    "for data in test_dataset:\n",
    "    with torch.no_grad():\n",
    "        data.x, data.edge_index, data.edge_attr = data.x.float(), data.edge_index.long(), data.edge_attr.float()  # CLEAN IT!!!!!\n",
    "        out = model(data.to(torch.device('cuda')))\n",
    "        nplist.append(np.concatenate([data.y.cpu().numpy(), out.detach().cpu().numpy()], axis=1))\n",
    "test_results = pd.DataFrame(np.concatenate(nplist, 0), columns=['actual', 'predicted'])\n",
    "test_results.describe()"
   ]
  },
  {
   "cell_type": "code",
   "execution_count": 51,
   "metadata": {},
   "outputs": [],
   "source": [
    "prec, rec, threshold = metrics.precision_recall_curve(test_results[\"actual\"]==1, test_results[\"predicted\"])\n",
    "roc_data = pd.DataFrame({\"Precision\": prec, \"Recall\": rec})"
   ]
  },
  {
   "cell_type": "code",
   "execution_count": 52,
   "metadata": {},
   "outputs": [
    {
     "data": {
      "application/vnd.vegalite.v3+json": {
       "$schema": "https://vega.github.io/schema/vega-lite/v3.4.0.json",
       "config": {
        "mark": {
         "tooltip": null
        },
        "view": {
         "height": 300,
         "width": 400
        }
       },
       "data": {
        "format": {
         "type": "json"
        },
        "url": "altair-data-02b4c3657bf0ec98e3092e019cad1899.json"
       },
       "encoding": {
        "x": {
         "field": "Recall",
         "type": "quantitative"
        },
        "y": {
         "field": "Precision",
         "type": "quantitative"
        }
       },
       "height": 600,
       "mark": "line",
       "width": 900
      },
      "image/png": "[encoded data removed]",
      "text/plain": [
       "<VegaLite 3 object>\n",
       "\n",
       "If you see this message, it means the renderer has not been properly enabled\n",
       "for the frontend that you are using. For more information, see\n",
       "https://altair-viz.github.io/user_guide/troubleshooting.html\n"
      ]
     },
     "execution_count": 52,
     "metadata": {},
     "output_type": "execute_result"
    }
   ],
   "source": [
    "alt.Chart(roc_data, width=900, height=600).mark_line().encode(\n",
    "    x=\"Recall\",\n",
    "    y=\"Precision\"\n",
    ")"
   ]
  },
  {
   "cell_type": "code",
   "execution_count": 54,
   "metadata": {},
   "outputs": [
    {
     "data": {
      "text/html": [
       "<div>\n",
       "<style scoped>\n",
       "    .dataframe tbody tr th:only-of-type {\n",
       "        vertical-align: middle;\n",
       "    }\n",
       "\n",
       "    .dataframe tbody tr th {\n",
       "        vertical-align: top;\n",
       "    }\n",
       "\n",
       "    .dataframe thead th {\n",
       "        text-align: right;\n",
       "    }\n",
       "</style>\n",
       "<table border=\"1\" class=\"dataframe\">\n",
       "  <thead>\n",
       "    <tr style=\"text-align: right;\">\n",
       "      <th></th>\n",
       "      <th>actual</th>\n",
       "      <th>predicted</th>\n",
       "    </tr>\n",
       "  </thead>\n",
       "  <tbody>\n",
       "    <tr>\n",
       "      <th>count</th>\n",
       "      <td>1.378800e+05</td>\n",
       "      <td>137880.000000</td>\n",
       "    </tr>\n",
       "    <tr>\n",
       "      <th>mean</th>\n",
       "      <td>4.496009e-01</td>\n",
       "      <td>0.445949</td>\n",
       "    </tr>\n",
       "    <tr>\n",
       "      <th>std</th>\n",
       "      <td>4.964652e-01</td>\n",
       "      <td>0.397463</td>\n",
       "    </tr>\n",
       "    <tr>\n",
       "      <th>min</th>\n",
       "      <td>1.925930e-34</td>\n",
       "      <td>0.000000</td>\n",
       "    </tr>\n",
       "    <tr>\n",
       "      <th>25%</th>\n",
       "      <td>1.525879e-05</td>\n",
       "      <td>0.000000</td>\n",
       "    </tr>\n",
       "    <tr>\n",
       "      <th>50%</th>\n",
       "      <td>9.765625e-04</td>\n",
       "      <td>0.556107</td>\n",
       "    </tr>\n",
       "    <tr>\n",
       "      <th>75%</th>\n",
       "      <td>1.000000e+00</td>\n",
       "      <td>0.836779</td>\n",
       "    </tr>\n",
       "    <tr>\n",
       "      <th>max</th>\n",
       "      <td>1.000000e+00</td>\n",
       "      <td>1.468934</td>\n",
       "    </tr>\n",
       "  </tbody>\n",
       "</table>\n",
       "</div>"
      ],
      "text/plain": [
       "             actual      predicted\n",
       "count  1.378800e+05  137880.000000\n",
       "mean   4.496009e-01       0.445949\n",
       "std    4.964652e-01       0.397463\n",
       "min    1.925930e-34       0.000000\n",
       "25%    1.525879e-05       0.000000\n",
       "50%    9.765625e-04       0.556107\n",
       "75%    1.000000e+00       0.836779\n",
       "max    1.000000e+00       1.468934"
      ]
     },
     "execution_count": 54,
     "metadata": {},
     "output_type": "execute_result"
    }
   ],
   "source": [
    "test_results.describe()"
   ]
  },
  {
   "cell_type": "code",
   "execution_count": 55,
   "metadata": {},
   "outputs": [
    {
     "data": {
      "text/plain": [
       "array([[69340,  6697],\n",
       "       [ 8207, 53636]])"
      ]
     },
     "execution_count": 55,
     "metadata": {},
     "output_type": "execute_result"
    }
   ],
   "source": [
    "metrics.confusion_matrix(test_results[\"actual\"]==1, test_results[\"predicted\"]>0.628)"
   ]
  },
  {
   "cell_type": "code",
   "execution_count": 56,
   "metadata": {},
   "outputs": [
    {
     "data": {
      "text/plain": [
       "0.10583259184752472"
      ]
     },
     "execution_count": 56,
     "metadata": {},
     "output_type": "execute_result"
    }
   ],
   "source": [
    "8207/(8207+69340)"
   ]
  },
  {
   "cell_type": "code",
   "execution_count": 57,
   "metadata": {},
   "outputs": [
    {
     "data": {
      "text/plain": [
       "0.1110006132630567"
      ]
     },
     "execution_count": 57,
     "metadata": {},
     "output_type": "execute_result"
    }
   ],
   "source": [
    "6697/(6697+53636)"
   ]
  },
  {
   "cell_type": "code",
   "execution_count": null,
   "metadata": {},
   "outputs": [],
   "source": []
  }
 ],
 "metadata": {
  "kernelspec": {
   "display_name": "Python 3",
   "language": "python",
   "name": "python3"
  },
  "language_info": {
   "codemirror_mode": {
    "name": "ipython",
    "version": 3
   },
   "file_extension": ".py",
   "mimetype": "text/x-python",
   "name": "python",
   "nbconvert_exporter": "python",
   "pygments_lexer": "ipython3",
   "version": "3.7.5"
  },
  "pycharm": {
   "stem_cell": {
    "cell_type": "raw",
    "source": [],
    "metadata": {
     "collapsed": false
    }
   }
  }
 },
 "nbformat": 4,
 "nbformat_minor": 4
}