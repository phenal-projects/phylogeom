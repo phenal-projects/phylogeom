{
 "cells": [
  {
   "cell_type": "code",
   "execution_count": 1,
   "metadata": {
    "execution": {
     "iopub.execute_input": "2020-04-18T08:39:37.174Z",
     "iopub.status.busy": "2020-04-18T08:39:37.168Z",
     "iopub.status.idle": "2020-04-18T08:39:37.190Z",
     "shell.execute_reply": "2020-04-18T08:39:37.197Z"
    }
   },
   "outputs": [
    {
     "data": {
      "text/plain": [
       "<torch._C.Generator at 0x7fafe4464e70>"
      ]
     },
     "execution_count": 1,
     "metadata": {},
     "output_type": "execute_result"
    }
   ],
   "source": [
    "import sys\n",
    "sys.path.append('../src/') # for graph_data\n",
    "\n",
    "import graph_data as gd\n",
    "import time\n",
    "import torch\n",
    "from models import TreeSupport\n",
    "from torch import optim\n",
    "from torch.nn import MSELoss\n",
    "from torch.utils.data import random_split, ConcatDataset\n",
    "from torch_geometric.data import DataLoader\n",
    "from Bio import Phylo as phy\n",
    "\n",
    "import pandas as pd\n",
    "import numpy as np\n",
    "import matplotlib.pyplot as plt\n",
    "\n",
    "plt.rc('font', family='serif')\n",
    "plt.rc('xtick', labelsize=10)\n",
    "plt.rc('ytick', labelsize=10)\n",
    "plt.rc('text', usetex=True)\n",
    "\n",
    "torch.manual_seed(245)"
   ]
  },
  {
   "cell_type": "markdown",
   "metadata": {
    "execution": {
     "iopub.execute_input": "2020-04-18T08:39:21.561Z",
     "iopub.status.busy": "2020-04-18T08:39:21.555Z",
     "iopub.status.idle": "2020-04-18T08:39:21.573Z",
     "shell.execute_reply": "2020-04-18T08:39:21.579Z"
    }
   },
   "source": [
    "# Datasets\n",
    "## Prepare trees and reconstructed sequences"
   ]
  },
  {
   "cell_type": "code",
   "execution_count": 2,
   "metadata": {
    "execution": {
     "iopub.execute_input": "2020-04-18T08:19:03.493Z",
     "iopub.status.busy": "2020-04-18T08:19:03.486Z",
     "iopub.status.idle": "2020-04-18T08:19:03.885Z",
     "shell.execute_reply": "2020-04-18T08:19:03.923Z"
    },
    "scrolled": true
   },
   "outputs": [],
   "source": [
    "data_path = '../data/'"
   ]
  },
  {
   "cell_type": "code",
   "execution_count": 3,
   "metadata": {
    "execution": {
     "iopub.execute_input": "2020-04-18T08:19:03.903Z",
     "iopub.status.busy": "2020-04-18T08:19:03.896Z",
     "iopub.status.idle": "2020-04-18T08:19:04.020Z",
     "shell.execute_reply": "2020-04-18T08:19:04.056Z"
    }
   },
   "outputs": [],
   "source": [
    "target_tree = phy.read(data_path+'tree/Fungi45_infer/Fungi.tre', 'newick')\n",
    "#all_data = gd.Trees.load_ready_trees(data_path+'tree/Fungi45_infer/fml_output/', data_path+'tree/Fungi45_infer/fml_output/*.tre', target_tree)  # INITIALIZE NEW DS\n",
    "fungi_data = gd.Trees(data_path+'tree/Fungi45_infer/', data_path+'alns/Fungi45/', target_tree)\n",
    "fungi_data.data.x = fungi_data.data.x.float()\n",
    "fungi_data.data.edge_attr = (torch.max(fungi_data.data.edge_attr)+0.001 - fungi_data.data.edge_attr).float()\n",
    "fungi_data.data.edge_index = fungi_data.data.edge_index.long()"
   ]
  },
  {
   "cell_type": "code",
   "execution_count": 4,
   "metadata": {
    "execution": {
     "iopub.execute_input": "2020-04-18T08:19:04.038Z",
     "iopub.status.busy": "2020-04-18T08:19:04.032Z",
     "iopub.status.idle": "2020-04-18T08:19:04.049Z",
     "shell.execute_reply": "2020-04-18T08:19:04.060Z"
    }
   },
   "outputs": [],
   "source": [
    "target_tree = phy.read(data_path+'tree/Archaea/Archaea.tre', 'newick')\n",
    "#archaea_data = gd.Trees.load_ready_trees(data_path+'tree/Archaea/fml_output/', data_path+'tree/Archaea/fml_output/*.tre', target_tree)  # INITIALIZE NEW DS //delete temp_tree\n",
    "archaea_data = gd.Trees(data_path+\"tree/Archaea/\", data_path+\"alns/Archaea/\", target_tree)\n",
    "archaea_data.data.x = archaea_data.data.x.float()\n",
    "archaea_data.data.edge_attr = (torch.max(archaea_data.data.edge_attr)+0.001 - archaea_data.data.edge_attr).float()\n",
    "archaea_data.data.edge_index = archaea_data.data.edge_index.long()"
   ]
  },
  {
   "cell_type": "code",
   "execution_count": 5,
   "metadata": {
    "execution": {
     "iopub.execute_input": "2020-04-18T08:19:04.138Z",
     "iopub.status.busy": "2020-04-18T08:19:04.130Z",
     "iopub.status.idle": "2020-04-18T08:19:04.150Z",
     "shell.execute_reply": "2020-04-18T08:19:04.156Z"
    }
   },
   "outputs": [],
   "source": [
    "# concatenate datasets\n",
    "all_data =  ConcatDataset([fungi_data, archaea_data])"
   ]
  },
  {
   "cell_type": "code",
   "execution_count": 6,
   "metadata": {
    "collapsed": false,
    "execution": {
     "iopub.execute_input": "2020-04-18T08:39:42.507Z",
     "iopub.status.busy": "2020-04-18T08:39:42.499Z",
     "iopub.status.idle": "2020-04-18T08:39:42.906Z",
     "shell.execute_reply": "2020-04-18T08:39:42.950Z"
    },
    "jupyter": {
     "outputs_hidden": false,
     "source_hidden": false
    },
    "nteract": {
     "transient": {
      "deleting": false
     }
    }
   },
   "outputs": [],
   "source": [
    "# data preparation\n",
    "train_batch = 50\n",
    "test_batch = 50\n",
    "# data loaders\n",
    "train, test = random_split(\n",
    "    all_data, [round(len(all_data) * 0.8), round(len(all_data) * 0.2)]\n",
    ")"
   ]
  },
  {
   "cell_type": "code",
   "execution_count": 7,
   "metadata": {
    "execution": {
     "iopub.execute_input": "2020-04-18T08:40:07.850Z",
     "iopub.status.busy": "2020-04-18T08:40:07.842Z",
     "iopub.status.idle": "2020-04-18T08:40:08.918Z",
     "shell.execute_reply": "2020-04-18T08:40:08.961Z"
    },
    "nteract": {
     "transient": {
      "deleting": false
     }
    },
    "outputExpanded": false
   },
   "outputs": [
    {
     "data": {
      "image/png": "[encoded data removed]",
      "text/plain": [
       "<Figure size 576x432 with 1 Axes>"
      ]
     },
     "metadata": {
      "needs_background": "light"
     },
     "output_type": "display_data"
    }
   ],
   "source": [
    "lst = list()\n",
    "for i, data in enumerate(train):\n",
    "    nodes = torch.stack(torch.unique(data.edge_index[0], return_counts=True))\n",
    "    internodes = nodes[0, nodes[1]!=1]\n",
    "    lst += data.y[internodes].squeeze().tolist()\n",
    "\n",
    "fig = plt.figure(figsize=(8, 6))\n",
    "ax = fig.add_subplot(1, 1, 1)\n",
    "plt.xscale('log')\n",
    "logbins = np.geomspace(min(lst), max(lst), 20)\n",
    "plt.hist(lst, bins=logbins)\n",
    "ax.set_xlabel('Quality of the nodes')\n",
    "ax.set_ylabel('Count')\n",
    "plt.savefig('quality.png')"
   ]
  },
  {
   "cell_type": "code",
   "execution_count": 8,
   "metadata": {
    "execution": {
     "iopub.execute_input": "2020-04-17T18:50:50.798Z",
     "iopub.status.busy": "2020-04-17T18:50:50.789Z",
     "iopub.status.idle": "2020-04-17T18:50:50.806Z",
     "shell.execute_reply": "2020-04-17T18:50:50.814Z"
    }
   },
   "outputs": [],
   "source": [
    "train_dl = DataLoader(\n",
    "    train, batch_size=train_batch, pin_memory=True, num_workers=3\n",
    ")\n",
    "test_dl = DataLoader(\n",
    "    test, batch_size=test_batch, num_workers=2\n",
    ")"
   ]
  },
  {
   "cell_type": "code",
   "execution_count": 9,
   "metadata": {
    "execution": {
     "iopub.execute_input": "2020-04-17T18:50:54.372Z",
     "iopub.status.busy": "2020-04-17T18:50:54.364Z",
     "iopub.status.idle": "2020-04-17T18:50:55.930Z",
     "shell.execute_reply": "2020-04-17T18:50:55.916Z"
    }
   },
   "outputs": [],
   "source": [
    "model = TreeSupport(231, 400)\n",
    "model = model.cuda()\n",
    "silent = False\n",
    "num_epochs = 400\n",
    "loss_fn = MSELoss()\n",
    "test_batches = len(test_dl)\n",
    "# stattr\n",
    "losses = []\n",
    "val_losses = []\n",
    "learning_rates = []"
   ]
  },
  {
   "cell_type": "code",
   "execution_count": 10,
   "metadata": {
    "execution": {
     "iopub.execute_input": "2020-04-17T18:50:55.946Z",
     "iopub.status.busy": "2020-04-17T18:50:55.940Z",
     "iopub.status.idle": "2020-04-17T18:50:35.582Z",
     "shell.execute_reply": "2020-04-17T18:50:35.611Z"
    }
   },
   "outputs": [
    {
     "name": "stdout",
     "output_type": "stream",
     "text": [
      "Epoch [1/400], Loss (last training batch/val): 0.2446/0.2441. Time elapsed: 2.42\n",
      "Epoch [2/400], Loss (last training batch/val): 0.2206/0.2234. Time elapsed: 4.49\n",
      "Epoch [3/400], Loss (last training batch/val): 0.1911/0.1887. Time elapsed: 6.57\n",
      "Epoch [4/400], Loss (last training batch/val): 0.1746/0.1661. Time elapsed: 8.65\n",
      "Epoch [5/400], Loss (last training batch/val): 0.1509/0.1567. Time elapsed: 10.71\n",
      "Epoch [6/400], Loss (last training batch/val): 0.1375/0.1429. Time elapsed: 12.77\n",
      "Epoch [7/400], Loss (last training batch/val): 0.1279/0.1334. Time elapsed: 14.86\n",
      "Epoch [8/400], Loss (last training batch/val): 0.1224/0.1202. Time elapsed: 16.93\n",
      "Epoch [9/400], Loss (last training batch/val): 0.1162/0.1120. Time elapsed: 18.99\n",
      "Epoch [10/400], Loss (last training batch/val): 0.1064/0.1049. Time elapsed: 21.07\n",
      "Epoch [11/400], Loss (last training batch/val): 0.1016/0.0998. Time elapsed: 23.14\n",
      "Epoch [12/400], Loss (last training batch/val): 0.0968/0.0954. Time elapsed: 25.24\n",
      "Epoch [13/400], Loss (last training batch/val): 0.0944/0.0893. Time elapsed: 27.32\n",
      "Epoch [14/400], Loss (last training batch/val): 0.0890/0.0849. Time elapsed: 29.41\n",
      "Epoch [15/400], Loss (last training batch/val): 0.1025/0.0795. Time elapsed: 31.48\n",
      "Epoch [16/400], Loss (last training batch/val): 0.0776/0.0732. Time elapsed: 33.55\n",
      "Epoch [17/400], Loss (last training batch/val): 0.0758/0.0675. Time elapsed: 35.64\n",
      "Epoch [18/400], Loss (last training batch/val): 0.0692/0.0669. Time elapsed: 37.73\n",
      "Epoch [19/400], Loss (last training batch/val): 0.0744/0.0792. Time elapsed: 39.89\n",
      "Epoch [20/400], Loss (last training batch/val): 0.0731/0.1260. Time elapsed: 41.98\n",
      "Epoch [21/400], Loss (last training batch/val): 0.0590/0.0547. Time elapsed: 44.05\n",
      "Epoch [22/400], Loss (last training batch/val): 0.0552/0.0477. Time elapsed: 46.12\n",
      "Epoch [23/400], Loss (last training batch/val): 0.0529/0.0478. Time elapsed: 48.19\n",
      "Epoch [24/400], Loss (last training batch/val): 0.0532/0.0514. Time elapsed: 50.27\n",
      "Epoch [25/400], Loss (last training batch/val): 0.0504/0.0427. Time elapsed: 52.36\n",
      "Epoch [26/400], Loss (last training batch/val): 0.0578/0.0399. Time elapsed: 54.43\n",
      "Epoch [27/400], Loss (last training batch/val): 0.0475/0.0381. Time elapsed: 56.50\n",
      "Epoch [28/400], Loss (last training batch/val): 0.0535/0.0384. Time elapsed: 58.60\n",
      "Epoch [29/400], Loss (last training batch/val): 0.0445/0.0363. Time elapsed: 60.67\n",
      "Epoch [30/400], Loss (last training batch/val): 0.0432/0.0361. Time elapsed: 62.75\n",
      "Epoch [31/400], Loss (last training batch/val): 0.0428/0.0354. Time elapsed: 64.85\n",
      "Epoch [32/400], Loss (last training batch/val): 0.0416/0.0353. Time elapsed: 66.95\n",
      "Epoch [33/400], Loss (last training batch/val): 0.0415/0.0339. Time elapsed: 69.06\n",
      "Epoch [34/400], Loss (last training batch/val): 0.0413/0.0331. Time elapsed: 71.13\n",
      "Epoch [35/400], Loss (last training batch/val): 0.0418/0.0327. Time elapsed: 73.20\n",
      "Epoch [36/400], Loss (last training batch/val): 0.0403/0.0321. Time elapsed: 75.26\n",
      "Epoch [37/400], Loss (last training batch/val): 0.0385/0.0317. Time elapsed: 77.35\n",
      "Epoch [38/400], Loss (last training batch/val): 0.0391/0.0325. Time elapsed: 79.46\n",
      "Epoch [39/400], Loss (last training batch/val): 0.0396/0.0309. Time elapsed: 81.57\n",
      "Epoch [40/400], Loss (last training batch/val): 0.0383/0.0305. Time elapsed: 83.68\n",
      "Epoch [41/400], Loss (last training batch/val): 0.0397/0.0307. Time elapsed: 85.76\n",
      "Epoch [42/400], Loss (last training batch/val): 0.0365/0.0298. Time elapsed: 87.84\n",
      "Epoch [43/400], Loss (last training batch/val): 0.0376/0.0293. Time elapsed: 89.89\n",
      "Epoch [44/400], Loss (last training batch/val): 0.0364/0.0305. Time elapsed: 91.96\n",
      "Epoch [45/400], Loss (last training batch/val): 0.0345/0.0292. Time elapsed: 94.04\n",
      "Epoch [46/400], Loss (last training batch/val): 0.0351/0.0286. Time elapsed: 96.13\n",
      "Epoch [47/400], Loss (last training batch/val): 0.0355/0.0294. Time elapsed: 98.22\n",
      "Epoch [48/400], Loss (last training batch/val): 0.0351/0.0282. Time elapsed: 100.33\n",
      "Epoch [49/400], Loss (last training batch/val): 0.0352/0.0281. Time elapsed: 102.40\n",
      "Epoch [50/400], Loss (last training batch/val): 0.0355/0.0352. Time elapsed: 104.48\n",
      "Epoch [51/400], Loss (last training batch/val): 0.0354/0.0296. Time elapsed: 106.57\n",
      "Epoch [52/400], Loss (last training batch/val): 0.0350/0.0283. Time elapsed: 108.65\n",
      "Epoch [53/400], Loss (last training batch/val): 0.0357/0.0285. Time elapsed: 110.75\n",
      "Epoch [54/400], Loss (last training batch/val): 0.0341/0.0298. Time elapsed: 112.83\n",
      "Epoch    55: reducing learning rate of group 0 to 2.5000e-03.\n",
      "Epoch [55/400], Loss (last training batch/val): 0.0360/0.0289. Time elapsed: 114.92\n",
      "Epoch [56/400], Loss (last training batch/val): 0.0348/0.0277. Time elapsed: 117.00\n",
      "Epoch [57/400], Loss (last training batch/val): 0.0352/0.0285. Time elapsed: 119.09\n",
      "Epoch [58/400], Loss (last training batch/val): 0.0344/0.0277. Time elapsed: 121.17\n",
      "Epoch [59/400], Loss (last training batch/val): 0.0340/0.0287. Time elapsed: 123.24\n",
      "Epoch [60/400], Loss (last training batch/val): 0.0363/0.0285. Time elapsed: 125.35\n",
      "Epoch [61/400], Loss (last training batch/val): 0.0358/0.0277. Time elapsed: 127.45\n",
      "Epoch [62/400], Loss (last training batch/val): 0.0332/0.0279. Time elapsed: 129.54\n",
      "Epoch [63/400], Loss (last training batch/val): 0.0339/0.0278. Time elapsed: 131.63\n",
      "Epoch    64: reducing learning rate of group 0 to 1.2500e-03.\n",
      "Epoch [64/400], Loss (last training batch/val): 0.0351/0.0280. Time elapsed: 133.70\n",
      "Epoch [65/400], Loss (last training batch/val): 0.0332/0.0283. Time elapsed: 135.79\n",
      "Epoch [66/400], Loss (last training batch/val): 0.0339/0.0275. Time elapsed: 137.85\n",
      "Epoch [67/400], Loss (last training batch/val): 0.0343/0.0281. Time elapsed: 139.92\n",
      "Epoch [68/400], Loss (last training batch/val): 0.0339/0.0291. Time elapsed: 142.01\n",
      "Epoch [69/400], Loss (last training batch/val): 0.0328/0.0283. Time elapsed: 144.07\n",
      "Epoch [70/400], Loss (last training batch/val): 0.0344/0.0280. Time elapsed: 146.15\n",
      "Epoch [71/400], Loss (last training batch/val): 0.0348/0.0282. Time elapsed: 148.22\n",
      "Epoch    72: reducing learning rate of group 0 to 6.2500e-04.\n",
      "Epoch [72/400], Loss (last training batch/val): 0.0349/0.0279. Time elapsed: 150.28\n",
      "Epoch [73/400], Loss (last training batch/val): 0.0333/0.0281. Time elapsed: 152.36\n",
      "Epoch [74/400], Loss (last training batch/val): 0.0329/0.0280. Time elapsed: 154.42\n",
      "Epoch [75/400], Loss (last training batch/val): 0.0343/0.0275. Time elapsed: 156.51\n",
      "Epoch [76/400], Loss (last training batch/val): 0.0337/0.0280. Time elapsed: 158.60\n",
      "Epoch [77/400], Loss (last training batch/val): 0.0327/0.0288. Time elapsed: 160.69\n",
      "Epoch [78/400], Loss (last training batch/val): 0.0327/0.0280. Time elapsed: 162.78\n",
      "Epoch [79/400], Loss (last training batch/val): 0.0326/0.0282. Time elapsed: 164.85\n",
      "Epoch [80/400], Loss (last training batch/val): 0.0345/0.0281. Time elapsed: 166.93\n",
      "Epoch    81: reducing learning rate of group 0 to 3.1250e-04.\n",
      "Epoch [81/400], Loss (last training batch/val): 0.0345/0.0285. Time elapsed: 169.01\n",
      "Epoch [82/400], Loss (last training batch/val): 0.0336/0.0286. Time elapsed: 171.08\n",
      "Epoch [83/400], Loss (last training batch/val): 0.0334/0.0289. Time elapsed: 173.15\n",
      "Epoch [84/400], Loss (last training batch/val): 0.0336/0.0284. Time elapsed: 175.23\n",
      "Epoch [85/400], Loss (last training batch/val): 0.0329/0.0282. Time elapsed: 177.31\n",
      "Epoch [86/400], Loss (last training batch/val): 0.0317/0.0284. Time elapsed: 179.38\n",
      "Epoch [87/400], Loss (last training batch/val): 0.0316/0.0285. Time elapsed: 181.46\n",
      "Epoch [88/400], Loss (last training batch/val): 0.0337/0.0289. Time elapsed: 183.54\n",
      "Epoch    89: reducing learning rate of group 0 to 1.5625e-04.\n",
      "Epoch [89/400], Loss (last training batch/val): 0.0327/0.0284. Time elapsed: 185.62\n",
      "Epoch [90/400], Loss (last training batch/val): 0.0340/0.0284. Time elapsed: 187.72\n",
      "Epoch [91/400], Loss (last training batch/val): 0.0343/0.0280. Time elapsed: 189.80\n",
      "Epoch [92/400], Loss (last training batch/val): 0.0348/0.0285. Time elapsed: 191.88\n",
      "Epoch [93/400], Loss (last training batch/val): 0.0328/0.0282. Time elapsed: 193.98\n",
      "Epoch [94/400], Loss (last training batch/val): 0.0334/0.0282. Time elapsed: 196.06\n",
      "Epoch [95/400], Loss (last training batch/val): 0.0321/0.0283. Time elapsed: 198.15\n",
      "Epoch [96/400], Loss (last training batch/val): 0.0326/0.0280. Time elapsed: 200.25\n",
      "Epoch    97: reducing learning rate of group 0 to 7.8125e-05.\n",
      "Epoch [97/400], Loss (last training batch/val): 0.0346/0.0282. Time elapsed: 202.36\n",
      "Epoch [98/400], Loss (last training batch/val): 0.0335/0.0285. Time elapsed: 204.46\n",
      "Epoch [99/400], Loss (last training batch/val): 0.0331/0.0281. Time elapsed: 206.55\n",
      "Epoch [100/400], Loss (last training batch/val): 0.0337/0.0284. Time elapsed: 208.66\n",
      "Epoch [101/400], Loss (last training batch/val): 0.0335/0.0284. Time elapsed: 210.73\n",
      "Epoch [102/400], Loss (last training batch/val): 0.0334/0.0281. Time elapsed: 212.81\n",
      "Epoch [103/400], Loss (last training batch/val): 0.0345/0.0284. Time elapsed: 214.89\n",
      "Epoch [104/400], Loss (last training batch/val): 0.0325/0.0284. Time elapsed: 217.00\n",
      "Epoch   105: reducing learning rate of group 0 to 3.9063e-05.\n",
      "Epoch [105/400], Loss (last training batch/val): 0.0323/0.0282. Time elapsed: 219.09\n",
      "Epoch [106/400], Loss (last training batch/val): 0.0337/0.0282. Time elapsed: 221.17\n",
      "Epoch [107/400], Loss (last training batch/val): 0.0349/0.0285. Time elapsed: 223.25\n",
      "Epoch [108/400], Loss (last training batch/val): 0.0328/0.0284. Time elapsed: 225.34\n",
      "Epoch [109/400], Loss (last training batch/val): 0.0329/0.0283. Time elapsed: 227.42\n",
      "Epoch [110/400], Loss (last training batch/val): 0.0353/0.0284. Time elapsed: 229.51\n",
      "Epoch [111/400], Loss (last training batch/val): 0.0344/0.0285. Time elapsed: 231.58\n",
      "Epoch [112/400], Loss (last training batch/val): 0.0336/0.0284. Time elapsed: 233.67\n",
      "Epoch   113: reducing learning rate of group 0 to 1.9531e-05.\n",
      "Epoch [113/400], Loss (last training batch/val): 0.0346/0.0284. Time elapsed: 235.78\n",
      "Epoch [114/400], Loss (last training batch/val): 0.0322/0.0284. Time elapsed: 237.87\n",
      "Epoch [115/400], Loss (last training batch/val): 0.0352/0.0283. Time elapsed: 239.96\n",
      "Epoch [116/400], Loss (last training batch/val): 0.0349/0.0283. Time elapsed: 242.09\n",
      "Epoch [117/400], Loss (last training batch/val): 0.0323/0.0284. Time elapsed: 244.19\n",
      "Epoch [118/400], Loss (last training batch/val): 0.0322/0.0284. Time elapsed: 246.28\n",
      "Epoch [119/400], Loss (last training batch/val): 0.0319/0.0283. Time elapsed: 248.37\n",
      "Epoch [120/400], Loss (last training batch/val): 0.0351/0.0283. Time elapsed: 250.47\n",
      "Epoch   121: reducing learning rate of group 0 to 9.7656e-06.\n",
      "Epoch [121/400], Loss (last training batch/val): 0.0319/0.0284. Time elapsed: 252.56\n",
      "Epoch [122/400], Loss (last training batch/val): 0.0341/0.0283. Time elapsed: 254.65\n",
      "Epoch [123/400], Loss (last training batch/val): 0.0341/0.0284. Time elapsed: 256.73\n",
      "Epoch [124/400], Loss (last training batch/val): 0.0327/0.0282. Time elapsed: 258.81\n",
      "Epoch [125/400], Loss (last training batch/val): 0.0339/0.0284. Time elapsed: 260.90\n",
      "Epoch [126/400], Loss (last training batch/val): 0.0343/0.0283. Time elapsed: 262.99\n",
      "Epoch [127/400], Loss (last training batch/val): 0.0330/0.0282. Time elapsed: 265.08\n",
      "Epoch [128/400], Loss (last training batch/val): 0.0336/0.0283. Time elapsed: 267.16\n",
      "Epoch   129: reducing learning rate of group 0 to 4.8828e-06.\n",
      "Epoch [129/400], Loss (last training batch/val): 0.0340/0.0283. Time elapsed: 269.24\n",
      "Epoch [130/400], Loss (last training batch/val): 0.0332/0.0283. Time elapsed: 271.32\n",
      "Epoch [131/400], Loss (last training batch/val): 0.0343/0.0283. Time elapsed: 273.42\n",
      "Epoch [132/400], Loss (last training batch/val): 0.0332/0.0283. Time elapsed: 275.51\n",
      "Epoch [133/400], Loss (last training batch/val): 0.0321/0.0283. Time elapsed: 277.60\n",
      "Epoch [134/400], Loss (last training batch/val): 0.0336/0.0283. Time elapsed: 279.69\n",
      "Epoch [135/400], Loss (last training batch/val): 0.0337/0.0283. Time elapsed: 281.79\n",
      "Epoch [136/400], Loss (last training batch/val): 0.0326/0.0283. Time elapsed: 283.89\n",
      "Epoch   137: reducing learning rate of group 0 to 2.4414e-06.\n",
      "Epoch [137/400], Loss (last training batch/val): 0.0333/0.0284. Time elapsed: 286.00\n",
      "Epoch [138/400], Loss (last training batch/val): 0.0331/0.0283. Time elapsed: 288.09\n",
      "Epoch [139/400], Loss (last training batch/val): 0.0339/0.0283. Time elapsed: 290.18\n",
      "Epoch [140/400], Loss (last training batch/val): 0.0326/0.0283. Time elapsed: 292.27\n",
      "Epoch [141/400], Loss (last training batch/val): 0.0340/0.0283. Time elapsed: 294.37\n",
      "Epoch [142/400], Loss (last training batch/val): 0.0349/0.0283. Time elapsed: 296.45\n",
      "Epoch [143/400], Loss (last training batch/val): 0.0350/0.0283. Time elapsed: 298.54\n",
      "Epoch [144/400], Loss (last training batch/val): 0.0335/0.0283. Time elapsed: 300.62\n",
      "Epoch   145: reducing learning rate of group 0 to 1.2207e-06.\n",
      "Epoch [145/400], Loss (last training batch/val): 0.0340/0.0283. Time elapsed: 302.71\n",
      "Epoch [146/400], Loss (last training batch/val): 0.0327/0.0283. Time elapsed: 304.81\n",
      "Epoch [147/400], Loss (last training batch/val): 0.0340/0.0283. Time elapsed: 306.91\n",
      "Epoch [148/400], Loss (last training batch/val): 0.0333/0.0283. Time elapsed: 309.02\n",
      "Epoch [149/400], Loss (last training batch/val): 0.0339/0.0283. Time elapsed: 311.10\n",
      "Epoch [150/400], Loss (last training batch/val): 0.0320/0.0283. Time elapsed: 313.19\n",
      "Epoch [151/400], Loss (last training batch/val): 0.0325/0.0283. Time elapsed: 315.28\n",
      "Epoch [152/400], Loss (last training batch/val): 0.0326/0.0283. Time elapsed: 317.37\n",
      "Epoch   153: reducing learning rate of group 0 to 6.1035e-07.\n",
      "Epoch [153/400], Loss (last training batch/val): 0.0336/0.0283. Time elapsed: 319.45\n",
      "Epoch [154/400], Loss (last training batch/val): 0.0326/0.0283. Time elapsed: 321.52\n",
      "Epoch [155/400], Loss (last training batch/val): 0.0342/0.0283. Time elapsed: 323.61\n",
      "Epoch [156/400], Loss (last training batch/val): 0.0327/0.0283. Time elapsed: 325.72\n",
      "Epoch [157/400], Loss (last training batch/val): 0.0326/0.0283. Time elapsed: 327.82\n",
      "Epoch [158/400], Loss (last training batch/val): 0.0340/0.0283. Time elapsed: 329.91\n",
      "Epoch [159/400], Loss (last training batch/val): 0.0328/0.0283. Time elapsed: 331.99\n",
      "Epoch [160/400], Loss (last training batch/val): 0.0333/0.0283. Time elapsed: 334.06\n",
      "Epoch   161: reducing learning rate of group 0 to 3.0518e-07.\n",
      "Epoch [161/400], Loss (last training batch/val): 0.0330/0.0283. Time elapsed: 336.17\n",
      "Epoch [162/400], Loss (last training batch/val): 0.0332/0.0283. Time elapsed: 338.25\n",
      "Epoch [163/400], Loss (last training batch/val): 0.0323/0.0283. Time elapsed: 340.35\n",
      "Epoch [164/400], Loss (last training batch/val): 0.0331/0.0283. Time elapsed: 342.45\n",
      "Epoch [165/400], Loss (last training batch/val): 0.0344/0.0283. Time elapsed: 344.56\n",
      "Epoch [166/400], Loss (last training batch/val): 0.0333/0.0283. Time elapsed: 346.64\n",
      "Epoch [167/400], Loss (last training batch/val): 0.0327/0.0283. Time elapsed: 348.74\n",
      "Epoch [168/400], Loss (last training batch/val): 0.0335/0.0283. Time elapsed: 350.83\n",
      "Epoch   169: reducing learning rate of group 0 to 1.5259e-07.\n",
      "Epoch [169/400], Loss (last training batch/val): 0.0325/0.0283. Time elapsed: 352.93\n",
      "Epoch [170/400], Loss (last training batch/val): 0.0335/0.0283. Time elapsed: 355.01\n",
      "Epoch [171/400], Loss (last training batch/val): 0.0340/0.0283. Time elapsed: 357.09\n",
      "Epoch [172/400], Loss (last training batch/val): 0.0331/0.0283. Time elapsed: 359.17\n",
      "Epoch [173/400], Loss (last training batch/val): 0.0319/0.0283. Time elapsed: 361.26\n",
      "Epoch [174/400], Loss (last training batch/val): 0.0332/0.0283. Time elapsed: 363.34\n",
      "Epoch [175/400], Loss (last training batch/val): 0.0330/0.0283. Time elapsed: 365.43\n",
      "Epoch [176/400], Loss (last training batch/val): 0.0327/0.0283. Time elapsed: 367.52\n",
      "Epoch   177: reducing learning rate of group 0 to 7.6294e-08.\n",
      "Epoch [177/400], Loss (last training batch/val): 0.0342/0.0283. Time elapsed: 369.61\n",
      "Epoch [178/400], Loss (last training batch/val): 0.0330/0.0283. Time elapsed: 371.71\n",
      "Epoch [179/400], Loss (last training batch/val): 0.0328/0.0283. Time elapsed: 373.80\n",
      "Epoch [180/400], Loss (last training batch/val): 0.0339/0.0283. Time elapsed: 375.91\n",
      "Epoch [181/400], Loss (last training batch/val): 0.0341/0.0283. Time elapsed: 378.00\n",
      "Epoch [182/400], Loss (last training batch/val): 0.0329/0.0283. Time elapsed: 380.08\n",
      "Epoch [183/400], Loss (last training batch/val): 0.0325/0.0283. Time elapsed: 382.16\n",
      "Epoch [184/400], Loss (last training batch/val): 0.0328/0.0283. Time elapsed: 384.26\n",
      "Epoch   185: reducing learning rate of group 0 to 3.8147e-08.\n",
      "Epoch [185/400], Loss (last training batch/val): 0.0327/0.0283. Time elapsed: 386.34\n",
      "Epoch [186/400], Loss (last training batch/val): 0.0323/0.0283. Time elapsed: 388.46\n",
      "Epoch [187/400], Loss (last training batch/val): 0.0337/0.0283. Time elapsed: 390.56\n",
      "Epoch [188/400], Loss (last training batch/val): 0.0351/0.0283. Time elapsed: 392.64\n",
      "Epoch [189/400], Loss (last training batch/val): 0.0328/0.0283. Time elapsed: 394.76\n",
      "Epoch [190/400], Loss (last training batch/val): 0.0319/0.0283. Time elapsed: 396.85\n",
      "Epoch [191/400], Loss (last training batch/val): 0.0335/0.0283. Time elapsed: 398.95\n",
      "Epoch [192/400], Loss (last training batch/val): 0.0338/0.0283. Time elapsed: 401.05\n",
      "Epoch   193: reducing learning rate of group 0 to 1.9073e-08.\n",
      "Epoch [193/400], Loss (last training batch/val): 0.0340/0.0283. Time elapsed: 403.14\n",
      "Epoch [194/400], Loss (last training batch/val): 0.0342/0.0283. Time elapsed: 405.22\n",
      "Epoch [195/400], Loss (last training batch/val): 0.0328/0.0283. Time elapsed: 407.31\n",
      "Epoch [196/400], Loss (last training batch/val): 0.0338/0.0283. Time elapsed: 409.40\n",
      "Epoch [197/400], Loss (last training batch/val): 0.0322/0.0283. Time elapsed: 411.48\n",
      "Epoch [198/400], Loss (last training batch/val): 0.0332/0.0283. Time elapsed: 413.56\n",
      "Epoch [199/400], Loss (last training batch/val): 0.0340/0.0283. Time elapsed: 415.65\n",
      "Epoch [200/400], Loss (last training batch/val): 0.0336/0.0283. Time elapsed: 417.73\n",
      "Epoch [201/400], Loss (last training batch/val): 0.0345/0.0283. Time elapsed: 419.82\n",
      "Epoch [202/400], Loss (last training batch/val): 0.0342/0.0283. Time elapsed: 421.91\n",
      "Epoch [203/400], Loss (last training batch/val): 0.0340/0.0283. Time elapsed: 424.00\n",
      "Epoch [204/400], Loss (last training batch/val): 0.0344/0.0283. Time elapsed: 426.10\n",
      "Epoch [205/400], Loss (last training batch/val): 0.0342/0.0283. Time elapsed: 428.20\n",
      "Epoch [206/400], Loss (last training batch/val): 0.0336/0.0283. Time elapsed: 430.31\n",
      "Epoch [207/400], Loss (last training batch/val): 0.0342/0.0283. Time elapsed: 432.38\n",
      "Epoch [208/400], Loss (last training batch/val): 0.0330/0.0283. Time elapsed: 434.45\n",
      "Epoch [209/400], Loss (last training batch/val): 0.0342/0.0283. Time elapsed: 436.57\n",
      "Epoch [210/400], Loss (last training batch/val): 0.0326/0.0283. Time elapsed: 438.65\n",
      "Epoch [211/400], Loss (last training batch/val): 0.0332/0.0283. Time elapsed: 440.75\n",
      "Epoch [212/400], Loss (last training batch/val): 0.0334/0.0283. Time elapsed: 442.84\n",
      "Epoch [213/400], Loss (last training batch/val): 0.0325/0.0283. Time elapsed: 444.92\n",
      "Epoch [214/400], Loss (last training batch/val): 0.0351/0.0283. Time elapsed: 447.01\n",
      "Epoch [215/400], Loss (last training batch/val): 0.0346/0.0283. Time elapsed: 449.08\n",
      "Epoch [216/400], Loss (last training batch/val): 0.0324/0.0283. Time elapsed: 451.17\n",
      "Epoch [217/400], Loss (last training batch/val): 0.0327/0.0283. Time elapsed: 453.27\n",
      "Epoch [218/400], Loss (last training batch/val): 0.0331/0.0283. Time elapsed: 455.34\n",
      "Epoch [219/400], Loss (last training batch/val): 0.0345/0.0283. Time elapsed: 457.43\n",
      "Epoch [220/400], Loss (last training batch/val): 0.0335/0.0283. Time elapsed: 459.54\n",
      "Epoch [221/400], Loss (last training batch/val): 0.0330/0.0283. Time elapsed: 461.64\n",
      "Epoch [222/400], Loss (last training batch/val): 0.0349/0.0283. Time elapsed: 463.72\n",
      "Epoch [223/400], Loss (last training batch/val): 0.0363/0.0283. Time elapsed: 465.82\n",
      "Epoch [224/400], Loss (last training batch/val): 0.0350/0.0283. Time elapsed: 467.92\n",
      "Epoch [225/400], Loss (last training batch/val): 0.0337/0.0283. Time elapsed: 470.01\n",
      "Epoch [226/400], Loss (last training batch/val): 0.0341/0.0283. Time elapsed: 472.11\n",
      "Epoch [227/400], Loss (last training batch/val): 0.0329/0.0283. Time elapsed: 474.20\n",
      "Epoch [228/400], Loss (last training batch/val): 0.0332/0.0283. Time elapsed: 476.30\n",
      "Epoch [229/400], Loss (last training batch/val): 0.0332/0.0283. Time elapsed: 478.38\n",
      "Epoch [230/400], Loss (last training batch/val): 0.0334/0.0283. Time elapsed: 480.48\n",
      "Epoch [231/400], Loss (last training batch/val): 0.0327/0.0283. Time elapsed: 482.55\n",
      "Epoch [232/400], Loss (last training batch/val): 0.0340/0.0283. Time elapsed: 484.65\n",
      "Epoch [233/400], Loss (last training batch/val): 0.0323/0.0283. Time elapsed: 486.75\n",
      "Epoch [234/400], Loss (last training batch/val): 0.0338/0.0283. Time elapsed: 488.83\n",
      "Epoch [235/400], Loss (last training batch/val): 0.0343/0.0283. Time elapsed: 490.94\n",
      "Epoch [236/400], Loss (last training batch/val): 0.0326/0.0283. Time elapsed: 493.04\n",
      "Epoch [237/400], Loss (last training batch/val): 0.0334/0.0283. Time elapsed: 495.13\n",
      "Epoch [238/400], Loss (last training batch/val): 0.0329/0.0283. Time elapsed: 497.21\n",
      "Epoch [239/400], Loss (last training batch/val): 0.0324/0.0283. Time elapsed: 499.29\n",
      "Epoch [240/400], Loss (last training batch/val): 0.0324/0.0283. Time elapsed: 501.38\n",
      "Epoch [241/400], Loss (last training batch/val): 0.0335/0.0283. Time elapsed: 503.47\n",
      "Epoch [242/400], Loss (last training batch/val): 0.0326/0.0283. Time elapsed: 505.57\n",
      "Epoch [243/400], Loss (last training batch/val): 0.0354/0.0283. Time elapsed: 507.67\n",
      "Epoch [244/400], Loss (last training batch/val): 0.0334/0.0283. Time elapsed: 509.77\n",
      "Epoch [245/400], Loss (last training batch/val): 0.0325/0.0283. Time elapsed: 511.88\n",
      "Epoch [246/400], Loss (last training batch/val): 0.0339/0.0283. Time elapsed: 513.96\n",
      "Epoch [247/400], Loss (last training batch/val): 0.0343/0.0283. Time elapsed: 516.05\n",
      "Epoch [248/400], Loss (last training batch/val): 0.0320/0.0283. Time elapsed: 518.13\n",
      "Epoch [249/400], Loss (last training batch/val): 0.0338/0.0283. Time elapsed: 520.20\n",
      "Epoch [250/400], Loss (last training batch/val): 0.0327/0.0283. Time elapsed: 522.29\n",
      "Epoch [251/400], Loss (last training batch/val): 0.0335/0.0283. Time elapsed: 524.37\n",
      "Epoch [252/400], Loss (last training batch/val): 0.0340/0.0283. Time elapsed: 526.48\n",
      "Epoch [253/400], Loss (last training batch/val): 0.0331/0.0283. Time elapsed: 528.55\n",
      "Epoch [254/400], Loss (last training batch/val): 0.0330/0.0283. Time elapsed: 530.64\n",
      "Epoch [255/400], Loss (last training batch/val): 0.0343/0.0283. Time elapsed: 532.73\n",
      "Epoch [256/400], Loss (last training batch/val): 0.0338/0.0283. Time elapsed: 534.83\n",
      "Epoch [257/400], Loss (last training batch/val): 0.0348/0.0283. Time elapsed: 536.93\n",
      "Epoch [258/400], Loss (last training batch/val): 0.0321/0.0283. Time elapsed: 539.01\n",
      "Epoch [259/400], Loss (last training batch/val): 0.0323/0.0283. Time elapsed: 541.10\n",
      "Epoch [260/400], Loss (last training batch/val): 0.0326/0.0283. Time elapsed: 543.21\n",
      "Epoch [261/400], Loss (last training batch/val): 0.0327/0.0283. Time elapsed: 545.30\n",
      "Epoch [262/400], Loss (last training batch/val): 0.0338/0.0283. Time elapsed: 547.41\n",
      "Epoch [263/400], Loss (last training batch/val): 0.0333/0.0283. Time elapsed: 549.49\n",
      "Epoch [264/400], Loss (last training batch/val): 0.0332/0.0283. Time elapsed: 551.56\n",
      "Epoch [265/400], Loss (last training batch/val): 0.0328/0.0283. Time elapsed: 553.64\n",
      "Epoch [266/400], Loss (last training batch/val): 0.0335/0.0283. Time elapsed: 555.74\n",
      "Epoch [267/400], Loss (last training batch/val): 0.0342/0.0283. Time elapsed: 557.83\n",
      "Epoch [268/400], Loss (last training batch/val): 0.0337/0.0283. Time elapsed: 559.93\n",
      "Epoch [269/400], Loss (last training batch/val): 0.0324/0.0283. Time elapsed: 562.00\n",
      "Epoch [270/400], Loss (last training batch/val): 0.0339/0.0283. Time elapsed: 564.11\n",
      "Epoch [271/400], Loss (last training batch/val): 0.0327/0.0283. Time elapsed: 566.19\n",
      "Epoch [272/400], Loss (last training batch/val): 0.0346/0.0283. Time elapsed: 568.29\n",
      "Epoch [273/400], Loss (last training batch/val): 0.0323/0.0283. Time elapsed: 570.38\n",
      "Epoch [274/400], Loss (last training batch/val): 0.0328/0.0283. Time elapsed: 572.49\n",
      "Epoch [275/400], Loss (last training batch/val): 0.0338/0.0283. Time elapsed: 574.57\n",
      "Epoch [276/400], Loss (last training batch/val): 0.0336/0.0283. Time elapsed: 576.67\n",
      "Epoch [277/400], Loss (last training batch/val): 0.0328/0.0283. Time elapsed: 578.76\n",
      "Epoch [278/400], Loss (last training batch/val): 0.0328/0.0283. Time elapsed: 580.87\n",
      "Epoch [279/400], Loss (last training batch/val): 0.0355/0.0283. Time elapsed: 582.94\n",
      "Epoch [280/400], Loss (last training batch/val): 0.0328/0.0283. Time elapsed: 585.03\n",
      "Epoch [281/400], Loss (last training batch/val): 0.0330/0.0283. Time elapsed: 587.11\n",
      "Epoch [282/400], Loss (last training batch/val): 0.0338/0.0283. Time elapsed: 589.20\n",
      "Epoch [283/400], Loss (last training batch/val): 0.0330/0.0283. Time elapsed: 591.29\n",
      "Epoch [284/400], Loss (last training batch/val): 0.0322/0.0283. Time elapsed: 593.39\n",
      "Epoch [285/400], Loss (last training batch/val): 0.0344/0.0283. Time elapsed: 595.48\n",
      "Epoch [286/400], Loss (last training batch/val): 0.0352/0.0283. Time elapsed: 597.61\n",
      "Epoch [287/400], Loss (last training batch/val): 0.0326/0.0283. Time elapsed: 599.70\n",
      "Epoch [288/400], Loss (last training batch/val): 0.0339/0.0283. Time elapsed: 601.80\n",
      "Epoch [289/400], Loss (last training batch/val): 0.0342/0.0283. Time elapsed: 603.96\n",
      "Epoch [290/400], Loss (last training batch/val): 0.0329/0.0283. Time elapsed: 606.55\n",
      "Epoch [291/400], Loss (last training batch/val): 0.0337/0.0283. Time elapsed: 608.74\n",
      "Epoch [292/400], Loss (last training batch/val): 0.0334/0.0283. Time elapsed: 610.92\n",
      "Epoch [293/400], Loss (last training batch/val): 0.0341/0.0283. Time elapsed: 613.06\n",
      "Epoch [294/400], Loss (last training batch/val): 0.0333/0.0283. Time elapsed: 615.16\n",
      "Epoch [295/400], Loss (last training batch/val): 0.0349/0.0283. Time elapsed: 617.31\n",
      "Epoch [296/400], Loss (last training batch/val): 0.0341/0.0283. Time elapsed: 619.44\n",
      "Epoch [297/400], Loss (last training batch/val): 0.0349/0.0283. Time elapsed: 621.56\n",
      "Epoch [298/400], Loss (last training batch/val): 0.0345/0.0283. Time elapsed: 623.64\n",
      "Epoch [299/400], Loss (last training batch/val): 0.0338/0.0283. Time elapsed: 625.75\n",
      "Epoch [300/400], Loss (last training batch/val): 0.0338/0.0283. Time elapsed: 627.85\n",
      "Epoch [301/400], Loss (last training batch/val): 0.0337/0.0283. Time elapsed: 629.94\n",
      "Epoch [302/400], Loss (last training batch/val): 0.0314/0.0283. Time elapsed: 632.02\n",
      "Epoch [303/400], Loss (last training batch/val): 0.0324/0.0283. Time elapsed: 634.11\n",
      "Epoch [304/400], Loss (last training batch/val): 0.0340/0.0283. Time elapsed: 636.20\n",
      "Epoch [305/400], Loss (last training batch/val): 0.0335/0.0283. Time elapsed: 638.52\n",
      "Epoch [306/400], Loss (last training batch/val): 0.0325/0.0283. Time elapsed: 640.62\n",
      "Epoch [307/400], Loss (last training batch/val): 0.0335/0.0283. Time elapsed: 642.71\n",
      "Epoch [308/400], Loss (last training batch/val): 0.0329/0.0283. Time elapsed: 644.80\n",
      "Epoch [309/400], Loss (last training batch/val): 0.0336/0.0283. Time elapsed: 646.89\n",
      "Epoch [310/400], Loss (last training batch/val): 0.0339/0.0283. Time elapsed: 649.03\n",
      "Epoch [311/400], Loss (last training batch/val): 0.0339/0.0283. Time elapsed: 651.19\n",
      "Epoch [312/400], Loss (last training batch/val): 0.0338/0.0283. Time elapsed: 653.32\n",
      "Epoch [313/400], Loss (last training batch/val): 0.0330/0.0283. Time elapsed: 655.42\n",
      "Epoch [314/400], Loss (last training batch/val): 0.0344/0.0283. Time elapsed: 657.56\n",
      "Epoch [315/400], Loss (last training batch/val): 0.0344/0.0283. Time elapsed: 659.70\n",
      "Epoch [316/400], Loss (last training batch/val): 0.0339/0.0283. Time elapsed: 661.83\n",
      "Epoch [317/400], Loss (last training batch/val): 0.0338/0.0283. Time elapsed: 663.96\n",
      "Epoch [318/400], Loss (last training batch/val): 0.0342/0.0283. Time elapsed: 666.07\n",
      "Epoch [319/400], Loss (last training batch/val): 0.0335/0.0283. Time elapsed: 668.19\n",
      "Epoch [320/400], Loss (last training batch/val): 0.0337/0.0283. Time elapsed: 670.37\n",
      "Epoch [321/400], Loss (last training batch/val): 0.0331/0.0283. Time elapsed: 672.58\n",
      "Epoch [322/400], Loss (last training batch/val): 0.0324/0.0283. Time elapsed: 674.90\n",
      "Epoch [323/400], Loss (last training batch/val): 0.0327/0.0283. Time elapsed: 677.03\n",
      "Epoch [324/400], Loss (last training batch/val): 0.0328/0.0283. Time elapsed: 679.12\n",
      "Epoch [325/400], Loss (last training batch/val): 0.0324/0.0283. Time elapsed: 681.25\n",
      "Epoch [326/400], Loss (last training batch/val): 0.0341/0.0283. Time elapsed: 683.36\n",
      "Epoch [327/400], Loss (last training batch/val): 0.0331/0.0283. Time elapsed: 685.46\n",
      "Epoch [328/400], Loss (last training batch/val): 0.0336/0.0283. Time elapsed: 687.56\n",
      "Epoch [329/400], Loss (last training batch/val): 0.0332/0.0283. Time elapsed: 689.64\n",
      "Epoch [330/400], Loss (last training batch/val): 0.0328/0.0283. Time elapsed: 691.73\n",
      "Epoch [331/400], Loss (last training batch/val): 0.0324/0.0283. Time elapsed: 693.85\n",
      "Epoch [332/400], Loss (last training batch/val): 0.0342/0.0283. Time elapsed: 695.96\n",
      "Epoch [333/400], Loss (last training batch/val): 0.0336/0.0283. Time elapsed: 698.04\n",
      "Epoch [334/400], Loss (last training batch/val): 0.0328/0.0283. Time elapsed: 700.12\n",
      "Epoch [335/400], Loss (last training batch/val): 0.0328/0.0283. Time elapsed: 702.25\n",
      "Epoch [336/400], Loss (last training batch/val): 0.0336/0.0283. Time elapsed: 704.67\n",
      "Epoch [337/400], Loss (last training batch/val): 0.0353/0.0283. Time elapsed: 706.96\n",
      "Epoch [338/400], Loss (last training batch/val): 0.0331/0.0283. Time elapsed: 709.14\n",
      "Epoch [339/400], Loss (last training batch/val): 0.0318/0.0283. Time elapsed: 711.41\n",
      "Epoch [340/400], Loss (last training batch/val): 0.0335/0.0283. Time elapsed: 713.58\n",
      "Epoch [341/400], Loss (last training batch/val): 0.0342/0.0283. Time elapsed: 715.74\n",
      "Epoch [342/400], Loss (last training batch/val): 0.0326/0.0283. Time elapsed: 717.85\n",
      "Epoch [343/400], Loss (last training batch/val): 0.0330/0.0283. Time elapsed: 719.98\n",
      "Epoch [344/400], Loss (last training batch/val): 0.0342/0.0283. Time elapsed: 722.10\n",
      "Epoch [345/400], Loss (last training batch/val): 0.0335/0.0283. Time elapsed: 724.20\n",
      "Epoch [346/400], Loss (last training batch/val): 0.0334/0.0283. Time elapsed: 726.42\n",
      "Epoch [347/400], Loss (last training batch/val): 0.0335/0.0283. Time elapsed: 728.63\n",
      "Epoch [348/400], Loss (last training batch/val): 0.0326/0.0283. Time elapsed: 730.86\n",
      "Epoch [349/400], Loss (last training batch/val): 0.0333/0.0283. Time elapsed: 733.06\n",
      "Epoch [350/400], Loss (last training batch/val): 0.0334/0.0283. Time elapsed: 735.26\n",
      "Epoch [351/400], Loss (last training batch/val): 0.0325/0.0283. Time elapsed: 737.43\n",
      "Epoch [352/400], Loss (last training batch/val): 0.0334/0.0283. Time elapsed: 739.61\n",
      "Epoch [353/400], Loss (last training batch/val): 0.0345/0.0283. Time elapsed: 741.78\n",
      "Epoch [354/400], Loss (last training batch/val): 0.0327/0.0283. Time elapsed: 743.96\n",
      "Epoch [355/400], Loss (last training batch/val): 0.0318/0.0283. Time elapsed: 746.12\n",
      "Epoch [356/400], Loss (last training batch/val): 0.0334/0.0283. Time elapsed: 748.27\n",
      "Epoch [357/400], Loss (last training batch/val): 0.0337/0.0283. Time elapsed: 750.44\n",
      "Epoch [358/400], Loss (last training batch/val): 0.0344/0.0283. Time elapsed: 752.66\n",
      "Epoch [359/400], Loss (last training batch/val): 0.0333/0.0283. Time elapsed: 754.95\n",
      "Epoch [360/400], Loss (last training batch/val): 0.0332/0.0283. Time elapsed: 757.15\n",
      "Epoch [361/400], Loss (last training batch/val): 0.0329/0.0283. Time elapsed: 759.30\n",
      "Epoch [362/400], Loss (last training batch/val): 0.0324/0.0283. Time elapsed: 761.52\n",
      "Epoch [363/400], Loss (last training batch/val): 0.0322/0.0283. Time elapsed: 763.75\n",
      "Epoch [364/400], Loss (last training batch/val): 0.0343/0.0283. Time elapsed: 765.96\n",
      "Epoch [365/400], Loss (last training batch/val): 0.0323/0.0283. Time elapsed: 768.14\n",
      "Epoch [366/400], Loss (last training batch/val): 0.0350/0.0283. Time elapsed: 770.30\n",
      "Epoch [367/400], Loss (last training batch/val): 0.0358/0.0283. Time elapsed: 772.47\n",
      "Epoch [368/400], Loss (last training batch/val): 0.0338/0.0283. Time elapsed: 774.63\n",
      "Epoch [369/400], Loss (last training batch/val): 0.0330/0.0283. Time elapsed: 776.82\n",
      "Epoch [370/400], Loss (last training batch/val): 0.0332/0.0283. Time elapsed: 778.99\n",
      "Epoch [371/400], Loss (last training batch/val): 0.0336/0.0283. Time elapsed: 781.15\n",
      "Epoch [372/400], Loss (last training batch/val): 0.0331/0.0283. Time elapsed: 783.32\n",
      "Epoch [373/400], Loss (last training batch/val): 0.0318/0.0283. Time elapsed: 785.46\n",
      "Epoch [374/400], Loss (last training batch/val): 0.0331/0.0283. Time elapsed: 787.63\n",
      "Epoch [375/400], Loss (last training batch/val): 0.0342/0.0283. Time elapsed: 789.79\n",
      "Epoch [376/400], Loss (last training batch/val): 0.0329/0.0283. Time elapsed: 791.97\n",
      "Epoch [377/400], Loss (last training batch/val): 0.0328/0.0283. Time elapsed: 794.13\n",
      "Epoch [378/400], Loss (last training batch/val): 0.0327/0.0283. Time elapsed: 796.31\n",
      "Epoch [379/400], Loss (last training batch/val): 0.0340/0.0283. Time elapsed: 798.48\n",
      "Epoch [380/400], Loss (last training batch/val): 0.0338/0.0283. Time elapsed: 800.70\n",
      "Epoch [381/400], Loss (last training batch/val): 0.0332/0.0283. Time elapsed: 802.91\n",
      "Epoch [382/400], Loss (last training batch/val): 0.0334/0.0283. Time elapsed: 805.11\n",
      "Epoch [383/400], Loss (last training batch/val): 0.0330/0.0283. Time elapsed: 807.33\n",
      "Epoch [384/400], Loss (last training batch/val): 0.0329/0.0283. Time elapsed: 809.48\n",
      "Epoch [385/400], Loss (last training batch/val): 0.0344/0.0283. Time elapsed: 811.64\n",
      "Epoch [386/400], Loss (last training batch/val): 0.0334/0.0283. Time elapsed: 813.83\n",
      "Epoch [387/400], Loss (last training batch/val): 0.0350/0.0283. Time elapsed: 816.21\n",
      "Epoch [388/400], Loss (last training batch/val): 0.0337/0.0283. Time elapsed: 818.89\n",
      "Epoch [389/400], Loss (last training batch/val): 0.0331/0.0283. Time elapsed: 821.26\n",
      "Epoch [390/400], Loss (last training batch/val): 0.0339/0.0283. Time elapsed: 823.45\n",
      "Epoch [391/400], Loss (last training batch/val): 0.0333/0.0283. Time elapsed: 825.64\n",
      "Epoch [392/400], Loss (last training batch/val): 0.0325/0.0283. Time elapsed: 827.79\n",
      "Epoch [393/400], Loss (last training batch/val): 0.0343/0.0283. Time elapsed: 829.96\n",
      "Epoch [394/400], Loss (last training batch/val): 0.0328/0.0283. Time elapsed: 832.10\n",
      "Epoch [395/400], Loss (last training batch/val): 0.0339/0.0283. Time elapsed: 834.27\n",
      "Epoch [396/400], Loss (last training batch/val): 0.0337/0.0283. Time elapsed: 836.42\n",
      "Epoch [397/400], Loss (last training batch/val): 0.0340/0.0283. Time elapsed: 838.56\n",
      "Epoch [398/400], Loss (last training batch/val): 0.0346/0.0283. Time elapsed: 840.71\n",
      "Epoch [399/400], Loss (last training batch/val): 0.0354/0.0283. Time elapsed: 842.89\n",
      "Epoch [400/400], Loss (last training batch/val): 0.0342/0.0283. Time elapsed: 845.04\n"
     ]
    }
   ],
   "source": [
    "# interactive descending lr for less loss\n",
    "optimizer = optim.SGD(model.parameters(), lr=0.005, momentum=0.9)\n",
    "scheduler = optim.lr_scheduler.ReduceLROnPlateau(\n",
    "    optimizer, factor=0.5, verbose=True, cooldown=2, patience=5\n",
    ")\n",
    "start = time.time()\n",
    "for epoch in range(num_epochs):\n",
    "    model.train()\n",
    "    for data in train_dl:\n",
    "        data = data.to(torch.device('cuda'))\n",
    "        optimizer.zero_grad()\n",
    "        out = model(data)\n",
    "        loss = loss_fn(out, data.y)\n",
    "        losses.append(loss.item())  # history\n",
    "        # optimize\n",
    "        loss.backward()\n",
    "        optimizer.step()\n",
    "\n",
    "        # stats\n",
    "        learning_rates.append(-1)\n",
    "\n",
    "    # evaluation\n",
    "    model.eval()\n",
    "    agg_loss = 0\n",
    "    with torch.autograd.no_grad():\n",
    "        for data in test_dl:\n",
    "            data = data.to(torch.device('cuda'))\n",
    "            out = model(data)\n",
    "            agg_loss += loss_fn(out, data.y)\n",
    "        val_losses.append(agg_loss.item()/test_batches)\n",
    "    scheduler.step(agg_loss)\n",
    "    if not silent:\n",
    "        print(\n",
    "            \"Epoch [{}/{}], Loss (last training batch/val): {:.4f}/{:.4f}. Time elapsed: {:.2f}\".format(\n",
    "                epoch + 1,\n",
    "                num_epochs,\n",
    "                losses[-1],\n",
    "                val_losses[-1],\n",
    "                time.time() - start,\n",
    "            )\n",
    "        )"
   ]
  },
  {
   "cell_type": "markdown",
   "metadata": {},
   "source": [
    "# Learning stats"
   ]
  },
  {
   "cell_type": "code",
   "execution_count": 11,
   "metadata": {
    "execution": {
     "iopub.execute_input": "2020-04-17T18:42:34.339Z",
     "iopub.status.busy": "2020-04-17T18:42:34.333Z",
     "iopub.status.idle": "2020-04-17T18:42:34.354Z",
     "shell.execute_reply": "2020-04-17T18:42:34.375Z"
    }
   },
   "outputs": [
    {
     "data": {
      "image/png": "[encoded data removed]",
      "text/plain": [
       "<Figure size 576x432 with 1 Axes>"
      ]
     },
     "metadata": {
      "needs_background": "light"
     },
     "output_type": "display_data"
    }
   ],
   "source": [
    "fig = plt.figure(figsize=(8, 6))\n",
    "ax = fig.add_subplot(1, 1, 1)\n",
    "\n",
    "plt.plot(\n",
    "    range(1, len(val_losses)+1), \n",
    "    list(map(\n",
    "        lambda i: np.mean(losses[i:i+len(train_dl)]),\n",
    "        range(0, len(losses)-len(train_dl)+1, len(train_dl))\n",
    "    ))\n",
    ")\n",
    "plt.plot(range(1, len(val_losses)+1), val_losses)\n",
    "ax.set_xlabel('Epoch')\n",
    "ax.set_ylabel('Loss')\n",
    "plt.savefig('loss.png')"
   ]
  },
  {
   "cell_type": "code",
   "execution_count": 12,
   "metadata": {
    "execution": {
     "iopub.execute_input": "2020-04-17T18:43:02.481Z",
     "iopub.status.busy": "2020-04-17T18:43:02.474Z",
     "iopub.status.idle": "2020-04-17T18:43:02.492Z",
     "shell.execute_reply": "2020-04-17T18:43:02.499Z"
    }
   },
   "outputs": [],
   "source": [
    "torch.save(model.state_dict(), '../models/NewTry2.dct')"
   ]
  },
  {
   "cell_type": "markdown",
   "metadata": {},
   "source": [
    "## Test with completely different data"
   ]
  },
  {
   "cell_type": "code",
   "execution_count": 13,
   "metadata": {
    "execution": {
     "iopub.execute_input": "2020-04-17T18:43:23.507Z",
     "iopub.status.busy": "2020-04-17T18:43:23.499Z",
     "iopub.status.idle": "2020-04-17T18:43:23.518Z",
     "shell.execute_reply": "2020-04-17T18:43:23.525Z"
    }
   },
   "outputs": [],
   "source": [
    "from sklearn import metrics"
   ]
  },
  {
   "cell_type": "code",
   "execution_count": 14,
   "metadata": {
    "execution": {
     "iopub.execute_input": "2020-04-17T18:43:24.636Z",
     "iopub.status.busy": "2020-04-17T18:43:24.630Z",
     "iopub.status.idle": "2020-04-17T18:43:29.642Z",
     "shell.execute_reply": "2020-04-17T18:43:29.634Z"
    }
   },
   "outputs": [],
   "source": [
    "# data\n",
    "target_tree = phy.read(data_path+'tree/Other_eukaryota_2018.tre', 'newick')\n",
    "test_dataset = gd.Trees(\n",
    "    data_path+\"tree/Eukaryota/\",\n",
    "    data_path+\"alns/other_eukaryota_2018/\",\n",
    "    target_tree\n",
    ")\n",
    "# transform to feed into the model\n",
    "test_dataset.data.x = test_dataset.data.x.float()\n",
    "test_dataset.data.edge_attr = (torch.max(test_dataset.data.edge_attr)+0.001 - test_dataset.data.edge_attr).float()\n",
    "test_dataset.data.edge_index = test_dataset.data.edge_index.long()\n",
    "test_dl = DataLoader(\n",
    "    test_dataset, batch_size=test_batch, num_workers=2\n",
    ")"
   ]
  },
  {
   "cell_type": "code",
   "execution_count": 15,
   "metadata": {
    "execution": {
     "iopub.execute_input": "2020-04-17T18:48:10.054Z",
     "iopub.status.busy": "2020-04-17T18:48:10.046Z",
     "iopub.status.idle": "2020-04-17T18:48:18.966Z",
     "shell.execute_reply": "2020-04-17T18:48:19.013Z"
    }
   },
   "outputs": [
    {
     "data": {
      "text/html": [
       "<div>\n",
       "<style scoped>\n",
       "    .dataframe tbody tr th:only-of-type {\n",
       "        vertical-align: middle;\n",
       "    }\n",
       "\n",
       "    .dataframe tbody tr th {\n",
       "        vertical-align: top;\n",
       "    }\n",
       "\n",
       "    .dataframe thead th {\n",
       "        text-align: right;\n",
       "    }\n",
       "</style>\n",
       "<table border=\"1\" class=\"dataframe\">\n",
       "  <thead>\n",
       "    <tr style=\"text-align: right;\">\n",
       "      <th></th>\n",
       "      <th>actual</th>\n",
       "      <th>predicted</th>\n",
       "    </tr>\n",
       "  </thead>\n",
       "  <tbody>\n",
       "    <tr>\n",
       "      <th>count</th>\n",
       "      <td>1.340500e+05</td>\n",
       "      <td>134050.000000</td>\n",
       "    </tr>\n",
       "    <tr>\n",
       "      <th>mean</th>\n",
       "      <td>5.657991e-03</td>\n",
       "      <td>0.106296</td>\n",
       "    </tr>\n",
       "    <tr>\n",
       "      <th>std</th>\n",
       "      <td>5.977007e-02</td>\n",
       "      <td>0.189134</td>\n",
       "    </tr>\n",
       "    <tr>\n",
       "      <th>min</th>\n",
       "      <td>1.925930e-34</td>\n",
       "      <td>0.000000</td>\n",
       "    </tr>\n",
       "    <tr>\n",
       "      <th>25%</th>\n",
       "      <td>5.960464e-08</td>\n",
       "      <td>0.000000</td>\n",
       "    </tr>\n",
       "    <tr>\n",
       "      <th>50%</th>\n",
       "      <td>6.103516e-05</td>\n",
       "      <td>0.000000</td>\n",
       "    </tr>\n",
       "    <tr>\n",
       "      <th>75%</th>\n",
       "      <td>9.765625e-04</td>\n",
       "      <td>0.132873</td>\n",
       "    </tr>\n",
       "    <tr>\n",
       "      <th>max</th>\n",
       "      <td>1.000000e+00</td>\n",
       "      <td>1.666440</td>\n",
       "    </tr>\n",
       "  </tbody>\n",
       "</table>\n",
       "</div>"
      ],
      "text/plain": [
       "             actual      predicted\n",
       "count  1.340500e+05  134050.000000\n",
       "mean   5.657991e-03       0.106296\n",
       "std    5.977007e-02       0.189134\n",
       "min    1.925930e-34       0.000000\n",
       "25%    5.960464e-08       0.000000\n",
       "50%    6.103516e-05       0.000000\n",
       "75%    9.765625e-04       0.132873\n",
       "max    1.000000e+00       1.666440"
      ]
     },
     "execution_count": 15,
     "metadata": {},
     "output_type": "execute_result"
    }
   ],
   "source": [
    "nplist = list()\n",
    "for data in test_dataset:\n",
    "    with torch.no_grad():\n",
    "        data.x, data.edge_index, data.edge_attr = data.x.float(), data.edge_index.long(), data.edge_attr.float()  # CLEAN IT!!!!!\n",
    "        out = model(data.to(torch.device('cuda')))\n",
    "        nodes = torch.stack(torch.unique(data.edge_index[0], return_counts=True))\n",
    "        internodes = nodes[0, nodes[1]!=1]\n",
    "        nplist.append(np.concatenate([data.y[internodes].cpu().numpy(), out[internodes].detach().cpu().numpy()], axis=1))\n",
    "test_results = pd.DataFrame(np.concatenate(nplist, 0), columns=['actual', 'predicted'])\n",
    "test_results.describe()"
   ]
  },
  {
   "cell_type": "code",
   "execution_count": 16,
   "metadata": {
    "execution": {
     "iopub.execute_input": "2020-04-17T18:44:47.318Z",
     "iopub.status.busy": "2020-04-17T18:44:47.311Z",
     "iopub.status.idle": "2020-04-17T18:44:47.329Z",
     "shell.execute_reply": "2020-04-17T18:44:47.336Z"
    }
   },
   "outputs": [],
   "source": [
    "test_results = pd.DataFrame(np.concatenate(nplist), columns=['actual', 'predicted'])"
   ]
  },
  {
   "cell_type": "markdown",
   "metadata": {},
   "source": [
    "# Further assessment"
   ]
  },
  {
   "cell_type": "markdown",
   "metadata": {
    "nteract": {
     "transient": {
      "deleting": false
     }
    }
   },
   "source": [
    "ROC "
   ]
  },
  {
   "cell_type": "code",
   "execution_count": 27,
   "metadata": {
    "execution": {
     "iopub.execute_input": "2020-04-17T18:48:48.680Z",
     "iopub.status.busy": "2020-04-17T18:48:48.671Z",
     "iopub.status.idle": "2020-04-17T18:48:48.691Z",
     "shell.execute_reply": "2020-04-17T18:48:48.700Z"
    }
   },
   "outputs": [
    {
     "data": {
      "image/png": "[encoded data removed]",
      "text/plain": [
       "<Figure size 576x432 with 1 Axes>"
      ]
     },
     "metadata": {
      "needs_background": "light"
     },
     "output_type": "display_data"
    }
   ],
   "source": [
    "thr = test_results[\"actual\"].median()\n",
    "fpr, tpr, thresholds_roc = metrics.roc_curve(test_results[\"actual\"]>=thr, test_results[\"predicted\"])\n",
    "\n",
    "fig = plt.figure(figsize=(8, 6))\n",
    "ax = fig.add_subplot(1, 1, 1)\n",
    "\n",
    "plt.plot(fpr, tpr)\n",
    "plt.title('AUC={:.4f}'.format(metrics.roc_auc_score(test_results[\"actual\"]>=thr, test_results[\"predicted\"])))\n",
    "plt.xlim(0, 1)\n",
    "plt.ylim(0, 1)\n",
    "ax.set_xlabel('FPR')\n",
    "ax.set_ylabel('TPR')\n",
    "plt.savefig('roc.png')"
   ]
  },
  {
   "cell_type": "code",
   "execution_count": 26,
   "metadata": {
    "execution": {
     "iopub.execute_input": "2020-04-17T11:06:59.463Z",
     "iopub.status.busy": "2020-04-17T11:06:59.453Z",
     "iopub.status.idle": "2020-04-17T11:06:59.478Z",
     "shell.execute_reply": "2020-04-17T11:06:59.500Z"
    }
   },
   "outputs": [
    {
     "data": {
      "image/png": "[encoded data removed]",
      "text/plain": [
       "<Figure size 576x432 with 1 Axes>"
      ]
     },
     "metadata": {
      "needs_background": "light"
     },
     "output_type": "display_data"
    }
   ],
   "source": [
    "prec, rec, thresholds_recprec = metrics.precision_recall_curve(test_results[\"actual\"]>=thr, test_results[\"predicted\"])\n",
    "roc_data = pd.DataFrame({\"Precision\": prec, \"Recall\": rec})\n",
    "fig = plt.figure(figsize=(8, 6))\n",
    "ax = fig.add_subplot(1, 1, 1)\n",
    "\n",
    "plt.plot(rec, prec)\n",
    "plt.xlim(0, 1)\n",
    "plt.ylim(0, 1)\n",
    "ax.set_xlabel('Recall')\n",
    "ax.set_ylabel('Precision')\n",
    "plt.savefig('recprec.png')"
   ]
  },
  {
   "cell_type": "code",
   "execution_count": 19,
   "metadata": {},
   "outputs": [],
   "source": [
    "optimal_thr = thresholds_roc[np.argmax(tpr-fpr)]"
   ]
  },
  {
   "cell_type": "code",
   "execution_count": 20,
   "metadata": {},
   "outputs": [
    {
     "data": {
      "text/plain": [
       "1.3113022e-05"
      ]
     },
     "execution_count": 20,
     "metadata": {},
     "output_type": "execute_result"
    }
   ],
   "source": [
    "optimal_thr"
   ]
  },
  {
   "cell_type": "code",
   "execution_count": 21,
   "metadata": {
    "execution": {
     "iopub.execute_input": "2020-04-16T10:19:48.118Z",
     "iopub.status.busy": "2020-04-16T10:19:48.109Z",
     "iopub.status.idle": "2020-04-16T10:19:48.220Z",
     "shell.execute_reply": "2020-04-16T10:19:48.242Z"
    },
    "pycharm": {
     "name": "#%%\n"
    }
   },
   "outputs": [
    {
     "data": {
      "text/plain": [
       "array([[52082,  5199],\n",
       "       [37886, 38883]])"
      ]
     },
     "execution_count": 21,
     "metadata": {},
     "output_type": "execute_result"
    }
   ],
   "source": [
    "metrics.confusion_matrix(test_results[\"actual\"]>=thr, test_results[\"predicted\"]>=optimal_thr)"
   ]
  },
  {
   "cell_type": "code",
   "execution_count": 22,
   "metadata": {},
   "outputs": [
    {
     "data": {
      "text/plain": [
       "0.0907630802534872"
      ]
     },
     "execution_count": 22,
     "metadata": {},
     "output_type": "execute_result"
    }
   ],
   "source": [
    "fpr[np.argmax(tpr-fpr)]"
   ]
  },
  {
   "cell_type": "code",
   "execution_count": 23,
   "metadata": {},
   "outputs": [
    {
     "data": {
      "text/plain": [
       "0.5064935064935064"
      ]
     },
     "execution_count": 23,
     "metadata": {},
     "output_type": "execute_result"
    }
   ],
   "source": [
    "tpr[np.argmax(tpr-fpr)]"
   ]
  },
  {
   "cell_type": "code",
   "execution_count": 24,
   "metadata": {},
   "outputs": [
    {
     "ename": "IndexError",
     "evalue": "index 43786 is out of bounds for axis 0 with size 43786",
     "output_type": "error",
     "traceback": [
      "\u001b[0;31m---------------------------------------------------------------------------\u001b[0m",
      "\u001b[0;31mIndexError\u001b[0m                                Traceback (most recent call last)",
      "\u001b[0;32m<ipython-input-24-0bdfdfbdf80e>\u001b[0m in \u001b[0;36m<module>\u001b[0;34m\u001b[0m\n\u001b[0;32m----> 1\u001b[0;31m \u001b[0moptimal_thr_pr\u001b[0m \u001b[0;34m=\u001b[0m \u001b[0mthresholds_recprec\u001b[0m\u001b[0;34m[\u001b[0m\u001b[0mnp\u001b[0m\u001b[0;34m.\u001b[0m\u001b[0margmax\u001b[0m\u001b[0;34m(\u001b[0m\u001b[0mprec\u001b[0m\u001b[0;34m-\u001b[0m\u001b[0mrec\u001b[0m\u001b[0;34m)\u001b[0m\u001b[0;34m]\u001b[0m\u001b[0;34m\u001b[0m\u001b[0;34m\u001b[0m\u001b[0m\n\u001b[0m",
      "\u001b[0;31mIndexError\u001b[0m: index 43786 is out of bounds for axis 0 with size 43786"
     ]
    }
   ],
   "source": [
    "optimal_thr_pr = thresholds_recprec[np.argmax(prec-rec)]"
   ]
  },
  {
   "cell_type": "code",
   "execution_count": null,
   "metadata": {},
   "outputs": [],
   "source": []
  }
 ],
 "metadata": {
  "kernelspec": {
   "display_name": "Python 3",
   "language": "python",
   "name": "python3"
  },
  "language_info": {
   "codemirror_mode": {
    "name": "ipython",
    "version": 3
   },
   "file_extension": ".py",
   "mimetype": "text/x-python",
   "name": "python",
   "nbconvert_exporter": "python",
   "pygments_lexer": "ipython3",
   "version": "3.8.1"
  },
  "nteract": {
   "version": "0.22.4"
  }
 },
 "nbformat": 4,
 "nbformat_minor": 4
}
