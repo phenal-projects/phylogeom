{
 "cells": [
  {
   "cell_type": "code",
   "execution_count": 62,
   "metadata": {
    "execution": {
     "iopub.execute_input": "2020-04-18T08:39:37.174Z",
     "iopub.status.busy": "2020-04-18T08:39:37.168Z",
     "iopub.status.idle": "2020-04-18T08:39:37.190Z",
     "shell.execute_reply": "2020-04-18T08:39:37.197Z"
    }
   },
   "outputs": [
    {
     "data": {
      "text/plain": [
       "<torch._C.Generator at 0x7f630c00be70>"
      ]
     },
     "execution_count": 62,
     "metadata": {},
     "output_type": "execute_result"
    }
   ],
   "source": [
    "import sys\n",
    "sys.path.append('../src/') # for graph_data\n",
    "\n",
    "import graph_data as gd\n",
    "import time\n",
    "import torch\n",
    "from models import TreeSupport\n",
    "from torch import optim\n",
    "from torch.nn import BCELoss\n",
    "from torch.utils.data import random_split, ConcatDataset\n",
    "from torch_geometric.data import DataLoader\n",
    "from Bio import Phylo as phy\n",
    "\n",
    "import pandas as pd\n",
    "import numpy as np\n",
    "import matplotlib.pyplot as plt\n",
    "\n",
    "plt.rc('font', family='serif')\n",
    "plt.rc('xtick', labelsize=10)\n",
    "plt.rc('ytick', labelsize=10)\n",
    "plt.rc('text', usetex=True)\n",
    "\n",
    "torch.manual_seed(245)"
   ]
  },
  {
   "cell_type": "markdown",
   "metadata": {
    "execution": {
     "iopub.execute_input": "2020-04-18T08:39:21.561Z",
     "iopub.status.busy": "2020-04-18T08:39:21.555Z",
     "iopub.status.idle": "2020-04-18T08:39:21.573Z",
     "shell.execute_reply": "2020-04-18T08:39:21.579Z"
    }
   },
   "source": [
    "# Datasets\n",
    "## Prepare trees and reconstructed sequences"
   ]
  },
  {
   "cell_type": "code",
   "execution_count": 63,
   "metadata": {
    "execution": {
     "iopub.execute_input": "2020-04-18T08:19:03.493Z",
     "iopub.status.busy": "2020-04-18T08:19:03.486Z",
     "iopub.status.idle": "2020-04-18T08:19:03.885Z",
     "shell.execute_reply": "2020-04-18T08:19:03.923Z"
    },
    "scrolled": true
   },
   "outputs": [],
   "source": [
    "data_path = '../data/'"
   ]
  },
  {
   "cell_type": "code",
   "execution_count": 77,
   "metadata": {
    "execution": {
     "iopub.execute_input": "2020-04-18T08:19:03.903Z",
     "iopub.status.busy": "2020-04-18T08:19:03.896Z",
     "iopub.status.idle": "2020-04-18T08:19:04.020Z",
     "shell.execute_reply": "2020-04-18T08:19:04.056Z"
    }
   },
   "outputs": [],
   "source": [
    "target_tree = phy.read(data_path+'tree/Fungi45_infer/Fungi.tre', 'newick')\n",
    "#all_data = gd.Trees.load_ready_trees(data_path+'tree/Fungi45_infer/fml_output/', data_path+'tree/Fungi45_infer/fml_output/*.tre', target_tree)  # INITIALIZE NEW DS\n",
    "fungi_data = gd.Trees(data_path+'tree/Fungi45_infer/', data_path+'alns/Fungi45/', target_tree)\n",
    "\n",
    "# get binned values\n",
    "l = list()\n",
    "for d in fungi_data:\n",
    "    nodes = torch.stack(torch.unique(d.edge_index[0], return_counts=True))\n",
    "    internodes = nodes[0, nodes[1]!=1]\n",
    "    l += d.y[internodes].squeeze().tolist()\n",
    "med = np.median(l)\n",
    "fungi_data.data.y = (fungi_data.data.y > med).long()\n",
    "fungi_data.data.x = fungi_data.data.x.float()\n",
    "fungi_data.data.edge_attr = (torch.max(fungi_data.data.edge_attr)+0.001 - fungi_data.data.edge_attr).float()\n",
    "fungi_data.data.edge_index = fungi_data.data.edge_index.long()"
   ]
  },
  {
   "cell_type": "code",
   "execution_count": 78,
   "metadata": {
    "execution": {
     "iopub.execute_input": "2020-04-18T08:19:04.038Z",
     "iopub.status.busy": "2020-04-18T08:19:04.032Z",
     "iopub.status.idle": "2020-04-18T08:19:04.049Z",
     "shell.execute_reply": "2020-04-18T08:19:04.060Z"
    }
   },
   "outputs": [],
   "source": [
    "target_tree = phy.read(data_path+'tree/Archaea/Archaea.tre', 'newick')\n",
    "#archaea_data = gd.Trees.load_ready_trees(data_path+'tree/Archaea/fml_output/', data_path+'tree/Archaea/fml_output/*.tre', target_tree)  # INITIALIZE NEW DS //delete temp_tree\n",
    "archaea_data = gd.Trees(data_path+\"tree/Archaea/\", data_path+\"alns/Archaea/\", target_tree)\n",
    "\n",
    "# get binned values\n",
    "l = list()\n",
    "for d in archaea_data:\n",
    "    nodes = torch.stack(torch.unique(d.edge_index[0], return_counts=True))\n",
    "    internodes = nodes[0, nodes[1]!=1]\n",
    "    l += d.y[internodes].squeeze().tolist()\n",
    "med = np.median(l)\n",
    "archaea_data.data.y = (archaea_data.data.y > med).long()\n",
    "archaea_data.data.x = archaea_data.data.x.float()\n",
    "archaea_data.data.edge_attr = (torch.max(archaea_data.data.edge_attr)+0.001 - archaea_data.data.edge_attr).float()\n",
    "archaea_data.data.edge_index = archaea_data.data.edge_index.long()"
   ]
  },
  {
   "cell_type": "code",
   "execution_count": 79,
   "metadata": {
    "execution": {
     "iopub.execute_input": "2020-04-18T08:19:04.138Z",
     "iopub.status.busy": "2020-04-18T08:19:04.130Z",
     "iopub.status.idle": "2020-04-18T08:19:04.150Z",
     "shell.execute_reply": "2020-04-18T08:19:04.156Z"
    }
   },
   "outputs": [],
   "source": [
    "# concatenate datasets\n",
    "all_data =  ConcatDataset([fungi_data, archaea_data])"
   ]
  },
  {
   "cell_type": "code",
   "execution_count": 80,
   "metadata": {
    "collapsed": false,
    "execution": {
     "iopub.execute_input": "2020-04-18T08:39:42.507Z",
     "iopub.status.busy": "2020-04-18T08:39:42.499Z",
     "iopub.status.idle": "2020-04-18T08:39:42.906Z",
     "shell.execute_reply": "2020-04-18T08:39:42.950Z"
    },
    "jupyter": {
     "outputs_hidden": false,
     "source_hidden": false
    },
    "nteract": {
     "transient": {
      "deleting": false
     }
    }
   },
   "outputs": [],
   "source": [
    "# data preparation\n",
    "train_batch = 50\n",
    "test_batch = 50\n",
    "# data loaders\n",
    "train, test = random_split(\n",
    "    all_data, [round(len(all_data) * 0.8), round(len(all_data) * 0.2)]\n",
    ")"
   ]
  },
  {
   "cell_type": "code",
   "execution_count": 81,
   "metadata": {
    "execution": {
     "iopub.execute_input": "2020-04-18T08:40:07.850Z",
     "iopub.status.busy": "2020-04-18T08:40:07.842Z",
     "iopub.status.idle": "2020-04-18T08:40:08.918Z",
     "shell.execute_reply": "2020-04-18T08:40:08.961Z"
    },
    "nteract": {
     "transient": {
      "deleting": false
     }
    },
    "outputExpanded": false
   },
   "outputs": [
    {
     "data": {
      "image/png": "[encoded data removed]",
      "text/plain": [
       "<Figure size 576x432 with 1 Axes>"
      ]
     },
     "metadata": {
      "needs_background": "light"
     },
     "output_type": "display_data"
    }
   ],
   "source": [
    "lst = list()\n",
    "for i, data in enumerate(train):\n",
    "    nodes = torch.stack(torch.unique(data.edge_index[0], return_counts=True))\n",
    "    internodes = nodes[0, nodes[1]!=1]\n",
    "    lst += data.y[internodes].squeeze().tolist()\n",
    "\n",
    "fig = plt.figure(figsize=(8, 6))\n",
    "ax = fig.add_subplot(1, 1, 1)\n",
    "plt.hist(lst, bins=20)\n",
    "ax.set_xlabel('Quality of the nodes')\n",
    "ax.set_ylabel('Count')\n",
    "plt.savefig('quality.png')"
   ]
  },
  {
   "cell_type": "code",
   "execution_count": 82,
   "metadata": {
    "execution": {
     "iopub.execute_input": "2020-04-17T18:50:50.798Z",
     "iopub.status.busy": "2020-04-17T18:50:50.789Z",
     "iopub.status.idle": "2020-04-17T18:50:50.806Z",
     "shell.execute_reply": "2020-04-17T18:50:50.814Z"
    }
   },
   "outputs": [],
   "source": [
    "train_dl = DataLoader(\n",
    "    train, batch_size=train_batch, pin_memory=True, num_workers=3\n",
    ")\n",
    "test_dl = DataLoader(\n",
    "    test, batch_size=test_batch, num_workers=2\n",
    ")"
   ]
  },
  {
   "cell_type": "code",
   "execution_count": 76,
   "metadata": {
    "execution": {
     "iopub.execute_input": "2020-04-17T18:50:54.372Z",
     "iopub.status.busy": "2020-04-17T18:50:54.364Z",
     "iopub.status.idle": "2020-04-17T18:50:55.930Z",
     "shell.execute_reply": "2020-04-17T18:50:55.916Z"
    }
   },
   "outputs": [],
   "source": [
    "model = TreeSupport(231, 400)\n",
    "model = model.cuda()\n",
    "silent = False\n",
    "num_epochs = 400\n",
    "loss_fn = BCELoss()\n",
    "test_batches = len(test_dl)\n",
    "# stattr\n",
    "losses = []\n",
    "val_losses = []\n",
    "learning_rates = []"
   ]
  },
  {
   "cell_type": "code",
   "execution_count": 10,
   "metadata": {
    "execution": {
     "iopub.execute_input": "2020-04-17T18:50:55.946Z",
     "iopub.status.busy": "2020-04-17T18:50:55.940Z",
     "iopub.status.idle": "2020-04-17T18:50:35.582Z",
     "shell.execute_reply": "2020-04-17T18:50:35.611Z"
    }
   },
   "outputs": [
    {
     "name": "stdout",
     "output_type": "stream",
     "text": [
      "Epoch [1/400], Loss (last training batch/val): 0.2483/0.2479. Time elapsed: 3.20\n",
      "Epoch [2/400], Loss (last training batch/val): 0.2466/0.2459. Time elapsed: 6.19\n",
      "Epoch [3/400], Loss (last training batch/val): 0.2431/0.2427. Time elapsed: 8.61\n",
      "Epoch [4/400], Loss (last training batch/val): 0.2352/0.2349. Time elapsed: 11.62\n",
      "Epoch [5/400], Loss (last training batch/val): 0.2185/0.2187. Time elapsed: 13.86\n",
      "Epoch [6/400], Loss (last training batch/val): 0.1956/0.1946. Time elapsed: 16.55\n",
      "Epoch [7/400], Loss (last training batch/val): 0.1760/0.1772. Time elapsed: 18.95\n",
      "Epoch [8/400], Loss (last training batch/val): 0.1593/0.1598. Time elapsed: 21.76\n",
      "Epoch [9/400], Loss (last training batch/val): 0.1452/0.1382. Time elapsed: 24.40\n",
      "Epoch [10/400], Loss (last training batch/val): 0.1298/0.1275. Time elapsed: 27.14\n",
      "Epoch [11/400], Loss (last training batch/val): 0.1234/0.1208. Time elapsed: 29.58\n",
      "Epoch [12/400], Loss (last training batch/val): 0.1186/0.1091. Time elapsed: 31.82\n",
      "Epoch [13/400], Loss (last training batch/val): 0.1079/0.1034. Time elapsed: 34.44\n",
      "Epoch [14/400], Loss (last training batch/val): 0.1014/0.0977. Time elapsed: 36.66\n",
      "Epoch [15/400], Loss (last training batch/val): 0.0986/0.0935. Time elapsed: 39.96\n",
      "Epoch [16/400], Loss (last training batch/val): 0.0916/0.0874. Time elapsed: 42.34\n",
      "Epoch [17/400], Loss (last training batch/val): 0.0912/0.0831. Time elapsed: 45.76\n",
      "Epoch [18/400], Loss (last training batch/val): 0.0854/0.0791. Time elapsed: 48.18\n",
      "Epoch [19/400], Loss (last training batch/val): 0.0806/0.0755. Time elapsed: 50.75\n",
      "Epoch [20/400], Loss (last training batch/val): 0.0766/0.0707. Time elapsed: 53.17\n",
      "Epoch [21/400], Loss (last training batch/val): 0.0758/0.0661. Time elapsed: 55.64\n",
      "Epoch [22/400], Loss (last training batch/val): 0.0739/0.0642. Time elapsed: 58.38\n",
      "Epoch [23/400], Loss (last training batch/val): 0.0743/0.0645. Time elapsed: 60.49\n",
      "Epoch [24/400], Loss (last training batch/val): 0.0716/0.0575. Time elapsed: 62.81\n",
      "Epoch [25/400], Loss (last training batch/val): 0.0717/0.0538. Time elapsed: 65.10\n",
      "Epoch [26/400], Loss (last training batch/val): 0.0625/0.0526. Time elapsed: 67.91\n",
      "Epoch [27/400], Loss (last training batch/val): 0.0605/0.0515. Time elapsed: 70.28\n",
      "Epoch [28/400], Loss (last training batch/val): 0.0605/0.0461. Time elapsed: 72.74\n",
      "Epoch [29/400], Loss (last training batch/val): 0.0595/0.0445. Time elapsed: 75.24\n",
      "Epoch [30/400], Loss (last training batch/val): 0.0593/0.0433. Time elapsed: 78.35\n",
      "Epoch [31/400], Loss (last training batch/val): 0.0557/0.0424. Time elapsed: 80.61\n",
      "Epoch [32/400], Loss (last training batch/val): 0.0547/0.0404. Time elapsed: 82.68\n",
      "Epoch [33/400], Loss (last training batch/val): 0.0533/0.0398. Time elapsed: 85.24\n",
      "Epoch [34/400], Loss (last training batch/val): 0.0558/0.0378. Time elapsed: 87.64\n",
      "Epoch [35/400], Loss (last training batch/val): 0.0518/0.0369. Time elapsed: 90.41\n",
      "Epoch [36/400], Loss (last training batch/val): 0.0516/0.0361. Time elapsed: 92.86\n",
      "Epoch [37/400], Loss (last training batch/val): 0.0513/0.0353. Time elapsed: 95.05\n",
      "Epoch [38/400], Loss (last training batch/val): 0.0494/0.0350. Time elapsed: 98.13\n",
      "Epoch [39/400], Loss (last training batch/val): 0.0494/0.0338. Time elapsed: 100.73\n",
      "Epoch [40/400], Loss (last training batch/val): 0.0479/0.0332. Time elapsed: 103.39\n",
      "Epoch [41/400], Loss (last training batch/val): 0.0486/0.0331. Time elapsed: 105.71\n",
      "Epoch [42/400], Loss (last training batch/val): 0.0467/0.0329. Time elapsed: 108.96\n",
      "Epoch [43/400], Loss (last training batch/val): 0.0481/0.0313. Time elapsed: 111.29\n",
      "Epoch [44/400], Loss (last training batch/val): 0.0474/0.0308. Time elapsed: 113.56\n",
      "Epoch [45/400], Loss (last training batch/val): 0.0442/0.0314. Time elapsed: 115.74\n",
      "Epoch [46/400], Loss (last training batch/val): 0.0453/0.0294. Time elapsed: 117.87\n",
      "Epoch [47/400], Loss (last training batch/val): 0.0434/0.0287. Time elapsed: 120.10\n",
      "Epoch [48/400], Loss (last training batch/val): 0.0472/0.0283. Time elapsed: 122.35\n",
      "Epoch [49/400], Loss (last training batch/val): 0.0425/0.0289. Time elapsed: 124.50\n",
      "Epoch [50/400], Loss (last training batch/val): 0.0423/0.0275. Time elapsed: 127.09\n",
      "Epoch [51/400], Loss (last training batch/val): 0.0428/0.0274. Time elapsed: 129.23\n",
      "Epoch [52/400], Loss (last training batch/val): 0.0415/0.0266. Time elapsed: 132.05\n",
      "Epoch [53/400], Loss (last training batch/val): 0.0432/0.0264. Time elapsed: 135.02\n",
      "Epoch [54/400], Loss (last training batch/val): 0.0437/0.0261. Time elapsed: 137.83\n",
      "Epoch [55/400], Loss (last training batch/val): 0.0449/0.0262. Time elapsed: 140.05\n",
      "Epoch [56/400], Loss (last training batch/val): 0.0406/0.0264. Time elapsed: 142.54\n",
      "Epoch [57/400], Loss (last training batch/val): 0.0425/0.0254. Time elapsed: 144.91\n",
      "Epoch [58/400], Loss (last training batch/val): 0.0428/0.0255. Time elapsed: 147.08\n",
      "Epoch [59/400], Loss (last training batch/val): 0.0397/0.0258. Time elapsed: 149.26\n",
      "Epoch [60/400], Loss (last training batch/val): 0.0404/0.0253. Time elapsed: 151.84\n",
      "Epoch [61/400], Loss (last training batch/val): 0.0372/0.0260. Time elapsed: 154.23\n",
      "Epoch [62/400], Loss (last training batch/val): 0.0396/0.0250. Time elapsed: 156.42\n",
      "Epoch [63/400], Loss (last training batch/val): 0.0368/0.0246. Time elapsed: 158.86\n",
      "Epoch [64/400], Loss (last training batch/val): 0.0397/0.0250. Time elapsed: 161.25\n",
      "Epoch [65/400], Loss (last training batch/val): 0.0380/0.0251. Time elapsed: 163.49\n",
      "Epoch [66/400], Loss (last training batch/val): 0.0383/0.0241. Time elapsed: 165.74\n",
      "Epoch [67/400], Loss (last training batch/val): 0.0380/0.0257. Time elapsed: 167.84\n",
      "Epoch [68/400], Loss (last training batch/val): 0.0389/0.0244. Time elapsed: 169.95\n",
      "Epoch [69/400], Loss (last training batch/val): 0.0386/0.0241. Time elapsed: 172.38\n",
      "Epoch [70/400], Loss (last training batch/val): 0.0394/0.0250. Time elapsed: 174.51\n",
      "Epoch [71/400], Loss (last training batch/val): 0.0391/0.0239. Time elapsed: 176.68\n",
      "Epoch [72/400], Loss (last training batch/val): 0.0371/0.0237. Time elapsed: 179.40\n",
      "Epoch [73/400], Loss (last training batch/val): 0.0373/0.0238. Time elapsed: 181.92\n",
      "Epoch [74/400], Loss (last training batch/val): 0.0365/0.0251. Time elapsed: 184.19\n",
      "Epoch [75/400], Loss (last training batch/val): 0.0386/0.0245. Time elapsed: 186.27\n",
      "Epoch [76/400], Loss (last training batch/val): 0.0383/0.0238. Time elapsed: 188.59\n",
      "Epoch [77/400], Loss (last training batch/val): 0.0380/0.0241. Time elapsed: 190.78\n",
      "Epoch [78/400], Loss (last training batch/val): 0.0352/0.0236. Time elapsed: 193.28\n",
      "Epoch [79/400], Loss (last training batch/val): 0.0358/0.0235. Time elapsed: 195.63\n",
      "Epoch [80/400], Loss (last training batch/val): 0.0400/0.0230. Time elapsed: 197.96\n",
      "Epoch [81/400], Loss (last training batch/val): 0.0385/0.0232. Time elapsed: 200.07\n",
      "Epoch [82/400], Loss (last training batch/val): 0.0356/0.0232. Time elapsed: 202.18\n",
      "Epoch [83/400], Loss (last training batch/val): 0.0388/0.0230. Time elapsed: 204.41\n",
      "Epoch [84/400], Loss (last training batch/val): 0.0410/0.0233. Time elapsed: 206.95\n",
      "Epoch [85/400], Loss (last training batch/val): 0.0371/0.0229. Time elapsed: 209.04\n",
      "Epoch [86/400], Loss (last training batch/val): 0.0358/0.0234. Time elapsed: 211.56\n",
      "Epoch [87/400], Loss (last training batch/val): 0.0376/0.0227. Time elapsed: 213.84\n",
      "Epoch [88/400], Loss (last training batch/val): 0.0368/0.0235. Time elapsed: 215.93\n",
      "Epoch [89/400], Loss (last training batch/val): 0.0347/0.0229. Time elapsed: 218.02\n",
      "Epoch [90/400], Loss (last training batch/val): 0.0354/0.0233. Time elapsed: 220.28\n",
      "Epoch [91/400], Loss (last training batch/val): 0.0368/0.0228. Time elapsed: 222.55\n",
      "Epoch [92/400], Loss (last training batch/val): 0.0368/0.0232. Time elapsed: 224.65\n",
      "Epoch    93: reducing learning rate of group 0 to 2.5000e-03.\n",
      "Epoch [93/400], Loss (last training batch/val): 0.0365/0.0231. Time elapsed: 226.74\n",
      "Epoch [94/400], Loss (last training batch/val): 0.0348/0.0237. Time elapsed: 228.87\n",
      "Epoch [95/400], Loss (last training batch/val): 0.0350/0.0243. Time elapsed: 231.17\n",
      "Epoch [96/400], Loss (last training batch/val): 0.0326/0.0242. Time elapsed: 233.27\n",
      "Epoch [97/400], Loss (last training batch/val): 0.0345/0.0246. Time elapsed: 235.80\n",
      "Epoch [98/400], Loss (last training batch/val): 0.0352/0.0230. Time elapsed: 238.20\n",
      "Epoch [99/400], Loss (last training batch/val): 0.0330/0.0250. Time elapsed: 240.28\n",
      "Epoch [100/400], Loss (last training batch/val): 0.0342/0.0249. Time elapsed: 242.90\n",
      "Epoch   101: reducing learning rate of group 0 to 1.2500e-03.\n",
      "Epoch [101/400], Loss (last training batch/val): 0.0368/0.0239. Time elapsed: 245.32\n",
      "Epoch [102/400], Loss (last training batch/val): 0.0349/0.0241. Time elapsed: 247.43\n",
      "Epoch [103/400], Loss (last training batch/val): 0.0348/0.0239. Time elapsed: 249.51\n",
      "Epoch [104/400], Loss (last training batch/val): 0.0331/0.0238. Time elapsed: 251.88\n",
      "Epoch [105/400], Loss (last training batch/val): 0.0347/0.0236. Time elapsed: 253.96\n",
      "Epoch [106/400], Loss (last training batch/val): 0.0346/0.0241. Time elapsed: 256.05\n",
      "Epoch [107/400], Loss (last training batch/val): 0.0349/0.0238. Time elapsed: 258.17\n",
      "Epoch [108/400], Loss (last training batch/val): 0.0343/0.0239. Time elapsed: 260.29\n",
      "Epoch   109: reducing learning rate of group 0 to 6.2500e-04.\n",
      "Epoch [109/400], Loss (last training batch/val): 0.0337/0.0241. Time elapsed: 262.40\n",
      "Epoch [110/400], Loss (last training batch/val): 0.0325/0.0240. Time elapsed: 264.63\n",
      "Epoch [111/400], Loss (last training batch/val): 0.0350/0.0240. Time elapsed: 266.82\n",
      "Epoch [112/400], Loss (last training batch/val): 0.0342/0.0241. Time elapsed: 268.96\n",
      "Epoch [113/400], Loss (last training batch/val): 0.0347/0.0238. Time elapsed: 271.08\n",
      "Epoch [114/400], Loss (last training batch/val): 0.0329/0.0242. Time elapsed: 273.18\n",
      "Epoch [115/400], Loss (last training batch/val): 0.0344/0.0238. Time elapsed: 275.50\n",
      "Epoch [116/400], Loss (last training batch/val): 0.0340/0.0239. Time elapsed: 277.73\n",
      "Epoch   117: reducing learning rate of group 0 to 3.1250e-04.\n",
      "Epoch [117/400], Loss (last training batch/val): 0.0334/0.0246. Time elapsed: 280.27\n",
      "Epoch [118/400], Loss (last training batch/val): 0.0361/0.0236. Time elapsed: 282.86\n",
      "Epoch [119/400], Loss (last training batch/val): 0.0338/0.0237. Time elapsed: 285.01\n",
      "Epoch [120/400], Loss (last training batch/val): 0.0365/0.0238. Time elapsed: 287.33\n",
      "Epoch [121/400], Loss (last training batch/val): 0.0355/0.0239. Time elapsed: 289.50\n",
      "Epoch [122/400], Loss (last training batch/val): 0.0354/0.0237. Time elapsed: 292.02\n",
      "Epoch [123/400], Loss (last training batch/val): 0.0353/0.0240. Time elapsed: 294.59\n",
      "Epoch [124/400], Loss (last training batch/val): 0.0337/0.0237. Time elapsed: 298.04\n",
      "Epoch   125: reducing learning rate of group 0 to 1.5625e-04.\n",
      "Epoch [125/400], Loss (last training batch/val): 0.0335/0.0236. Time elapsed: 300.27\n",
      "Epoch [126/400], Loss (last training batch/val): 0.0353/0.0239. Time elapsed: 302.36\n",
      "Epoch [127/400], Loss (last training batch/val): 0.0323/0.0240. Time elapsed: 304.45\n",
      "Epoch [128/400], Loss (last training batch/val): 0.0351/0.0237. Time elapsed: 306.59\n",
      "Epoch [129/400], Loss (last training batch/val): 0.0349/0.0239. Time elapsed: 308.88\n",
      "Epoch [130/400], Loss (last training batch/val): 0.0356/0.0240. Time elapsed: 311.22\n",
      "Epoch [131/400], Loss (last training batch/val): 0.0361/0.0236. Time elapsed: 313.58\n",
      "Epoch [132/400], Loss (last training batch/val): 0.0321/0.0238. Time elapsed: 315.69\n",
      "Epoch   133: reducing learning rate of group 0 to 7.8125e-05.\n",
      "Epoch [133/400], Loss (last training batch/val): 0.0355/0.0238. Time elapsed: 317.78\n",
      "Epoch [134/400], Loss (last training batch/val): 0.0346/0.0239. Time elapsed: 319.87\n",
      "Epoch [135/400], Loss (last training batch/val): 0.0344/0.0238. Time elapsed: 321.97\n",
      "Epoch [136/400], Loss (last training batch/val): 0.0318/0.0240. Time elapsed: 324.27\n",
      "Epoch [137/400], Loss (last training batch/val): 0.0338/0.0238. Time elapsed: 326.35\n",
      "Epoch [138/400], Loss (last training batch/val): 0.0332/0.0239. Time elapsed: 328.67\n",
      "Epoch [139/400], Loss (last training batch/val): 0.0337/0.0239. Time elapsed: 330.75\n",
      "Epoch [140/400], Loss (last training batch/val): 0.0324/0.0239. Time elapsed: 332.83\n",
      "Epoch   141: reducing learning rate of group 0 to 3.9063e-05.\n",
      "Epoch [141/400], Loss (last training batch/val): 0.0342/0.0240. Time elapsed: 335.04\n",
      "Epoch [142/400], Loss (last training batch/val): 0.0360/0.0239. Time elapsed: 337.52\n",
      "Epoch [143/400], Loss (last training batch/val): 0.0352/0.0240. Time elapsed: 340.15\n",
      "Epoch [144/400], Loss (last training batch/val): 0.0329/0.0239. Time elapsed: 342.39\n",
      "Epoch [145/400], Loss (last training batch/val): 0.0322/0.0241. Time elapsed: 344.49\n",
      "Epoch [146/400], Loss (last training batch/val): 0.0345/0.0238. Time elapsed: 346.58\n",
      "Epoch [147/400], Loss (last training batch/val): 0.0335/0.0238. Time elapsed: 348.67\n",
      "Epoch [148/400], Loss (last training batch/val): 0.0340/0.0239. Time elapsed: 350.76\n",
      "Epoch   149: reducing learning rate of group 0 to 1.9531e-05.\n",
      "Epoch [149/400], Loss (last training batch/val): 0.0338/0.0240. Time elapsed: 352.85\n",
      "Epoch [150/400], Loss (last training batch/val): 0.0347/0.0240. Time elapsed: 354.95\n",
      "Epoch [151/400], Loss (last training batch/val): 0.0337/0.0238. Time elapsed: 357.09\n",
      "Epoch [152/400], Loss (last training batch/val): 0.0335/0.0239. Time elapsed: 359.32\n",
      "Epoch [153/400], Loss (last training batch/val): 0.0353/0.0239. Time elapsed: 361.59\n",
      "Epoch [154/400], Loss (last training batch/val): 0.0346/0.0240. Time elapsed: 363.67\n",
      "Epoch [155/400], Loss (last training batch/val): 0.0344/0.0239. Time elapsed: 366.07\n",
      "Epoch [156/400], Loss (last training batch/val): 0.0354/0.0239. Time elapsed: 368.44\n",
      "Epoch   157: reducing learning rate of group 0 to 9.7656e-06.\n",
      "Epoch [157/400], Loss (last training batch/val): 0.0347/0.0240. Time elapsed: 370.52\n",
      "Epoch [158/400], Loss (last training batch/val): 0.0337/0.0239. Time elapsed: 372.61\n",
      "Epoch [159/400], Loss (last training batch/val): 0.0338/0.0239. Time elapsed: 374.70\n",
      "Epoch [160/400], Loss (last training batch/val): 0.0324/0.0238. Time elapsed: 376.79\n",
      "Epoch [161/400], Loss (last training batch/val): 0.0338/0.0239. Time elapsed: 378.88\n",
      "Epoch [162/400], Loss (last training batch/val): 0.0336/0.0239. Time elapsed: 381.21\n",
      "Epoch [163/400], Loss (last training batch/val): 0.0331/0.0238. Time elapsed: 383.31\n",
      "Epoch [164/400], Loss (last training batch/val): 0.0334/0.0239. Time elapsed: 385.40\n",
      "Epoch   165: reducing learning rate of group 0 to 4.8828e-06.\n",
      "Epoch [165/400], Loss (last training batch/val): 0.0347/0.0239. Time elapsed: 387.49\n",
      "Epoch [166/400], Loss (last training batch/val): 0.0338/0.0239. Time elapsed: 389.64\n",
      "Epoch [167/400], Loss (last training batch/val): 0.0341/0.0239. Time elapsed: 391.72\n",
      "Epoch [168/400], Loss (last training batch/val): 0.0338/0.0239. Time elapsed: 393.84\n",
      "Epoch [169/400], Loss (last training batch/val): 0.0326/0.0239. Time elapsed: 395.94\n",
      "Epoch [170/400], Loss (last training batch/val): 0.0329/0.0239. Time elapsed: 398.04\n",
      "Epoch [171/400], Loss (last training batch/val): 0.0337/0.0239. Time elapsed: 400.14\n",
      "Epoch [172/400], Loss (last training batch/val): 0.0332/0.0239. Time elapsed: 402.23\n",
      "Epoch   173: reducing learning rate of group 0 to 2.4414e-06.\n",
      "Epoch [173/400], Loss (last training batch/val): 0.0332/0.0239. Time elapsed: 404.43\n",
      "Epoch [174/400], Loss (last training batch/val): 0.0319/0.0239. Time elapsed: 406.58\n",
      "Epoch [175/400], Loss (last training batch/val): 0.0332/0.0239. Time elapsed: 408.68\n",
      "Epoch [176/400], Loss (last training batch/val): 0.0336/0.0239. Time elapsed: 410.78\n",
      "Epoch [177/400], Loss (last training batch/val): 0.0345/0.0239. Time elapsed: 412.88\n",
      "Epoch [178/400], Loss (last training batch/val): 0.0322/0.0239. Time elapsed: 414.97\n",
      "Epoch [179/400], Loss (last training batch/val): 0.0337/0.0239. Time elapsed: 417.10\n",
      "Epoch [180/400], Loss (last training batch/val): 0.0340/0.0239. Time elapsed: 419.34\n",
      "Epoch   181: reducing learning rate of group 0 to 1.2207e-06.\n",
      "Epoch [181/400], Loss (last training batch/val): 0.0344/0.0239. Time elapsed: 421.48\n",
      "Epoch [182/400], Loss (last training batch/val): 0.0324/0.0239. Time elapsed: 423.60\n",
      "Epoch [183/400], Loss (last training batch/val): 0.0329/0.0239. Time elapsed: 425.69\n",
      "Epoch [184/400], Loss (last training batch/val): 0.0357/0.0239. Time elapsed: 427.91\n",
      "Epoch [185/400], Loss (last training batch/val): 0.0352/0.0239. Time elapsed: 430.01\n",
      "Epoch [186/400], Loss (last training batch/val): 0.0337/0.0239. Time elapsed: 432.11\n",
      "Epoch [187/400], Loss (last training batch/val): 0.0341/0.0239. Time elapsed: 434.82\n",
      "Epoch [188/400], Loss (last training batch/val): 0.0344/0.0239. Time elapsed: 436.93\n",
      "Epoch   189: reducing learning rate of group 0 to 6.1035e-07.\n",
      "Epoch [189/400], Loss (last training batch/val): 0.0342/0.0239. Time elapsed: 439.18\n",
      "Epoch [190/400], Loss (last training batch/val): 0.0312/0.0239. Time elapsed: 441.26\n",
      "Epoch [191/400], Loss (last training batch/val): 0.0341/0.0239. Time elapsed: 443.36\n",
      "Epoch [192/400], Loss (last training batch/val): 0.0336/0.0239. Time elapsed: 445.44\n",
      "Epoch [193/400], Loss (last training batch/val): 0.0326/0.0239. Time elapsed: 447.97\n",
      "Epoch [194/400], Loss (last training batch/val): 0.0343/0.0239. Time elapsed: 450.07\n",
      "Epoch [195/400], Loss (last training batch/val): 0.0354/0.0239. Time elapsed: 452.16\n",
      "Epoch [196/400], Loss (last training batch/val): 0.0325/0.0239. Time elapsed: 454.25\n",
      "Epoch   197: reducing learning rate of group 0 to 3.0518e-07.\n",
      "Epoch [197/400], Loss (last training batch/val): 0.0344/0.0239. Time elapsed: 456.63\n",
      "Epoch [198/400], Loss (last training batch/val): 0.0341/0.0239. Time elapsed: 458.72\n",
      "Epoch [199/400], Loss (last training batch/val): 0.0332/0.0239. Time elapsed: 460.82\n",
      "Epoch [200/400], Loss (last training batch/val): 0.0338/0.0239. Time elapsed: 462.91\n",
      "Epoch [201/400], Loss (last training batch/val): 0.0355/0.0239. Time elapsed: 465.00\n",
      "Epoch [202/400], Loss (last training batch/val): 0.0345/0.0239. Time elapsed: 467.09\n",
      "Epoch [203/400], Loss (last training batch/val): 0.0346/0.0239. Time elapsed: 469.18\n",
      "Epoch [204/400], Loss (last training batch/val): 0.0350/0.0239. Time elapsed: 471.28\n",
      "Epoch   205: reducing learning rate of group 0 to 1.5259e-07.\n",
      "Epoch [205/400], Loss (last training batch/val): 0.0341/0.0239. Time elapsed: 473.38\n",
      "Epoch [206/400], Loss (last training batch/val): 0.0348/0.0239. Time elapsed: 475.46\n",
      "Epoch [207/400], Loss (last training batch/val): 0.0329/0.0239. Time elapsed: 477.56\n",
      "Epoch [208/400], Loss (last training batch/val): 0.0357/0.0239. Time elapsed: 479.66\n",
      "Epoch [209/400], Loss (last training batch/val): 0.0345/0.0239. Time elapsed: 482.14\n",
      "Epoch [210/400], Loss (last training batch/val): 0.0324/0.0239. Time elapsed: 484.24\n",
      "Epoch [211/400], Loss (last training batch/val): 0.0358/0.0239. Time elapsed: 486.33\n",
      "Epoch [212/400], Loss (last training batch/val): 0.0351/0.0239. Time elapsed: 488.44\n",
      "Epoch   213: reducing learning rate of group 0 to 7.6294e-08.\n",
      "Epoch [213/400], Loss (last training batch/val): 0.0336/0.0239. Time elapsed: 490.53\n",
      "Epoch [214/400], Loss (last training batch/val): 0.0337/0.0239. Time elapsed: 492.61\n",
      "Epoch [215/400], Loss (last training batch/val): 0.0323/0.0239. Time elapsed: 494.70\n",
      "Epoch [216/400], Loss (last training batch/val): 0.0355/0.0239. Time elapsed: 496.81\n",
      "Epoch [217/400], Loss (last training batch/val): 0.0326/0.0239. Time elapsed: 498.90\n",
      "Epoch [218/400], Loss (last training batch/val): 0.0333/0.0239. Time elapsed: 501.00\n",
      "Epoch [219/400], Loss (last training batch/val): 0.0347/0.0239. Time elapsed: 503.09\n",
      "Epoch [220/400], Loss (last training batch/val): 0.0319/0.0239. Time elapsed: 505.18\n",
      "Epoch   221: reducing learning rate of group 0 to 3.8147e-08.\n",
      "Epoch [221/400], Loss (last training batch/val): 0.0345/0.0239. Time elapsed: 507.27\n",
      "Epoch [222/400], Loss (last training batch/val): 0.0355/0.0239. Time elapsed: 509.36\n",
      "Epoch [223/400], Loss (last training batch/val): 0.0334/0.0239. Time elapsed: 511.44\n",
      "Epoch [224/400], Loss (last training batch/val): 0.0350/0.0239. Time elapsed: 513.53\n",
      "Epoch [225/400], Loss (last training batch/val): 0.0332/0.0239. Time elapsed: 515.65\n",
      "Epoch [226/400], Loss (last training batch/val): 0.0352/0.0239. Time elapsed: 517.73\n",
      "Epoch [227/400], Loss (last training batch/val): 0.0355/0.0239. Time elapsed: 519.82\n",
      "Epoch [228/400], Loss (last training batch/val): 0.0347/0.0239. Time elapsed: 521.90\n",
      "Epoch   229: reducing learning rate of group 0 to 1.9073e-08.\n",
      "Epoch [229/400], Loss (last training batch/val): 0.0330/0.0239. Time elapsed: 524.00\n",
      "Epoch [230/400], Loss (last training batch/val): 0.0326/0.0239. Time elapsed: 526.09\n",
      "Epoch [231/400], Loss (last training batch/val): 0.0347/0.0239. Time elapsed: 528.18\n",
      "Epoch [232/400], Loss (last training batch/val): 0.0336/0.0239. Time elapsed: 530.28\n",
      "Epoch [233/400], Loss (last training batch/val): 0.0335/0.0239. Time elapsed: 532.43\n",
      "Epoch [234/400], Loss (last training batch/val): 0.0359/0.0239. Time elapsed: 534.52\n",
      "Epoch [235/400], Loss (last training batch/val): 0.0348/0.0239. Time elapsed: 536.60\n",
      "Epoch [236/400], Loss (last training batch/val): 0.0325/0.0239. Time elapsed: 538.69\n",
      "Epoch [237/400], Loss (last training batch/val): 0.0353/0.0239. Time elapsed: 540.88\n",
      "Epoch [238/400], Loss (last training batch/val): 0.0335/0.0239. Time elapsed: 542.95\n",
      "Epoch [239/400], Loss (last training batch/val): 0.0331/0.0239. Time elapsed: 545.04\n",
      "Epoch [240/400], Loss (last training batch/val): 0.0338/0.0239. Time elapsed: 547.13\n",
      "Epoch [241/400], Loss (last training batch/val): 0.0335/0.0239. Time elapsed: 549.23\n",
      "Epoch [242/400], Loss (last training batch/val): 0.0323/0.0239. Time elapsed: 551.32\n",
      "Epoch [243/400], Loss (last training batch/val): 0.0335/0.0239. Time elapsed: 553.43\n",
      "Epoch [244/400], Loss (last training batch/val): 0.0348/0.0239. Time elapsed: 555.51\n",
      "Epoch [245/400], Loss (last training batch/val): 0.0349/0.0239. Time elapsed: 557.59\n",
      "Epoch [246/400], Loss (last training batch/val): 0.0347/0.0239. Time elapsed: 559.68\n",
      "Epoch [247/400], Loss (last training batch/val): 0.0351/0.0239. Time elapsed: 561.78\n",
      "Epoch [248/400], Loss (last training batch/val): 0.0328/0.0239. Time elapsed: 563.87\n",
      "Epoch [249/400], Loss (last training batch/val): 0.0328/0.0239. Time elapsed: 565.96\n",
      "Epoch [250/400], Loss (last training batch/val): 0.0338/0.0239. Time elapsed: 568.06\n",
      "Epoch [251/400], Loss (last training batch/val): 0.0327/0.0239. Time elapsed: 570.15\n",
      "Epoch [252/400], Loss (last training batch/val): 0.0368/0.0239. Time elapsed: 572.24\n",
      "Epoch [253/400], Loss (last training batch/val): 0.0329/0.0239. Time elapsed: 574.33\n",
      "Epoch [254/400], Loss (last training batch/val): 0.0339/0.0239. Time elapsed: 576.43\n",
      "Epoch [255/400], Loss (last training batch/val): 0.0344/0.0239. Time elapsed: 578.51\n",
      "Epoch [256/400], Loss (last training batch/val): 0.0345/0.0239. Time elapsed: 580.59\n",
      "Epoch [257/400], Loss (last training batch/val): 0.0330/0.0239. Time elapsed: 582.70\n",
      "Epoch [258/400], Loss (last training batch/val): 0.0335/0.0239. Time elapsed: 584.83\n",
      "Epoch [259/400], Loss (last training batch/val): 0.0336/0.0239. Time elapsed: 586.93\n",
      "Epoch [260/400], Loss (last training batch/val): 0.0339/0.0239. Time elapsed: 589.02\n",
      "Epoch [261/400], Loss (last training batch/val): 0.0343/0.0239. Time elapsed: 591.10\n",
      "Epoch [262/400], Loss (last training batch/val): 0.0333/0.0239. Time elapsed: 593.19\n",
      "Epoch [263/400], Loss (last training batch/val): 0.0350/0.0239. Time elapsed: 595.28\n",
      "Epoch [264/400], Loss (last training batch/val): 0.0348/0.0239. Time elapsed: 597.38\n",
      "Epoch [265/400], Loss (last training batch/val): 0.0343/0.0239. Time elapsed: 599.46\n",
      "Epoch [266/400], Loss (last training batch/val): 0.0330/0.0239. Time elapsed: 601.54\n",
      "Epoch [267/400], Loss (last training batch/val): 0.0348/0.0239. Time elapsed: 603.62\n",
      "Epoch [268/400], Loss (last training batch/val): 0.0341/0.0239. Time elapsed: 605.71\n",
      "Epoch [269/400], Loss (last training batch/val): 0.0352/0.0239. Time elapsed: 607.94\n",
      "Epoch [270/400], Loss (last training batch/val): 0.0351/0.0239. Time elapsed: 610.04\n",
      "Epoch [271/400], Loss (last training batch/val): 0.0335/0.0239. Time elapsed: 612.13\n",
      "Epoch [272/400], Loss (last training batch/val): 0.0334/0.0239. Time elapsed: 614.22\n",
      "Epoch [273/400], Loss (last training batch/val): 0.0329/0.0239. Time elapsed: 616.30\n",
      "Epoch [274/400], Loss (last training batch/val): 0.0356/0.0239. Time elapsed: 618.39\n",
      "Epoch [275/400], Loss (last training batch/val): 0.0354/0.0239. Time elapsed: 620.48\n",
      "Epoch [276/400], Loss (last training batch/val): 0.0342/0.0239. Time elapsed: 622.58\n",
      "Epoch [277/400], Loss (last training batch/val): 0.0335/0.0239. Time elapsed: 624.66\n",
      "Epoch [278/400], Loss (last training batch/val): 0.0319/0.0239. Time elapsed: 626.76\n",
      "Epoch [279/400], Loss (last training batch/val): 0.0329/0.0239. Time elapsed: 628.84\n",
      "Epoch [280/400], Loss (last training batch/val): 0.0349/0.0239. Time elapsed: 631.04\n",
      "Epoch [281/400], Loss (last training batch/val): 0.0343/0.0239. Time elapsed: 633.13\n",
      "Epoch [282/400], Loss (last training batch/val): 0.0337/0.0239. Time elapsed: 635.23\n",
      "Epoch [283/400], Loss (last training batch/val): 0.0328/0.0239. Time elapsed: 637.34\n",
      "Epoch [284/400], Loss (last training batch/val): 0.0343/0.0239. Time elapsed: 639.44\n",
      "Epoch [285/400], Loss (last training batch/val): 0.0339/0.0239. Time elapsed: 641.54\n",
      "Epoch [286/400], Loss (last training batch/val): 0.0340/0.0239. Time elapsed: 643.63\n",
      "Epoch [287/400], Loss (last training batch/val): 0.0341/0.0239. Time elapsed: 645.72\n",
      "Epoch [288/400], Loss (last training batch/val): 0.0324/0.0239. Time elapsed: 647.81\n",
      "Epoch [289/400], Loss (last training batch/val): 0.0364/0.0239. Time elapsed: 649.91\n",
      "Epoch [290/400], Loss (last training batch/val): 0.0338/0.0239. Time elapsed: 652.00\n",
      "Epoch [291/400], Loss (last training batch/val): 0.0339/0.0239. Time elapsed: 654.09\n",
      "Epoch [292/400], Loss (last training batch/val): 0.0322/0.0239. Time elapsed: 656.17\n",
      "Epoch [293/400], Loss (last training batch/val): 0.0357/0.0239. Time elapsed: 658.27\n",
      "Epoch [294/400], Loss (last training batch/val): 0.0338/0.0239. Time elapsed: 660.36\n",
      "Epoch [295/400], Loss (last training batch/val): 0.0336/0.0239. Time elapsed: 662.44\n",
      "Epoch [296/400], Loss (last training batch/val): 0.0343/0.0239. Time elapsed: 664.54\n",
      "Epoch [297/400], Loss (last training batch/val): 0.0349/0.0239. Time elapsed: 666.62\n",
      "Epoch [298/400], Loss (last training batch/val): 0.0334/0.0239. Time elapsed: 668.71\n",
      "Epoch [299/400], Loss (last training batch/val): 0.0355/0.0239. Time elapsed: 670.79\n",
      "Epoch [300/400], Loss (last training batch/val): 0.0353/0.0239. Time elapsed: 672.89\n",
      "Epoch [301/400], Loss (last training batch/val): 0.0338/0.0239. Time elapsed: 674.99\n",
      "Epoch [302/400], Loss (last training batch/val): 0.0327/0.0239. Time elapsed: 677.08\n",
      "Epoch [303/400], Loss (last training batch/val): 0.0332/0.0239. Time elapsed: 679.19\n",
      "Epoch [304/400], Loss (last training batch/val): 0.0363/0.0239. Time elapsed: 681.27\n",
      "Epoch [305/400], Loss (last training batch/val): 0.0336/0.0239. Time elapsed: 683.35\n",
      "Epoch [306/400], Loss (last training batch/val): 0.0324/0.0239. Time elapsed: 685.46\n",
      "Epoch [307/400], Loss (last training batch/val): 0.0330/0.0239. Time elapsed: 687.56\n",
      "Epoch [308/400], Loss (last training batch/val): 0.0345/0.0239. Time elapsed: 689.66\n",
      "Epoch [309/400], Loss (last training batch/val): 0.0334/0.0239. Time elapsed: 691.75\n",
      "Epoch [310/400], Loss (last training batch/val): 0.0339/0.0239. Time elapsed: 693.84\n",
      "Epoch [311/400], Loss (last training batch/val): 0.0335/0.0239. Time elapsed: 695.93\n",
      "Epoch [312/400], Loss (last training batch/val): 0.0350/0.0239. Time elapsed: 698.02\n",
      "Epoch [313/400], Loss (last training batch/val): 0.0338/0.0239. Time elapsed: 700.12\n",
      "Epoch [314/400], Loss (last training batch/val): 0.0336/0.0239. Time elapsed: 702.21\n",
      "Epoch [315/400], Loss (last training batch/val): 0.0355/0.0239. Time elapsed: 704.30\n",
      "Epoch [316/400], Loss (last training batch/val): 0.0358/0.0239. Time elapsed: 706.39\n",
      "Epoch [317/400], Loss (last training batch/val): 0.0351/0.0239. Time elapsed: 708.50\n",
      "Epoch [318/400], Loss (last training batch/val): 0.0339/0.0239. Time elapsed: 710.60\n",
      "Epoch [319/400], Loss (last training batch/val): 0.0349/0.0239. Time elapsed: 712.70\n",
      "Epoch [320/400], Loss (last training batch/val): 0.0344/0.0239. Time elapsed: 714.78\n",
      "Epoch [321/400], Loss (last training batch/val): 0.0328/0.0239. Time elapsed: 717.28\n",
      "Epoch [322/400], Loss (last training batch/val): 0.0336/0.0239. Time elapsed: 719.38\n",
      "Epoch [323/400], Loss (last training batch/val): 0.0308/0.0239. Time elapsed: 721.48\n",
      "Epoch [324/400], Loss (last training batch/val): 0.0344/0.0239. Time elapsed: 723.57\n",
      "Epoch [325/400], Loss (last training batch/val): 0.0359/0.0239. Time elapsed: 725.68\n",
      "Epoch [326/400], Loss (last training batch/val): 0.0338/0.0239. Time elapsed: 727.77\n",
      "Epoch [327/400], Loss (last training batch/val): 0.0319/0.0239. Time elapsed: 729.87\n",
      "Epoch [328/400], Loss (last training batch/val): 0.0340/0.0239. Time elapsed: 731.96\n",
      "Epoch [329/400], Loss (last training batch/val): 0.0339/0.0239. Time elapsed: 734.05\n",
      "Epoch [330/400], Loss (last training batch/val): 0.0342/0.0239. Time elapsed: 736.13\n",
      "Epoch [331/400], Loss (last training batch/val): 0.0332/0.0239. Time elapsed: 738.23\n",
      "Epoch [332/400], Loss (last training batch/val): 0.0354/0.0239. Time elapsed: 740.31\n",
      "Epoch [333/400], Loss (last training batch/val): 0.0348/0.0239. Time elapsed: 742.41\n",
      "Epoch [334/400], Loss (last training batch/val): 0.0322/0.0239. Time elapsed: 744.51\n",
      "Epoch [335/400], Loss (last training batch/val): 0.0329/0.0239. Time elapsed: 746.60\n",
      "Epoch [336/400], Loss (last training batch/val): 0.0339/0.0239. Time elapsed: 748.69\n",
      "Epoch [337/400], Loss (last training batch/val): 0.0342/0.0239. Time elapsed: 750.77\n",
      "Epoch [338/400], Loss (last training batch/val): 0.0336/0.0239. Time elapsed: 752.86\n",
      "Epoch [339/400], Loss (last training batch/val): 0.0321/0.0239. Time elapsed: 754.95\n",
      "Epoch [340/400], Loss (last training batch/val): 0.0348/0.0239. Time elapsed: 757.03\n",
      "Epoch [341/400], Loss (last training batch/val): 0.0352/0.0239. Time elapsed: 759.13\n",
      "Epoch [342/400], Loss (last training batch/val): 0.0337/0.0239. Time elapsed: 761.22\n",
      "Epoch [343/400], Loss (last training batch/val): 0.0340/0.0239. Time elapsed: 763.30\n",
      "Epoch [344/400], Loss (last training batch/val): 0.0341/0.0239. Time elapsed: 765.42\n",
      "Epoch [345/400], Loss (last training batch/val): 0.0341/0.0239. Time elapsed: 767.51\n",
      "Epoch [346/400], Loss (last training batch/val): 0.0349/0.0239. Time elapsed: 769.61\n",
      "Epoch [347/400], Loss (last training batch/val): 0.0337/0.0239. Time elapsed: 771.71\n",
      "Epoch [348/400], Loss (last training batch/val): 0.0342/0.0239. Time elapsed: 773.79\n",
      "Epoch [349/400], Loss (last training batch/val): 0.0365/0.0239. Time elapsed: 775.88\n",
      "Epoch [350/400], Loss (last training batch/val): 0.0354/0.0239. Time elapsed: 777.97\n",
      "Epoch [351/400], Loss (last training batch/val): 0.0343/0.0239. Time elapsed: 780.06\n",
      "Epoch [352/400], Loss (last training batch/val): 0.0341/0.0239. Time elapsed: 782.16\n",
      "Epoch [353/400], Loss (last training batch/val): 0.0344/0.0239. Time elapsed: 784.25\n",
      "Epoch [354/400], Loss (last training batch/val): 0.0333/0.0239. Time elapsed: 786.33\n",
      "Epoch [355/400], Loss (last training batch/val): 0.0327/0.0239. Time elapsed: 788.43\n",
      "Epoch [356/400], Loss (last training batch/val): 0.0345/0.0239. Time elapsed: 790.53\n",
      "Epoch [357/400], Loss (last training batch/val): 0.0344/0.0239. Time elapsed: 792.63\n",
      "Epoch [358/400], Loss (last training batch/val): 0.0341/0.0239. Time elapsed: 794.73\n",
      "Epoch [359/400], Loss (last training batch/val): 0.0348/0.0239. Time elapsed: 796.84\n",
      "Epoch [360/400], Loss (last training batch/val): 0.0359/0.0239. Time elapsed: 798.94\n",
      "Epoch [361/400], Loss (last training batch/val): 0.0342/0.0239. Time elapsed: 801.05\n",
      "Epoch [362/400], Loss (last training batch/val): 0.0347/0.0239. Time elapsed: 803.15\n",
      "Epoch [363/400], Loss (last training batch/val): 0.0342/0.0239. Time elapsed: 805.26\n",
      "Epoch [364/400], Loss (last training batch/val): 0.0359/0.0239. Time elapsed: 807.37\n",
      "Epoch [365/400], Loss (last training batch/val): 0.0349/0.0239. Time elapsed: 809.49\n",
      "Epoch [366/400], Loss (last training batch/val): 0.0342/0.0239. Time elapsed: 811.59\n",
      "Epoch [367/400], Loss (last training batch/val): 0.0344/0.0239. Time elapsed: 813.71\n",
      "Epoch [368/400], Loss (last training batch/val): 0.0326/0.0239. Time elapsed: 815.82\n",
      "Epoch [369/400], Loss (last training batch/val): 0.0340/0.0239. Time elapsed: 817.92\n",
      "Epoch [370/400], Loss (last training batch/val): 0.0321/0.0239. Time elapsed: 820.02\n",
      "Epoch [371/400], Loss (last training batch/val): 0.0346/0.0239. Time elapsed: 822.12\n",
      "Epoch [372/400], Loss (last training batch/val): 0.0328/0.0239. Time elapsed: 824.22\n",
      "Epoch [373/400], Loss (last training batch/val): 0.0328/0.0239. Time elapsed: 826.32\n",
      "Epoch [374/400], Loss (last training batch/val): 0.0331/0.0239. Time elapsed: 828.42\n",
      "Epoch [375/400], Loss (last training batch/val): 0.0356/0.0239. Time elapsed: 830.52\n",
      "Epoch [376/400], Loss (last training batch/val): 0.0327/0.0239. Time elapsed: 832.61\n",
      "Epoch [377/400], Loss (last training batch/val): 0.0343/0.0239. Time elapsed: 834.71\n",
      "Epoch [378/400], Loss (last training batch/val): 0.0349/0.0239. Time elapsed: 836.82\n",
      "Epoch [379/400], Loss (last training batch/val): 0.0344/0.0239. Time elapsed: 838.92\n",
      "Epoch [380/400], Loss (last training batch/val): 0.0358/0.0239. Time elapsed: 841.05\n",
      "Epoch [381/400], Loss (last training batch/val): 0.0359/0.0239. Time elapsed: 843.17\n",
      "Epoch [382/400], Loss (last training batch/val): 0.0342/0.0239. Time elapsed: 845.28\n",
      "Epoch [383/400], Loss (last training batch/val): 0.0340/0.0239. Time elapsed: 847.38\n",
      "Epoch [384/400], Loss (last training batch/val): 0.0340/0.0239. Time elapsed: 849.47\n",
      "Epoch [385/400], Loss (last training batch/val): 0.0343/0.0239. Time elapsed: 851.58\n",
      "Epoch [386/400], Loss (last training batch/val): 0.0342/0.0239. Time elapsed: 853.70\n",
      "Epoch [387/400], Loss (last training batch/val): 0.0355/0.0239. Time elapsed: 855.80\n",
      "Epoch [388/400], Loss (last training batch/val): 0.0336/0.0239. Time elapsed: 857.91\n",
      "Epoch [389/400], Loss (last training batch/val): 0.0333/0.0239. Time elapsed: 860.01\n",
      "Epoch [390/400], Loss (last training batch/val): 0.0349/0.0239. Time elapsed: 862.12\n",
      "Epoch [391/400], Loss (last training batch/val): 0.0326/0.0239. Time elapsed: 864.21\n",
      "Epoch [392/400], Loss (last training batch/val): 0.0330/0.0239. Time elapsed: 866.32\n",
      "Epoch [393/400], Loss (last training batch/val): 0.0332/0.0239. Time elapsed: 868.42\n",
      "Epoch [394/400], Loss (last training batch/val): 0.0336/0.0239. Time elapsed: 870.54\n",
      "Epoch [395/400], Loss (last training batch/val): 0.0333/0.0239. Time elapsed: 872.65\n",
      "Epoch [396/400], Loss (last training batch/val): 0.0347/0.0239. Time elapsed: 874.76\n",
      "Epoch [397/400], Loss (last training batch/val): 0.0333/0.0239. Time elapsed: 876.86\n",
      "Epoch [398/400], Loss (last training batch/val): 0.0350/0.0239. Time elapsed: 878.97\n",
      "Epoch [399/400], Loss (last training batch/val): 0.0339/0.0239. Time elapsed: 881.08\n",
      "Epoch [400/400], Loss (last training batch/val): 0.0341/0.0239. Time elapsed: 883.18\n"
     ]
    }
   ],
   "source": [
    "# interactive descending lr for less loss\n",
    "optimizer = optim.SGD(model.parameters(), lr=0.005, momentum=0.9)\n",
    "scheduler = optim.lr_scheduler.ReduceLROnPlateau(\n",
    "    optimizer, factor=0.5, verbose=True, cooldown=2, patience=5\n",
    ")\n",
    "start = time.time()\n",
    "for epoch in range(num_epochs):\n",
    "    model.train()\n",
    "    for data in train_dl:\n",
    "        data = data.to(torch.device('cuda'))\n",
    "        optimizer.zero_grad()\n",
    "        out = model(data)\n",
    "        loss = loss_fn(out, data.y)\n",
    "        losses.append(loss.item())  # history\n",
    "        # optimize\n",
    "        loss.backward()\n",
    "        optimizer.step()\n",
    "\n",
    "        # stats\n",
    "        learning_rates.append(-1)\n",
    "\n",
    "    # evaluation\n",
    "    model.eval()\n",
    "    agg_loss = 0\n",
    "    with torch.autograd.no_grad():\n",
    "        for data in test_dl:\n",
    "            data = data.to(torch.device('cuda'))\n",
    "            out = model(data)\n",
    "            agg_loss += loss_fn(out, data.y)\n",
    "        val_losses.append(agg_loss.item()/test_batches)\n",
    "    scheduler.step(agg_loss)\n",
    "    if not silent:\n",
    "        print(\n",
    "            \"Epoch [{}/{}], Loss (last training batch/val): {:.4f}/{:.4f}. Time elapsed: {:.2f}\".format(\n",
    "                epoch + 1,\n",
    "                num_epochs,\n",
    "                losses[-1],\n",
    "                val_losses[-1],\n",
    "                time.time() - start,\n",
    "            )\n",
    "        )"
   ]
  },
  {
   "cell_type": "markdown",
   "metadata": {},
   "source": [
    "# Learning stats"
   ]
  },
  {
   "cell_type": "code",
   "execution_count": 11,
   "metadata": {
    "execution": {
     "iopub.execute_input": "2020-04-17T18:42:34.339Z",
     "iopub.status.busy": "2020-04-17T18:42:34.333Z",
     "iopub.status.idle": "2020-04-17T18:42:34.354Z",
     "shell.execute_reply": "2020-04-17T18:42:34.375Z"
    }
   },
   "outputs": [
    {
     "data": {
      "image/png": "[encoded data removed]",
      "text/plain": [
       "<Figure size 576x432 with 1 Axes>"
      ]
     },
     "metadata": {
      "needs_background": "light"
     },
     "output_type": "display_data"
    }
   ],
   "source": [
    "fig = plt.figure(figsize=(8, 6))\n",
    "ax = fig.add_subplot(1, 1, 1)\n",
    "\n",
    "plt.plot(\n",
    "    range(1, len(val_losses)+1), \n",
    "    list(map(\n",
    "        lambda i: np.mean(losses[i:i+len(train_dl)]),\n",
    "        range(0, len(losses)-len(train_dl)+1, len(train_dl))\n",
    "    ))\n",
    ")\n",
    "plt.plot(range(1, len(val_losses)+1), val_losses)\n",
    "ax.set_xlabel('Epoch')\n",
    "ax.set_ylabel('Loss')\n",
    "plt.savefig('loss.png')"
   ]
  },
  {
   "cell_type": "code",
   "execution_count": 12,
   "metadata": {
    "execution": {
     "iopub.execute_input": "2020-04-17T18:43:02.481Z",
     "iopub.status.busy": "2020-04-17T18:43:02.474Z",
     "iopub.status.idle": "2020-04-17T18:43:02.492Z",
     "shell.execute_reply": "2020-04-17T18:43:02.499Z"
    }
   },
   "outputs": [],
   "source": [
    "torch.save(model.state_dict(), '../models/NewTry2.dct')"
   ]
  },
  {
   "cell_type": "markdown",
   "metadata": {},
   "source": [
    "## Test with completely different data"
   ]
  },
  {
   "cell_type": "code",
   "execution_count": 13,
   "metadata": {
    "execution": {
     "iopub.execute_input": "2020-04-17T18:43:23.507Z",
     "iopub.status.busy": "2020-04-17T18:43:23.499Z",
     "iopub.status.idle": "2020-04-17T18:43:23.518Z",
     "shell.execute_reply": "2020-04-17T18:43:23.525Z"
    }
   },
   "outputs": [],
   "source": [
    "from sklearn import metrics"
   ]
  },
  {
   "cell_type": "code",
   "execution_count": 14,
   "metadata": {
    "execution": {
     "iopub.execute_input": "2020-04-17T18:43:24.636Z",
     "iopub.status.busy": "2020-04-17T18:43:24.630Z",
     "iopub.status.idle": "2020-04-17T18:43:29.642Z",
     "shell.execute_reply": "2020-04-17T18:43:29.634Z"
    }
   },
   "outputs": [],
   "source": [
    "# data\n",
    "target_tree = phy.read(data_path+'tree/Other_eukaryota_2018.tre', 'newick')\n",
    "test_dataset = gd.Trees(\n",
    "    data_path+\"tree/Eukaryota/\",\n",
    "    data_path+\"alns/other_eukaryota_2018/\",\n",
    "    target_tree\n",
    ")\n",
    "# transform to feed into the model\n",
    "test_dataset.data.x = test_dataset.data.x.float()\n",
    "test_dataset.data.edge_attr = (torch.max(test_dataset.data.edge_attr)+0.001 - test_dataset.data.edge_attr).float()\n",
    "test_dataset.data.edge_index = test_dataset.data.edge_index.long()\n",
    "test_dl = DataLoader(\n",
    "    test_dataset, batch_size=test_batch, num_workers=2\n",
    ")"
   ]
  },
  {
   "cell_type": "code",
   "execution_count": 15,
   "metadata": {
    "execution": {
     "iopub.execute_input": "2020-04-17T18:48:10.054Z",
     "iopub.status.busy": "2020-04-17T18:48:10.046Z",
     "iopub.status.idle": "2020-04-17T18:48:18.966Z",
     "shell.execute_reply": "2020-04-17T18:48:19.013Z"
    }
   },
   "outputs": [
    {
     "data": {
      "text/html": [
       "<div>\n",
       "<style scoped>\n",
       "    .dataframe tbody tr th:only-of-type {\n",
       "        vertical-align: middle;\n",
       "    }\n",
       "\n",
       "    .dataframe tbody tr th {\n",
       "        vertical-align: top;\n",
       "    }\n",
       "\n",
       "    .dataframe thead th {\n",
       "        text-align: right;\n",
       "    }\n",
       "</style>\n",
       "<table border=\"1\" class=\"dataframe\">\n",
       "  <thead>\n",
       "    <tr style=\"text-align: right;\">\n",
       "      <th></th>\n",
       "      <th>actual</th>\n",
       "      <th>predicted</th>\n",
       "    </tr>\n",
       "  </thead>\n",
       "  <tbody>\n",
       "    <tr>\n",
       "      <th>count</th>\n",
       "      <td>1.340500e+05</td>\n",
       "      <td>134050.000000</td>\n",
       "    </tr>\n",
       "    <tr>\n",
       "      <th>mean</th>\n",
       "      <td>5.657991e-03</td>\n",
       "      <td>0.092838</td>\n",
       "    </tr>\n",
       "    <tr>\n",
       "      <th>std</th>\n",
       "      <td>5.977007e-02</td>\n",
       "      <td>0.171863</td>\n",
       "    </tr>\n",
       "    <tr>\n",
       "      <th>min</th>\n",
       "      <td>1.925930e-34</td>\n",
       "      <td>-0.000314</td>\n",
       "    </tr>\n",
       "    <tr>\n",
       "      <th>25%</th>\n",
       "      <td>5.960464e-08</td>\n",
       "      <td>-0.000106</td>\n",
       "    </tr>\n",
       "    <tr>\n",
       "      <th>50%</th>\n",
       "      <td>6.103516e-05</td>\n",
       "      <td>-0.000030</td>\n",
       "    </tr>\n",
       "    <tr>\n",
       "      <th>75%</th>\n",
       "      <td>9.765625e-04</td>\n",
       "      <td>0.076912</td>\n",
       "    </tr>\n",
       "    <tr>\n",
       "      <th>max</th>\n",
       "      <td>1.000000e+00</td>\n",
       "      <td>1.109409</td>\n",
       "    </tr>\n",
       "  </tbody>\n",
       "</table>\n",
       "</div>"
      ],
      "text/plain": [
       "             actual      predicted\n",
       "count  1.340500e+05  134050.000000\n",
       "mean   5.657991e-03       0.092838\n",
       "std    5.977007e-02       0.171863\n",
       "min    1.925930e-34      -0.000314\n",
       "25%    5.960464e-08      -0.000106\n",
       "50%    6.103516e-05      -0.000030\n",
       "75%    9.765625e-04       0.076912\n",
       "max    1.000000e+00       1.109409"
      ]
     },
     "execution_count": 15,
     "metadata": {},
     "output_type": "execute_result"
    }
   ],
   "source": [
    "nplist = list()\n",
    "for data in test_dl:\n",
    "    with torch.no_grad():\n",
    "        data.x, data.edge_index, data.edge_attr = data.x.float(), data.edge_index.long(), data.edge_attr.float()  # CLEAN IT!!!!!\n",
    "        out = model(data.to(torch.device('cuda')))\n",
    "        nodes = torch.stack(torch.unique(data.edge_index[0], return_counts=True))\n",
    "        internodes = nodes[0, nodes[1]!=1]\n",
    "        nplist.append(np.concatenate([data.y[internodes].cpu().numpy(), out[internodes].detach().cpu().numpy()], axis=1))\n",
    "test_results = pd.DataFrame(np.concatenate(nplist, 0), columns=['actual', 'predicted'])\n",
    "test_results.describe()"
   ]
  },
  {
   "cell_type": "code",
   "execution_count": 16,
   "metadata": {
    "execution": {
     "iopub.execute_input": "2020-04-17T18:44:47.318Z",
     "iopub.status.busy": "2020-04-17T18:44:47.311Z",
     "iopub.status.idle": "2020-04-17T18:44:47.329Z",
     "shell.execute_reply": "2020-04-17T18:44:47.336Z"
    }
   },
   "outputs": [],
   "source": [
    "test_results = pd.DataFrame(np.concatenate(nplist), columns=['actual', 'predicted'])"
   ]
  },
  {
   "cell_type": "markdown",
   "metadata": {},
   "source": [
    "# Further assessment"
   ]
  },
  {
   "cell_type": "markdown",
   "metadata": {
    "nteract": {
     "transient": {
      "deleting": false
     }
    }
   },
   "source": [
    "ROC "
   ]
  },
  {
   "cell_type": "code",
   "execution_count": 19,
   "metadata": {
    "execution": {
     "iopub.execute_input": "2020-04-17T18:48:48.680Z",
     "iopub.status.busy": "2020-04-17T18:48:48.671Z",
     "iopub.status.idle": "2020-04-17T18:48:48.691Z",
     "shell.execute_reply": "2020-04-17T18:48:48.700Z"
    }
   },
   "outputs": [
    {
     "data": {
      "image/png": "[encoded data removed]",
      "text/plain": [
       "<Figure size 576x432 with 1 Axes>"
      ]
     },
     "metadata": {
      "needs_background": "light"
     },
     "output_type": "display_data"
    }
   ],
   "source": [
    "thr = test_results[\"actual\"].median()\n",
    "fpr, tpr, thresholds_roc = metrics.roc_curve(test_results[\"actual\"]>=thr, test_results[\"predicted\"])\n",
    "\n",
    "fig = plt.figure(figsize=(8, 6))\n",
    "ax = fig.add_subplot(1, 1, 1)\n",
    "\n",
    "plt.plot(fpr, tpr)\n",
    "plt.title('AUC={:.4f}'.format(metrics.roc_auc_score(test_results[\"actual\"]>=thr, test_results[\"predicted\"])))\n",
    "plt.xlim(0, 1)\n",
    "plt.ylim(0, 1)\n",
    "ax.set_xlabel('FPR')\n",
    "ax.set_ylabel('TPR')\n",
    "plt.savefig('roc.png')"
   ]
  },
  {
   "cell_type": "code",
   "execution_count": 20,
   "metadata": {
    "execution": {
     "iopub.execute_input": "2020-04-17T11:06:59.463Z",
     "iopub.status.busy": "2020-04-17T11:06:59.453Z",
     "iopub.status.idle": "2020-04-17T11:06:59.478Z",
     "shell.execute_reply": "2020-04-17T11:06:59.500Z"
    }
   },
   "outputs": [
    {
     "data": {
      "image/png": "[encoded data removed]",
      "text/plain": [
       "<Figure size 576x432 with 1 Axes>"
      ]
     },
     "metadata": {
      "needs_background": "light"
     },
     "output_type": "display_data"
    }
   ],
   "source": [
    "prec, rec, thresholds_recprec = metrics.precision_recall_curve(test_results[\"actual\"]>=thr, test_results[\"predicted\"])\n",
    "roc_data = pd.DataFrame({\"Precision\": prec, \"Recall\": rec})\n",
    "fig = plt.figure(figsize=(8, 6))\n",
    "ax = fig.add_subplot(1, 1, 1)\n",
    "\n",
    "plt.plot(rec, prec)\n",
    "plt.xlim(0, 1)\n",
    "plt.ylim(0, 1)\n",
    "ax.set_xlabel('Recall')\n",
    "ax.set_ylabel('Precision')\n",
    "plt.savefig('recprec.png')"
   ]
  },
  {
   "cell_type": "code",
   "execution_count": 21,
   "metadata": {},
   "outputs": [],
   "source": [
    "optimal_thr = thresholds_roc[np.argmax(tpr-fpr)]"
   ]
  },
  {
   "cell_type": "code",
   "execution_count": 22,
   "metadata": {},
   "outputs": [
    {
     "data": {
      "text/plain": [
       "-5.328967e-05"
      ]
     },
     "execution_count": 22,
     "metadata": {},
     "output_type": "execute_result"
    }
   ],
   "source": [
    "optimal_thr"
   ]
  },
  {
   "cell_type": "code",
   "execution_count": 25,
   "metadata": {
    "execution": {
     "iopub.execute_input": "2020-04-16T10:19:48.118Z",
     "iopub.status.busy": "2020-04-16T10:19:48.109Z",
     "iopub.status.idle": "2020-04-16T10:19:48.220Z",
     "shell.execute_reply": "2020-04-16T10:19:48.242Z"
    },
    "pycharm": {
     "name": "#%%\n"
    }
   },
   "outputs": [
    {
     "data": {
      "text/plain": [
       "array([[42398, 14883],\n",
       "       [14231, 62538]])"
      ]
     },
     "execution_count": 25,
     "metadata": {},
     "output_type": "execute_result"
    }
   ],
   "source": [
    "metrics.confusion_matrix(test_results[\"actual\"]>=thr, test_results[\"predicted\"]>=optimal_thr)"
   ]
  },
  {
   "cell_type": "code",
   "execution_count": 26,
   "metadata": {},
   "outputs": [
    {
     "data": {
      "text/plain": [
       "0.2598243745744662"
      ]
     },
     "execution_count": 26,
     "metadata": {},
     "output_type": "execute_result"
    }
   ],
   "source": [
    "fpr[np.argmax(tpr-fpr)]"
   ]
  },
  {
   "cell_type": "code",
   "execution_count": 27,
   "metadata": {},
   "outputs": [
    {
     "data": {
      "text/plain": [
       "0.8146256952676211"
      ]
     },
     "execution_count": 27,
     "metadata": {},
     "output_type": "execute_result"
    }
   ],
   "source": [
    "tpr[np.argmax(tpr-fpr)]"
   ]
  },
  {
   "cell_type": "code",
   "execution_count": null,
   "outputs": [],
   "source": [
    "np.quantile(.data.y[], 0.5)"
   ],
   "metadata": {
    "collapsed": false,
    "pycharm": {
     "name": "#%%\n"
    }
   }
  },
  {
   "cell_type": "code",
   "execution_count": null,
   "outputs": [],
   "source": [
    "for d in archaea_data:\n",
    "    nodes = torch.stack(torch.unique(d.edge_index[0], return_counts=True))\n",
    "    internodes = nodes[0, nodes[1]!=1]\n",
    "    d.y[internodes]"
   ],
   "metadata": {
    "collapsed": false,
    "pycharm": {
     "name": "#%%\n"
    }
   }
  },
  {
   "cell_type": "code",
   "execution_count": null,
   "outputs": [],
   "source": [
    "med"
   ],
   "metadata": {
    "collapsed": false,
    "pycharm": {
     "name": "#%%\n"
    }
   }
  },
  {
   "cell_type": "code",
   "execution_count": null,
   "outputs": [],
   "source": [
    "internodes"
   ],
   "metadata": {
    "collapsed": false,
    "pycharm": {
     "name": "#%%\n"
    }
   }
  },
  {
   "cell_type": "code",
   "execution_count": null,
   "outputs": [],
   "source": [
    "np.quantile(d.y.squeeze(), [0.25, 0.5, 0.75])"
   ],
   "metadata": {
    "collapsed": false,
    "pycharm": {
     "name": "#%%\n"
    }
   }
  },
  {
   "cell_type": "code",
   "execution_count": null,
   "outputs": [],
   "source": [
    "torch.mean(archaea_data.data.y.float())"
   ],
   "metadata": {
    "collapsed": false,
    "pycharm": {
     "name": "#%%\n"
    }
   }
  },
  {
   "cell_type": "code",
   "execution_count": null,
   "outputs": [],
   "source": [],
   "metadata": {
    "collapsed": false,
    "pycharm": {
     "name": "#%%\n"
    }
   }
  },
  {
   "cell_type": "code",
   "execution_count": 47,
   "metadata": {},
   "outputs": [
    {
     "data": {
      "text/plain": [
       "1.0"
      ]
     },
     "execution_count": 47,
     "metadata": {},
     "output_type": "execute_result"
    }
   ],
   "source": []
  },
  {
   "cell_type": "code",
   "execution_count": 60,
   "metadata": {},
   "outputs": [],
   "source": [
    "for d in archaea_data:\n",
    "    nodes = torch.stack(torch.unique(d.edge_index[0], return_counts=True))\n",
    "    internodes = nodes[0, nodes[1]!=1]\n",
    "    d.y[internodes]"
   ]
  },
  {
   "cell_type": "code",
   "execution_count": 88,
   "metadata": {},
   "outputs": [
    {
     "data": {
      "text/plain": [
       "1.734723475976807e-18"
      ]
     },
     "execution_count": 88,
     "metadata": {},
     "output_type": "execute_result"
    }
   ],
   "source": [
    "med"
   ]
  },
  {
   "cell_type": "code",
   "execution_count": 51,
   "metadata": {},
   "outputs": [
    {
     "data": {
      "text/plain": [
       "tensor([ 0,  1,  4,  5,  7,  8,  9, 10, 11, 12, 13, 19, 22, 23, 27, 30, 31, 33,\n",
       "        34, 36, 37, 38, 39, 40, 41, 42, 43, 44, 45, 46, 47, 51, 54, 57, 61, 63,\n",
       "        70, 72, 76, 77, 78, 79, 83])"
      ]
     },
     "execution_count": 51,
     "metadata": {},
     "output_type": "execute_result"
    }
   ],
   "source": [
    "internodes"
   ]
  },
  {
   "cell_type": "code",
   "execution_count": 56,
   "metadata": {},
   "outputs": [
    {
     "data": {
      "text/plain": [
       "array([1.73472348e-18, 1.00000000e+00, 1.00000000e+00])"
      ]
     },
     "execution_count": 56,
     "metadata": {},
     "output_type": "execute_result"
    }
   ],
   "source": [
    "np.quantile(d.y.squeeze(), [0.25, 0.5, 0.75])"
   ]
  },
  {
   "cell_type": "code",
   "execution_count": 87,
   "metadata": {},
   "outputs": [
    {
     "data": {
      "text/plain": [
       "tensor(0.6796)"
      ]
     },
     "execution_count": 87,
     "metadata": {},
     "output_type": "execute_result"
    }
   ],
   "source": [
    "torch.mean(archaea_data.data.y.float())"
   ]
  },
  {
   "cell_type": "code",
   "execution_count": null,
   "metadata": {},
   "outputs": [],
   "source": []
  }
 ],
 "metadata": {
  "kernelspec": {
   "display_name": "Python 3",
   "language": "python",
   "name": "python3"
  },
  "language_info": {
   "codemirror_mode": {
    "name": "ipython",
    "version": 3
   },
   "file_extension": ".py",
   "mimetype": "text/x-python",
   "name": "python",
   "nbconvert_exporter": "python",
   "pygments_lexer": "ipython3",
   "version": "3.8.1"
  },
  "nteract": {
   "version": "0.22.4"
  }
 },
 "nbformat": 4,
 "nbformat_minor": 4
}