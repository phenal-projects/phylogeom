{
 "cells": [
  {
   "cell_type": "code",
   "execution_count": 1,
   "metadata": {
    "execution": {
     "iopub.execute_input": "2020-04-18T08:39:37.174Z",
     "iopub.status.busy": "2020-04-18T08:39:37.168Z",
     "iopub.status.idle": "2020-04-18T08:39:37.190Z",
     "shell.execute_reply": "2020-04-18T08:39:37.197Z"
    }
   },
   "outputs": [
    {
     "data": {
      "text/plain": [
       "<torch._C.Generator at 0x7f7081646e90>"
      ]
     },
     "execution_count": 1,
     "metadata": {},
     "output_type": "execute_result"
    }
   ],
   "source": [
    "import sys\n",
    "sys.path.append('../src/') # for graph_data\n",
    "\n",
    "import graph_data as gd\n",
    "import time\n",
    "import torch\n",
    "from models import TreeSupport\n",
    "from torch import optim\n",
    "from torch.nn import BCELoss\n",
    "from torch.utils.data import random_split, ConcatDataset\n",
    "from torch_geometric.data import DataLoader\n",
    "from Bio import Phylo as phy\n",
    "\n",
    "import pandas as pd\n",
    "import numpy as np\n",
    "import matplotlib.pyplot as plt\n",
    "\n",
    "plt.rc('font', family='serif')\n",
    "plt.rc('xtick', labelsize=10)\n",
    "plt.rc('ytick', labelsize=10)\n",
    "plt.rc('text', usetex=True)\n",
    "\n",
    "torch.manual_seed(245)"
   ]
  },
  {
   "cell_type": "markdown",
   "metadata": {
    "execution": {
     "iopub.execute_input": "2020-04-18T08:39:21.561Z",
     "iopub.status.busy": "2020-04-18T08:39:21.555Z",
     "iopub.status.idle": "2020-04-18T08:39:21.573Z",
     "shell.execute_reply": "2020-04-18T08:39:21.579Z"
    }
   },
   "source": [
    "# Datasets\n",
    "## Prepare trees and reconstructed sequences"
   ]
  },
  {
   "cell_type": "code",
   "execution_count": 2,
   "metadata": {
    "execution": {
     "iopub.execute_input": "2020-04-18T08:19:03.493Z",
     "iopub.status.busy": "2020-04-18T08:19:03.486Z",
     "iopub.status.idle": "2020-04-18T08:19:03.885Z",
     "shell.execute_reply": "2020-04-18T08:19:03.923Z"
    },
    "scrolled": true
   },
   "outputs": [],
   "source": [
    "data_path = '../data/'"
   ]
  },
  {
   "cell_type": "code",
   "execution_count": 3,
   "metadata": {
    "execution": {
     "iopub.execute_input": "2020-04-18T08:19:03.903Z",
     "iopub.status.busy": "2020-04-18T08:19:03.896Z",
     "iopub.status.idle": "2020-04-18T08:19:04.020Z",
     "shell.execute_reply": "2020-04-18T08:19:04.056Z"
    }
   },
   "outputs": [],
   "source": [
    "target_tree = phy.read(data_path+'tree/Fungi45_infer/Fungi.tre', 'newick')\n",
    "#fungi_data = gd.Trees.load_ready_trees(data_path+'tree/Fungi45_infer/fml_output/', data_path+'tree/Fungi45_infer/fml_output/*.tre', target_tree)  # INITIALIZE NEW DS\n",
    "fungi_data = gd.Trees(data_path+'tree/Fungi45_infer/', data_path+'alns/Fungi45/', target_tree)\n",
    "\n",
    "# get binned values\n",
    "l = list()\n",
    "for d in fungi_data:\n",
    "    nodes = torch.stack(torch.unique(d.edge_index[0], return_counts=True))\n",
    "    internodes = nodes[0, nodes[1]!=1]\n",
    "    l += d.y[internodes].squeeze().tolist()\n",
    "med = np.median(l)\n",
    "fungi_data.data.y = (fungi_data.data.y > med).float()\n",
    "fungi_data.data.x = fungi_data.data.x.float()\n",
    "fungi_data.data.edge_attr = (torch.max(fungi_data.data.edge_attr)+0.001 - fungi_data.data.edge_attr).float()\n",
    "fungi_data.data.edge_index = fungi_data.data.edge_index.long()"
   ]
  },
  {
   "cell_type": "code",
   "execution_count": 4,
   "metadata": {
    "execution": {
     "iopub.execute_input": "2020-04-18T08:19:04.038Z",
     "iopub.status.busy": "2020-04-18T08:19:04.032Z",
     "iopub.status.idle": "2020-04-18T08:19:04.049Z",
     "shell.execute_reply": "2020-04-18T08:19:04.060Z"
    }
   },
   "outputs": [],
   "source": [
    "target_tree = phy.read(data_path+'tree/Archaea/Archaea.tre', 'newick')\n",
    "#archaea_data = gd.Trees.load_ready_trees(data_path+'tree/Archaea/fml_output/', data_path+'tree/Archaea/fml_output/*.tre', target_tree)  # INITIALIZE NEW DS //delete temp_tree\n",
    "archaea_data = gd.Trees(data_path+\"tree/Archaea/\", data_path+\"alns/Archaea/\", target_tree)\n",
    "\n",
    "# get binned values\n",
    "l = list()\n",
    "for d in archaea_data:\n",
    "    nodes = torch.stack(torch.unique(d.edge_index[0], return_counts=True))\n",
    "    internodes = nodes[0, nodes[1]!=1]\n",
    "    l += d.y[internodes].squeeze().tolist()\n",
    "med = np.median(l)\n",
    "archaea_data.data.y = (archaea_data.data.y > med).float()\n",
    "archaea_data.data.x = archaea_data.data.x.float()\n",
    "archaea_data.data.edge_attr = (torch.max(archaea_data.data.edge_attr)+0.001 - archaea_data.data.edge_attr).float()\n",
    "archaea_data.data.edge_index = archaea_data.data.edge_index.long()"
   ]
  },
  {
   "cell_type": "code",
   "execution_count": 5,
   "metadata": {
    "execution": {
     "iopub.execute_input": "2020-04-18T08:19:04.138Z",
     "iopub.status.busy": "2020-04-18T08:19:04.130Z",
     "iopub.status.idle": "2020-04-18T08:19:04.150Z",
     "shell.execute_reply": "2020-04-18T08:19:04.156Z"
    }
   },
   "outputs": [],
   "source": [
    "# concatenate datasets\n",
    "all_data =  ConcatDataset([fungi_data, archaea_data])"
   ]
  },
  {
   "cell_type": "code",
   "execution_count": 6,
   "metadata": {
    "collapsed": false,
    "execution": {
     "iopub.execute_input": "2020-04-18T08:39:42.507Z",
     "iopub.status.busy": "2020-04-18T08:39:42.499Z",
     "iopub.status.idle": "2020-04-18T08:39:42.906Z",
     "shell.execute_reply": "2020-04-18T08:39:42.950Z"
    },
    "jupyter": {
     "outputs_hidden": false,
     "source_hidden": false
    },
    "nteract": {
     "transient": {
      "deleting": false
     }
    }
   },
   "outputs": [],
   "source": [
    "# data preparation\n",
    "train_batch = 50\n",
    "test_batch = 50\n",
    "# data loaders\n",
    "train, test = random_split(\n",
    "    all_data, [round(len(all_data) * 0.8), round(len(all_data) * 0.2)]\n",
    ")"
   ]
  },
  {
   "cell_type": "code",
   "execution_count": 7,
   "metadata": {
    "execution": {
     "iopub.execute_input": "2020-04-18T08:40:07.850Z",
     "iopub.status.busy": "2020-04-18T08:40:07.842Z",
     "iopub.status.idle": "2020-04-18T08:40:08.918Z",
     "shell.execute_reply": "2020-04-18T08:40:08.961Z"
    },
    "nteract": {
     "transient": {
      "deleting": false
     }
    },
    "outputExpanded": false
   },
   "outputs": [
    {
     "data": {
      "image/png": "[encoded data removed]",
      "text/plain": [
       "<Figure size 576x432 with 1 Axes>"
      ]
     },
     "metadata": {
      "needs_background": "light"
     },
     "output_type": "display_data"
    }
   ],
   "source": [
    "lst = list()\n",
    "for i, data in enumerate(train):\n",
    "    nodes = torch.stack(torch.unique(data.edge_index[0], return_counts=True))\n",
    "    internodes = nodes[0, nodes[1]!=1]\n",
    "    lst += data.y[internodes].squeeze().tolist()\n",
    "\n",
    "fig = plt.figure(figsize=(8, 6))\n",
    "ax = fig.add_subplot(1, 1, 1)\n",
    "plt.hist(lst, bins=20)\n",
    "ax.set_xlabel('Quality of the nodes')\n",
    "ax.set_ylabel('Count')\n",
    "plt.savefig('quality.png')"
   ]
  },
  {
   "cell_type": "code",
   "execution_count": 8,
   "metadata": {
    "execution": {
     "iopub.execute_input": "2020-04-17T18:50:50.798Z",
     "iopub.status.busy": "2020-04-17T18:50:50.789Z",
     "iopub.status.idle": "2020-04-17T18:50:50.806Z",
     "shell.execute_reply": "2020-04-17T18:50:50.814Z"
    }
   },
   "outputs": [],
   "source": [
    "train_dl = DataLoader(\n",
    "    train, batch_size=train_batch, pin_memory=True, num_workers=3\n",
    ")\n",
    "test_dl = DataLoader(\n",
    "    test, batch_size=test_batch, num_workers=2\n",
    ")"
   ]
  },
  {
   "cell_type": "code",
   "execution_count": 9,
   "metadata": {
    "execution": {
     "iopub.execute_input": "2020-04-17T18:50:54.372Z",
     "iopub.status.busy": "2020-04-17T18:50:54.364Z",
     "iopub.status.idle": "2020-04-17T18:50:55.930Z",
     "shell.execute_reply": "2020-04-17T18:50:55.916Z"
    }
   },
   "outputs": [],
   "source": [
    "model = TreeSupport(231, 400)\n",
    "model = model.cuda()\n",
    "silent = False\n",
    "num_epochs = 400\n",
    "loss_fn = BCELoss()\n",
    "test_batches = len(test_dl)\n",
    "# stattr\n",
    "losses = []\n",
    "val_losses = []\n",
    "learning_rates = []"
   ]
  },
  {
   "cell_type": "code",
   "execution_count": null,
   "metadata": {
    "execution": {
     "iopub.execute_input": "2020-04-17T18:50:55.946Z",
     "iopub.status.busy": "2020-04-17T18:50:55.940Z",
     "iopub.status.idle": "2020-04-17T18:50:35.582Z",
     "shell.execute_reply": "2020-04-17T18:50:35.611Z"
    }
   },
   "outputs": [],
   "source": [
    "# interactive descending lr for less loss\n",
    "optimizer = optim.SGD(model.parameters(), lr=0.005, momentum=0.9)\n",
    "scheduler = optim.lr_scheduler.ReduceLROnPlateau(\n",
    "    optimizer, factor=0.5, verbose=True, cooldown=2, patience=5\n",
    ")\n",
    "start = time.time()\n",
    "for epoch in range(num_epochs):\n",
    "    model.train()\n",
    "    for data in train_dl:\n",
    "        data = data.to(torch.device('cuda'))\n",
    "        optimizer.zero_grad()\n",
    "        nodes = torch.stack(torch.unique(data.edge_index[0], return_counts=True))\n",
    "        internodes = nodes[0, nodes[1]!=1]\n",
    "        out = model(data)\n",
    "        loss = loss_fn(out[internodes], data.y[internodes])\n",
    "        losses.append(loss.item())  # history\n",
    "        # optimize\n",
    "        loss.backward()\n",
    "        optimizer.step()\n",
    "\n",
    "        # stats\n",
    "        learning_rates.append(-1)\n",
    "\n",
    "    # evaluation\n",
    "    model.eval()\n",
    "    agg_loss = 0\n",
    "    with torch.autograd.no_grad():\n",
    "        for data in test_dl:\n",
    "            data = data.to(torch.device('cuda'))\n",
    "            out = model(data)\n",
    "            agg_loss += loss_fn(out, data.y)\n",
    "        val_losses.append(agg_loss.item()/test_batches)\n",
    "    scheduler.step(agg_loss)\n",
    "    if not silent:\n",
    "        print(\n",
    "            \"Epoch [{}/{}], Loss (last training batch/val): {:.4f}/{:.4f}. Time elapsed: {:.2f}\".format(\n",
    "                epoch + 1,\n",
    "                num_epochs,\n",
    "                losses[-1],\n",
    "                val_losses[-1],\n",
    "                time.time() - start,\n",
    "            )\n",
    "        )"
   ]
  },
  {
   "cell_type": "markdown",
   "metadata": {},
   "source": [
    "# Learning stats"
   ]
  },
  {
   "cell_type": "code",
   "execution_count": null,
   "metadata": {
    "execution": {
     "iopub.execute_input": "2020-04-17T18:42:34.339Z",
     "iopub.status.busy": "2020-04-17T18:42:34.333Z",
     "iopub.status.idle": "2020-04-17T18:42:34.354Z",
     "shell.execute_reply": "2020-04-17T18:42:34.375Z"
    }
   },
   "outputs": [],
   "source": [
    "fig = plt.figure(figsize=(8, 6))\n",
    "ax = fig.add_subplot(1, 1, 1)\n",
    "\n",
    "plt.plot(\n",
    "    range(1, len(val_losses)+1), \n",
    "    list(map(\n",
    "        lambda i: np.mean(losses[i:i+len(train_dl)]),\n",
    "        range(0, len(losses)-len(train_dl)+1, len(train_dl))\n",
    "    ))\n",
    ")\n",
    "plt.plot(range(1, len(val_losses)+1), val_losses)\n",
    "ax.set_xlabel('Epoch')\n",
    "ax.set_ylabel('Loss')\n",
    "plt.savefig('loss.png')"
   ]
  },
  {
   "cell_type": "code",
   "execution_count": null,
   "metadata": {
    "execution": {
     "iopub.execute_input": "2020-04-17T18:43:02.481Z",
     "iopub.status.busy": "2020-04-17T18:43:02.474Z",
     "iopub.status.idle": "2020-04-17T18:43:02.492Z",
     "shell.execute_reply": "2020-04-17T18:43:02.499Z"
    }
   },
   "outputs": [],
   "source": [
    "torch.save(model.state_dict(), '../models/NewTry_NF.dct')"
   ]
  },
  {
   "cell_type": "code",
   "execution_count": 10,
   "metadata": {},
   "outputs": [
    {
     "data": {
      "text/plain": [
       "<All keys matched successfully>"
      ]
     },
     "execution_count": 10,
     "metadata": {},
     "output_type": "execute_result"
    }
   ],
   "source": [
    "model.load_state_dict(torch.load('../models/NewTry_NF.dct'))"
   ]
  },
  {
   "cell_type": "markdown",
   "metadata": {},
   "source": [
    "## Test with completely different data"
   ]
  },
  {
   "cell_type": "code",
   "execution_count": 11,
   "metadata": {
    "execution": {
     "iopub.execute_input": "2020-04-17T18:43:23.507Z",
     "iopub.status.busy": "2020-04-17T18:43:23.499Z",
     "iopub.status.idle": "2020-04-17T18:43:23.518Z",
     "shell.execute_reply": "2020-04-17T18:43:23.525Z"
    }
   },
   "outputs": [],
   "source": [
    "from sklearn import metrics"
   ]
  },
  {
   "cell_type": "markdown",
   "metadata": {},
   "source": [
    "## Eukaryota"
   ]
  },
  {
   "cell_type": "code",
   "execution_count": 12,
   "metadata": {},
   "outputs": [],
   "source": [
    "# data\n",
    "target_tree = phy.read(data_path+'tree/Other_eukaryota_2018.tre', 'newick')\n",
    "test_dataset = gd.Trees(\n",
    "    data_path+\"tree/Eukaryota/\",\n",
    "    data_path+\"alns/other_eukaryota_2018/\",\n",
    "    target_tree\n",
    ")\n",
    "# transform to feed into the model\n",
    "l = list()\n",
    "for d in test_dataset:\n",
    "    nodes = torch.stack(torch.unique(d.edge_index[0], return_counts=True))\n",
    "    internodes = nodes[0, nodes[1]!=1]\n",
    "    l += d.y[internodes].squeeze().tolist()\n",
    "med = np.median(l)\n",
    "test_dataset.data.y = (test_dataset.data.y > med).float()\n",
    "test_dataset.data.x = test_dataset.data.x.float()\n",
    "test_dataset.data.edge_attr = (torch.max(test_dataset.data.edge_attr)+0.001 - test_dataset.data.edge_attr).float()\n",
    "test_dataset.data.edge_index = test_dataset.data.edge_index.long()\n",
    "test_dl = DataLoader(\n",
    "    test_dataset, batch_size=50, num_workers=2\n",
    ")"
   ]
  },
  {
   "cell_type": "code",
   "execution_count": 13,
   "metadata": {},
   "outputs": [
    {
     "name": "stderr",
     "output_type": "stream",
     "text": [
      "/hspart/tools/miniconda3/envs/geom/lib/python3.8/site-packages/torch/nn/functional.py:1351: UserWarning: nn.functional.sigmoid is deprecated. Use torch.sigmoid instead.\n",
      "  warnings.warn(\"nn.functional.sigmoid is deprecated. Use torch.sigmoid instead.\")\n"
     ]
    },
    {
     "data": {
      "text/html": [
       "<div>\n",
       "<style scoped>\n",
       "    .dataframe tbody tr th:only-of-type {\n",
       "        vertical-align: middle;\n",
       "    }\n",
       "\n",
       "    .dataframe tbody tr th {\n",
       "        vertical-align: top;\n",
       "    }\n",
       "\n",
       "    .dataframe thead th {\n",
       "        text-align: right;\n",
       "    }\n",
       "</style>\n",
       "<table border=\"1\" class=\"dataframe\">\n",
       "  <thead>\n",
       "    <tr style=\"text-align: right;\">\n",
       "      <th></th>\n",
       "      <th>actual</th>\n",
       "      <th>predicted</th>\n",
       "    </tr>\n",
       "  </thead>\n",
       "  <tbody>\n",
       "    <tr>\n",
       "      <th>count</th>\n",
       "      <td>131692.000000</td>\n",
       "      <td>131692.000000</td>\n",
       "    </tr>\n",
       "    <tr>\n",
       "      <th>mean</th>\n",
       "      <td>0.427740</td>\n",
       "      <td>0.318568</td>\n",
       "    </tr>\n",
       "    <tr>\n",
       "      <th>std</th>\n",
       "      <td>0.494753</td>\n",
       "      <td>0.280185</td>\n",
       "    </tr>\n",
       "    <tr>\n",
       "      <th>min</th>\n",
       "      <td>0.000000</td>\n",
       "      <td>0.002680</td>\n",
       "    </tr>\n",
       "    <tr>\n",
       "      <th>25%</th>\n",
       "      <td>0.000000</td>\n",
       "      <td>0.084807</td>\n",
       "    </tr>\n",
       "    <tr>\n",
       "      <th>50%</th>\n",
       "      <td>0.000000</td>\n",
       "      <td>0.301507</td>\n",
       "    </tr>\n",
       "    <tr>\n",
       "      <th>75%</th>\n",
       "      <td>1.000000</td>\n",
       "      <td>0.400087</td>\n",
       "    </tr>\n",
       "    <tr>\n",
       "      <th>max</th>\n",
       "      <td>1.000000</td>\n",
       "      <td>0.999739</td>\n",
       "    </tr>\n",
       "  </tbody>\n",
       "</table>\n",
       "</div>"
      ],
      "text/plain": [
       "              actual      predicted\n",
       "count  131692.000000  131692.000000\n",
       "mean        0.427740       0.318568\n",
       "std         0.494753       0.280185\n",
       "min         0.000000       0.002680\n",
       "25%         0.000000       0.084807\n",
       "50%         0.000000       0.301507\n",
       "75%         1.000000       0.400087\n",
       "max         1.000000       0.999739"
      ]
     },
     "execution_count": 13,
     "metadata": {},
     "output_type": "execute_result"
    }
   ],
   "source": [
    "model.eval()\n",
    "nplist = list()\n",
    "for data in test_dl:\n",
    "    with torch.no_grad():\n",
    "        data.x, data.edge_index, data.edge_attr = data.x.float(), data.edge_index.long(), data.edge_attr.float()  # CLEAN IT!!!!!\n",
    "        out = model(data.to(torch.device('cuda')))\n",
    "        nodes = torch.stack(torch.unique(data.edge_index[0], return_counts=True))\n",
    "        internodes = nodes[0, nodes[1]!=1]\n",
    "        \n",
    "        nplist.append(np.concatenate([data.y[internodes].cpu().numpy(), out[internodes].detach().cpu().numpy()], axis=1))\n",
    "test_results = pd.DataFrame(np.concatenate(nplist, 0), columns=['actual', 'predicted'])\n",
    "test_results.describe()"
   ]
  },
  {
   "cell_type": "code",
   "execution_count": 14,
   "metadata": {},
   "outputs": [],
   "source": [
    "test_results = pd.DataFrame(np.concatenate(nplist), columns=['actual', 'predicted'])"
   ]
  },
  {
   "cell_type": "code",
   "execution_count": 15,
   "metadata": {},
   "outputs": [
    {
     "data": {
      "image/png": "[encoded data removed]",
      "text/plain": [
       "<Figure size 576x432 with 1 Axes>"
      ]
     },
     "metadata": {
      "needs_background": "light"
     },
     "output_type": "display_data"
    }
   ],
   "source": [
    "fpr, tpr, thresholds_roc = metrics.roc_curve(test_results[\"actual\"], test_results[\"predicted\"])\n",
    "\n",
    "fig = plt.figure(figsize=(8, 6))\n",
    "ax = fig.add_subplot(1, 1, 1)\n",
    "\n",
    "plt.plot(fpr, tpr)\n",
    "plt.title('AUC={:.4f}'.format(metrics.roc_auc_score(test_results[\"actual\"], test_results[\"predicted\"])))\n",
    "plt.xlim(0, 1)\n",
    "plt.ylim(0, 1)\n",
    "ax.set_xlabel('FPR')\n",
    "ax.set_ylabel('TPR')\n",
    "plt.savefig('roc_eukaryota.png')"
   ]
  },
  {
   "cell_type": "code",
   "execution_count": 16,
   "metadata": {},
   "outputs": [
    {
     "data": {
      "image/png": "[encoded data removed]",
      "text/plain": [
       "<Figure size 576x432 with 1 Axes>"
      ]
     },
     "metadata": {
      "needs_background": "light"
     },
     "output_type": "display_data"
    }
   ],
   "source": [
    "prec, rec, thresholds_recprec = metrics.precision_recall_curve(test_results[\"actual\"], test_results[\"predicted\"])\n",
    "roc_data = pd.DataFrame({\"Precision\": prec, \"Recall\": rec})\n",
    "fig = plt.figure(figsize=(8, 6))\n",
    "ax = fig.add_subplot(1, 1, 1)\n",
    "\n",
    "plt.plot(rec, prec)\n",
    "plt.xlim(0, 1)\n",
    "plt.ylim(0, 1)\n",
    "ax.set_xlabel('Recall')\n",
    "ax.set_ylabel('Precision')\n",
    "plt.savefig('recprec_eukaryota.png')"
   ]
  },
  {
   "cell_type": "code",
   "execution_count": 25,
   "metadata": {},
   "outputs": [
    {
     "data": {
      "text/plain": [
       "0.28154972"
      ]
     },
     "execution_count": 25,
     "metadata": {},
     "output_type": "execute_result"
    }
   ],
   "source": [
    "optimal_thr = thresholds_roc[np.argmax(tpr-fpr)]\n",
    "optimal_thr"
   ]
  },
  {
   "cell_type": "code",
   "execution_count": 26,
   "metadata": {},
   "outputs": [
    {
     "data": {
      "text/plain": [
       "array([[56181, 19181],\n",
       "       [  984, 55346]])"
      ]
     },
     "execution_count": 26,
     "metadata": {},
     "output_type": "execute_result"
    }
   ],
   "source": [
    "metrics.confusion_matrix(test_results[\"actual\"], test_results[\"predicted\"]>=optimal_thr)"
   ]
  },
  {
   "cell_type": "code",
   "execution_count": 27,
   "metadata": {},
   "outputs": [
    {
     "data": {
      "text/plain": [
       "0.8468775627980439"
      ]
     },
     "execution_count": 27,
     "metadata": {},
     "output_type": "execute_result"
    }
   ],
   "source": [
    "metrics.accuracy_score(test_results[\"actual\"], test_results[\"predicted\"]>=optimal_thr)"
   ]
  },
  {
   "cell_type": "code",
   "execution_count": 28,
   "metadata": {},
   "outputs": [
    {
     "data": {
      "text/plain": [
       "0.8459004867909244"
      ]
     },
     "execution_count": 28,
     "metadata": {},
     "output_type": "execute_result"
    }
   ],
   "source": [
    "metrics.f1_score(test_results[\"actual\"], test_results[\"predicted\"]>=optimal_thr)"
   ]
  },
  {
   "cell_type": "markdown",
   "metadata": {},
   "source": [
    "### Whole tree quality correlations. Eukaryota"
   ]
  },
  {
   "cell_type": "markdown",
   "metadata": {
    "pycharm": {
     "name": "#%% md\n"
    }
   },
   "source": [
    "## calculate RF distances\n",
    "import dendropy\n",
    "import glob\n",
    "\n",
    "# model to cpu\n",
    "model = model.cpu()\n",
    "\n",
    "target_tree = dendropy.Tree.get(path=data_path+'tree/Other_eukaryota_2018.tre', schema='newick')\n",
    "tree_files = glob.glob(data_path+\"tree/Eukaryota/*.tre\")\n",
    "trees = dendropy.Tree.yield_from_files(tree_files, schema='newick', taxon_namespace=target_tree.taxon_namespace)"
   ]
  },
  {
   "cell_type": "code",
   "execution_count": 30,
   "metadata": {
    "pycharm": {
     "name": "#%%\n"
    }
   },
   "outputs": [],
   "source": [
    "rf_distances = {file:dendropy.calculate.treecompare.symmetric_difference(target_tree, tree) for file, tree in zip(tree_files, trees)}"
   ]
  },
  {
   "cell_type": "code",
   "execution_count": 31,
   "metadata": {},
   "outputs": [],
   "source": [
    "rf_distances = pd.DataFrame({'distance': rf_distances})"
   ]
  },
  {
   "cell_type": "code",
   "execution_count": 32,
   "metadata": {},
   "outputs": [
    {
     "name": "stderr",
     "output_type": "stream",
     "text": [
      "/hspart/tools/miniconda3/envs/geom/lib/python3.8/site-packages/torch/nn/functional.py:1351: UserWarning: nn.functional.sigmoid is deprecated. Use torch.sigmoid instead.\n",
      "  warnings.warn(\"nn.functional.sigmoid is deprecated. Use torch.sigmoid instead.\")\n"
     ]
    }
   ],
   "source": [
    "with torch.no_grad():\n",
    "    predicted = {tree.filename[0]: torch.sum(model(tree)).item() for tree in test_dataset}\n",
    "predicted = pd.DataFrame({'predicted_inc_nodes': predicted})"
   ]
  },
  {
   "cell_type": "code",
   "execution_count": 33,
   "metadata": {},
   "outputs": [],
   "source": [
    "data = pd.merge(\n",
    "    rf_distances, predicted,\n",
    "    how='inner', left_index=True,\n",
    "    right_index=True)"
   ]
  },
  {
   "cell_type": "code",
   "execution_count": 34,
   "metadata": {},
   "outputs": [
    {
     "data": {
      "image/png": "[encoded data removed]",
      "text/plain": [
       "<Figure size 576x432 with 1 Axes>"
      ]
     },
     "metadata": {
      "needs_background": "light"
     },
     "output_type": "display_data"
    }
   ],
   "source": [
    "fig = plt.figure(figsize=(8, 6))\n",
    "ax = fig.add_subplot(1, 1, 1)\n",
    "\n",
    "plt.scatter(data['distance'], data['predicted_inc_nodes'])\n",
    "ax.set_xlabel('Actual RF distance')\n",
    "ax.set_ylabel('Predicted quality')\n",
    "plt.savefig('Eukaryota_corr.png')"
   ]
  },
  {
   "cell_type": "code",
   "execution_count": 35,
   "metadata": {},
   "outputs": [],
   "source": [
    "from scipy.stats import spearmanr"
   ]
  },
  {
   "cell_type": "code",
   "execution_count": 36,
   "metadata": {},
   "outputs": [
    {
     "data": {
      "text/plain": [
       "SpearmanrResult(correlation=0.10710300427677212, pvalue=4.1598851509328995e-07)"
      ]
     },
     "execution_count": 36,
     "metadata": {},
     "output_type": "execute_result"
    }
   ],
   "source": [
    "spearmanr(data['distance'], data['predicted_inc_nodes'])"
   ]
  },
  {
   "cell_type": "markdown",
   "metadata": {
    "pycharm": {
     "name": "#%% md\n"
    }
   },
   "source": [
    "# Example of a prediction"
   ]
  },
  {
   "cell_type": "code",
   "execution_count": 39,
   "metadata": {},
   "outputs": [
    {
     "name": "stderr",
     "output_type": "stream",
     "text": [
      "/hspart/tools/miniconda3/envs/geom/lib/python3.8/site-packages/torch/nn/functional.py:1351: UserWarning: nn.functional.sigmoid is deprecated. Use torch.sigmoid instead.\n",
      "  warnings.warn(\"nn.functional.sigmoid is deprecated. Use torch.sigmoid instead.\")\n"
     ]
    },
    {
     "name": "stdout",
     "output_type": "stream",
     "text": [
      "                                                                                                                                                                                                                                       /-------------------------------- CHLVA\n",
      "                /----------------------------------------------------------------------------------------------------------------------------------------------------------------------------------------------------------------------+                                      \n",
      "                |                                                                                                                                                                                                                      |               /---------------- AUXPR\n",
      "                |                                                                                                                                                                                                                      \\---------------+                      \n",
      "                |                                                                                                                                                                                                                                      \\---------------- COCSC\n",
      "                |                                                                                                                                                                                                                                                             \n",
      "                |                                                                                                                                                                                     /----------------------------------------------------------------- THETB\n",
      "                |                                                                                                                                                                                     |                                                                       \n",
      "                |                                                                                                                                                                    /----------------+                                /-------------------------------- ECTSI\n",
      "                |                                                                                                                                                                    |                |               /----------------+                                      \n",
      "                |                                                                                                                                                                    |                |               |                |               /---------------- VITBC\n",
      "                |                                                                                                                                                                    |                \\---------------+                \\---------------+                      \n",
      "                |                                                                 /--------------------------------------------------------------------------------------------------+                                |                                \\---------------- EMIHU\n",
      "                |                                                                 |                                                                                                  |                                |                                                       \n",
      "                |                                                                 |                                                                                                  |                                \\------------------------------------------------- ACACA\n",
      "                |                                                                 |                                                                                                  |                                                                                        \n",
      "                |                                                                 |                                                                                                  \\---------------------------------------------------------------------------------- GUITH\n",
      "                |                                                 /---------------+                                                                                                                                                                                           \n",
      "                |                                                 |               |                /-------------------------------------------------------------------------------------------------------------------------------------------------------------------- CHLRE\n",
      "                |                                                 |               |                |                                                                                                                                                                          \n",
      "                |                                                 |               |                |                                                                                                                                                   /---------------- POLPA\n",
      "                |                                                 |               |                |               /-----------------------------------------------------------------------------------------------------------------------------------+                      \n",
      "                |                                                 |               |                |               |                                                                                                                                   \\---------------- DICDI\n",
      "                |                                                 |               \\----------------+               |                                                                                                                                                          \n",
      "                |                                                 |                                |               |                                /------------------------------------------------------------------------------------------------------------------- SPIOL\n",
      "                |                                                 |                                |               |                                |                                                                                                                         \n",
      "                |                                                 |                                |               |                                |                                /---------------------------------------------------------------------------------- DAUCA\n",
      "                |                                                 |                                |               |                                |                /---------------+                                                                                        \n",
      "                |                                                 |                                \\---------------+                /---------------+                |               |                /----------------------------------------------------------------- RICCO\n",
      "                |                                                 |                                                |                |               |                |               \\----------------+                                                                       \n",
      "                |                                                 |                                                |                |               |                |                                |               /------------------------------------------------- EUTSA\n",
      "                |                                                 |                                                |                |               |                |                                \\---------------+                                                       \n",
      "                |                                                 |                                                |                |               \\----------------+                                                |                /-------------------------------- BRANA\n",
      "                |                                                 |                                                |                |                                |                                                \\----------------+                                      \n",
      "                |                                /----------------+                                                |                |                                |                                                                 |               /---------------- ARATH\n",
      "                |                                |                |                                                |                |                                |                                                                 \\---------------+                      \n",
      "                |                                |                |                                                \\----------------+                                |                                                                                 \\---------------- ARAAL\n",
      "                |                                |                |                                                                 |                                |                                                                                                        \n",
      "/---------------+                                |                |                                                                 |                                \\-------------------------------------------------------------------------------------------------- HORVD\n",
      "|               |                                |                |                                                                 |                                                                                                                                         \n",
      "|               |                                |                |                                                                 |                                                                                                  /-------------------------------- ORYSI\n",
      "|               |                                |                |                                                                 |                                                                                 /----------------+                                      \n",
      "|               |                                |                |                                                                 |                                                                                 |                |               /---------------- BRADI\n",
      "|               |                                |                |                                                                 |                                                                                 |                \\---------------+                      \n",
      "|               |                                |                |                                                                 \\---------------------------------------------------------------------------------+                                \\---------------- WHEAT\n",
      "|               |                                |                |                                                                                                                                                   |                                                       \n",
      "|               |                /---------------+                |                                                                                                                                                   |                /-------------------------------- SETIT\n",
      "|               |                |               |                |                                                                                                                                                   \\----------------+                                      \n",
      "|               |                |               |                |                                                                                                                                                                    |               /---------------- MAIZE\n",
      "|               |                |               |                |                                                                                                                                                                    \\---------------+                      \n",
      "|               |                |               |                |                                                                                                                                                                                    \\---------------- SORBI\n",
      "|               |                |               |                |                                                                                                                                                                                                           \n",
      "|               |                |               |                \\----------------------------------------------------------------------------------------------------------------------------------------------------------------------------------------------------- VOLCA\n",
      "|               |                |               |                                                                                                                                                                                                                            \n",
      "|               |                |               |                                                                                                                                                                                     /-------------------------------- CAPO3\n",
      "|               |                |               |                                                                                                                                                    /--------------------------------+                                      \n",
      "|               |                |               |                                                                                                                                                    |                                |               /---------------- PHATC\n",
      "|               |                |               |                                                                                                                                                    |                                \\---------------+                      \n",
      "|               |                |               |                                                                                                                                                    |                                                \\---------------- MONBE\n",
      "|               |                |               \\----------------------------------------------------------------------------------------------------------------------------------------------------+                                                                       \n",
      "|               |                |                                                                                                                                                                    |                                                /---------------- PLABS\n",
      "|               |                |                                                                                                                                                                    |               /--------------------------------+                      \n",
      "|               |                |                                                                                                                                                                    |               |                                \\---------------- SALR5\n",
      "|               |                |                                                                                                                                                                    \\---------------+                                                       \n",
      "|               |                |                                                                                                                                                                                    |                /-------------------------------- SAPPC\n",
      "|               |                |                                                                                                                                                                                    \\----------------+                                      \n",
      "|               |                |                                                                                                                                                                                                     |               /---------------- PYTUL\n",
      "|               |                |                                                                                                                                                                                                     \\---------------+                      \n",
      "|               |                |                                                                                                                                                                                                                     \\---------------- PHYPR\n",
      "|               |                |                                                                                                                                                                                                                                            \n",
      "|               |                |                                                                 /-------------------------------------------------------------------------------------------------------------------------------------------------------------------- AMBTC\n",
      "|               |                |                                                                 |                                                                                                                                                                          \n",
      "|               |                |                                                                 |               /---------------------------------------------------------------------------------------------------------------------------------------------------- ZOSMR\n",
      "|               |                |                                                /----------------+               |                                                                                                                                                          \n",
      "|               |                |                                                |                |               |                /----------------------------------------------------------------------------------------------------------------------------------- MUSAM\n",
      "|               |                |                                                |                |               |                |                                                                                                                                         \n",
      "|               \\----------------+                                                |                |               |                |                                                                                 /------------------------------------------------- CAJCA\n",
      "|                                |                                                |                \\---------------+                |                                                                                 |                                                       \n",
      "+                                |                                                |                                |                |                                                                 /---------------+                                /---------------- PHAAN\n",
      "|                                |                                                |                                |                |                                                                 |               |                /---------------+                      \n",
      "|                                |                                                |                                |                |                                                                 |               \\----------------+               \\---------------- PHAVU\n",
      "|                                |                                                |                                |                |               /-------------------------------------------------+                                |                                      \n",
      "|                                |                                                |                                \\----------------+               |                                                 |                                \\-------------------------------- SOYBN\n",
      "|                                |                                                |                                                 |               |                                                 |                                                                       \n",
      "|                                |                                                |                                                 |               |                                                 \\----------------------------------------------------------------- MEDTR\n",
      "|                                |                                                |                                                 |               |                                                                                                                         \n",
      "|                                |                                                |                                                 |               |                                                                                                  /---------------- EUCGR\n",
      "|                                |                                                |                                                 |               |                                /-----------------------------------------------------------------+                      \n",
      "|                                |                                                |                                                 |               |                                |                                                                 \\---------------- VITVI\n",
      "|                                |                                                |                                                 |               |                                |                                                                                        \n",
      "|                                |                                                |                                                 \\---------------+                                |                                                                 /---------------- PRUPE\n",
      "|                                |                                /---------------+                                                                 |                                |                                /--------------------------------+                      \n",
      "|                                |                                |               |                                                                 |                /---------------+                                |                                \\---------------- CITSI\n",
      "|                                |                                |               |                                                                 |                |               |                                |                                                       \n",
      "|                                |                                |               |                                                                 |                |               |                /---------------+                                /---------------- SOLLC\n",
      "|                                |                                |               |                                                                 |                |               |                |               |                /---------------+                      \n",
      "|                                |                                |               |                                                                 |                |               |                |               |                |               \\---------------- ERYGU\n",
      "|                                |                                |               |                                                                 |                |               |                |               \\----------------+                                      \n",
      "|                                |                                |               |                                                                 |                |               \\----------------+                                |               /---------------- CUCSA\n",
      "|                                |                                |               |                                                                 \\----------------+                                |                                \\---------------+                      \n",
      "|                                |                                |               |                                                                                  |                                |                                                \\---------------- JATCU\n",
      "|                                |               /----------------+               |                                                                                  |                                |                                                                       \n",
      "|                                |               |                |               |                                                                                  |                                |                                                /---------------- THECC\n",
      "|                                |               |                |               |                                                                                  |                                \\------------------------------------------------+                      \n",
      "|                                |               |                |               |                                                                                  |                                                                                 \\---------------- GOSRA\n",
      "|                                |               |                |               |                                                                                  |                                                                                                        \n",
      "|                                |               |                |               |                                                                                  |                                                                                 /---------------- BETVU\n",
      "|                                \\---------------+                |               |                                                                                  \\---------------------------------------------------------------------------------+                      \n",
      "|                                                |                |               |                                                                                                                                                                    \\---------------- POPTR\n",
      "|                                                |                |               |                                                                                                                                                                                           \n",
      "|                                                |                |               \\------------------------------------------------------------------------------------------------------------------------------------------------------------------------------------- MARPO\n",
      "|                                                |                |                                                                                                                                                                                                           \n",
      "|                                                |                \\----------------------------------------------------------------------------------------------------------------------------------------------------------------------------------------------------- SELML\n",
      "|                                                |                                                                                                                                                                                                                            \n",
      "|                                                \\---------------------------------------------------------------------------------------------------------------------------------------------------------------------------------------------------------------------- PHYPA\n",
      "|                                                                                                                                                                                                                                                                             \n",
      "|----------------------------------------------------------------------------------------------------------------------------------------------------------------------------------------------------------------------------------------------------------------------- MICCC\n",
      "|                                                                                                                                                                                                                                                                             \n",
      "\\----------------------------------------------------------------------------------------------------------------------------------------------------------------------------------------------------------------------------------------------------------------------- OSTTA\n",
      "                                                                                                                                                                                                                                                                              \n",
      "                                                                                                                                                                                                                                                                              \n"
     ]
    }
   ],
   "source": [
    "import networkx as nx\n",
    "import dendropy\n",
    "\n",
    "with torch.no_grad():\n",
    "    predictions = model(test_dataset[0])\n",
    "    \n",
    "G = nx.Graph()\n",
    "G.add_nodes_from(range(test_dataset[0].x.shape[0]))\n",
    "ei = test_dataset[0].edge_index.numpy().T\n",
    "G.add_edges_from(ei[:len(ei)//2])\n",
    "G=G.to_undirected()\n",
    "p = nx.nx_pydot.to_pydot(G)\n",
    "\n",
    "model = model.cpu()\n",
    "\n",
    "nodes = p.get_nodes()\n",
    "for i in range(len(nodes)):\n",
    "    nodes[i].set_style('filled')\n",
    "    if predictions[i]>=optimal_thr:\n",
    "        if test_dataset[0].y[i]==1:\n",
    "            nodes[i].set_fillcolor('green')\n",
    "        else:\n",
    "            nodes[i].set_fillcolor('blue')\n",
    "    if predictions[i]<optimal_thr:\n",
    "        if test_dataset[0].y[i]==1:\n",
    "            nodes[i].set_fillcolor('red')\n",
    "            \n",
    "# write tree\n",
    "p.write_png('tree.png')\n",
    "\n",
    "# the etalon tree\n",
    "t = dendropy.Tree.get_from_path(test_dataset[0].filename[0], 'newick')\n",
    "print(t.as_ascii_plot())"
   ]
  },
  {
   "cell_type": "markdown",
   "metadata": {
    "pycharm": {
     "name": "#%% md\n"
    }
   },
   "source": [
    "## Metazoa\n"
   ]
  },
  {
   "cell_type": "code",
   "execution_count": 42,
   "metadata": {
    "execution": {
     "iopub.execute_input": "2020-04-17T18:43:24.636Z",
     "iopub.status.busy": "2020-04-17T18:43:24.630Z",
     "iopub.status.idle": "2020-04-17T18:43:29.642Z",
     "shell.execute_reply": "2020-04-17T18:43:29.634Z"
    },
    "pycharm": {
     "name": "#%%\n"
    }
   },
   "outputs": [],
   "source": [
    "# gpu again\n",
    "model = model.cuda()\n",
    "# data\n",
    "target_tree = phy.read(data_path+'tree/Metazoa25.tre', 'newick')\n",
    "test_dataset = gd.Trees(\n",
    "    data_path+\"tree/Metazoa25/\",\n",
    "    data_path+\"alns/Metazoa25/\",\n",
    "    target_tree\n",
    ")\n",
    "# transform to feed into the model\n",
    "l = list()\n",
    "for d in test_dataset:\n",
    "    nodes = torch.stack(torch.unique(d.edge_index[0], return_counts=True))\n",
    "    internodes = nodes[0, nodes[1]!=1]\n",
    "    l += d.y[internodes].squeeze().tolist()\n",
    "med = np.median(l)\n",
    "test_dataset.data.y = (test_dataset.data.y > med).float()\n",
    "test_dataset.data.x = test_dataset.data.x.float()\n",
    "test_dataset.data.edge_attr = (torch.max(test_dataset.data.edge_attr)+0.001 - test_dataset.data.edge_attr).float()\n",
    "test_dataset.data.edge_index = test_dataset.data.edge_index.long()\n",
    "test_dl = DataLoader(\n",
    "    test_dataset, batch_size=50, num_workers=2\n",
    ")"
   ]
  },
  {
   "cell_type": "code",
   "execution_count": 43,
   "metadata": {
    "execution": {
     "iopub.execute_input": "2020-04-17T18:48:10.054Z",
     "iopub.status.busy": "2020-04-17T18:48:10.046Z",
     "iopub.status.idle": "2020-04-17T18:48:18.966Z",
     "shell.execute_reply": "2020-04-17T18:48:19.013Z"
    }
   },
   "outputs": [
    {
     "name": "stderr",
     "output_type": "stream",
     "text": [
      "/hspart/tools/miniconda3/envs/geom/lib/python3.8/site-packages/torch/nn/functional.py:1351: UserWarning: nn.functional.sigmoid is deprecated. Use torch.sigmoid instead.\n",
      "  warnings.warn(\"nn.functional.sigmoid is deprecated. Use torch.sigmoid instead.\")\n"
     ]
    },
    {
     "data": {
      "text/html": [
       "<div>\n",
       "<style scoped>\n",
       "    .dataframe tbody tr th:only-of-type {\n",
       "        vertical-align: middle;\n",
       "    }\n",
       "\n",
       "    .dataframe tbody tr th {\n",
       "        vertical-align: top;\n",
       "    }\n",
       "\n",
       "    .dataframe thead th {\n",
       "        text-align: right;\n",
       "    }\n",
       "</style>\n",
       "<table border=\"1\" class=\"dataframe\">\n",
       "  <thead>\n",
       "    <tr style=\"text-align: right;\">\n",
       "      <th></th>\n",
       "      <th>actual</th>\n",
       "      <th>predicted</th>\n",
       "    </tr>\n",
       "  </thead>\n",
       "  <tbody>\n",
       "    <tr>\n",
       "      <th>count</th>\n",
       "      <td>45590.000000</td>\n",
       "      <td>45590.000000</td>\n",
       "    </tr>\n",
       "    <tr>\n",
       "      <th>mean</th>\n",
       "      <td>0.420136</td>\n",
       "      <td>0.374377</td>\n",
       "    </tr>\n",
       "    <tr>\n",
       "      <th>std</th>\n",
       "      <td>0.493586</td>\n",
       "      <td>0.205322</td>\n",
       "    </tr>\n",
       "    <tr>\n",
       "      <th>min</th>\n",
       "      <td>0.000000</td>\n",
       "      <td>0.003439</td>\n",
       "    </tr>\n",
       "    <tr>\n",
       "      <th>25%</th>\n",
       "      <td>0.000000</td>\n",
       "      <td>0.276515</td>\n",
       "    </tr>\n",
       "    <tr>\n",
       "      <th>50%</th>\n",
       "      <td>0.000000</td>\n",
       "      <td>0.496851</td>\n",
       "    </tr>\n",
       "    <tr>\n",
       "      <th>75%</th>\n",
       "      <td>1.000000</td>\n",
       "      <td>0.497891</td>\n",
       "    </tr>\n",
       "    <tr>\n",
       "      <th>max</th>\n",
       "      <td>1.000000</td>\n",
       "      <td>0.958838</td>\n",
       "    </tr>\n",
       "  </tbody>\n",
       "</table>\n",
       "</div>"
      ],
      "text/plain": [
       "             actual     predicted\n",
       "count  45590.000000  45590.000000\n",
       "mean       0.420136      0.374377\n",
       "std        0.493586      0.205322\n",
       "min        0.000000      0.003439\n",
       "25%        0.000000      0.276515\n",
       "50%        0.000000      0.496851\n",
       "75%        1.000000      0.497891\n",
       "max        1.000000      0.958838"
      ]
     },
     "execution_count": 43,
     "metadata": {},
     "output_type": "execute_result"
    }
   ],
   "source": [
    "model.eval()\n",
    "nplist = list()\n",
    "for data in test_dl:\n",
    "    with torch.no_grad():\n",
    "        data.x, data.edge_index, data.edge_attr = data.x.float(), data.edge_index.long(), data.edge_attr.float()  # CLEAN IT!!!!!\n",
    "        out = model(data.to(torch.device('cuda')))\n",
    "        nodes = torch.stack(torch.unique(data.edge_index[0], return_counts=True))\n",
    "        internodes = nodes[0, nodes[1]!=1]\n",
    "        \n",
    "        nplist.append(np.concatenate([data.y[internodes].cpu().numpy(), out[internodes].detach().cpu().numpy()], axis=1))\n",
    "test_results = pd.DataFrame(np.concatenate(nplist, 0), columns=['actual', 'predicted'])\n",
    "test_results.describe()"
   ]
  },
  {
   "cell_type": "code",
   "execution_count": 44,
   "metadata": {
    "execution": {
     "iopub.execute_input": "2020-04-17T18:44:47.318Z",
     "iopub.status.busy": "2020-04-17T18:44:47.311Z",
     "iopub.status.idle": "2020-04-17T18:44:47.329Z",
     "shell.execute_reply": "2020-04-17T18:44:47.336Z"
    }
   },
   "outputs": [],
   "source": [
    "test_results = pd.DataFrame(np.concatenate(nplist), columns=['actual', 'predicted'])"
   ]
  },
  {
   "cell_type": "code",
   "execution_count": 45,
   "metadata": {
    "execution": {
     "iopub.execute_input": "2020-04-17T18:48:48.680Z",
     "iopub.status.busy": "2020-04-17T18:48:48.671Z",
     "iopub.status.idle": "2020-04-17T18:48:48.691Z",
     "shell.execute_reply": "2020-04-17T18:48:48.700Z"
    }
   },
   "outputs": [
    {
     "data": {
      "image/png": "[encoded data removed]",
      "text/plain": [
       "<Figure size 576x432 with 1 Axes>"
      ]
     },
     "metadata": {
      "needs_background": "light"
     },
     "output_type": "display_data"
    }
   ],
   "source": [
    "fpr, tpr, thresholds_roc = metrics.roc_curve(test_results[\"actual\"], test_results[\"predicted\"])\n",
    "\n",
    "fig = plt.figure(figsize=(8, 6))\n",
    "ax = fig.add_subplot(1, 1, 1)\n",
    "\n",
    "plt.plot(fpr, tpr)\n",
    "plt.title('AUC={:.4f}'.format(metrics.roc_auc_score(test_results[\"actual\"], test_results[\"predicted\"])))\n",
    "plt.xlim(0, 1)\n",
    "plt.ylim(0, 1)\n",
    "ax.set_xlabel('FPR')\n",
    "ax.set_ylabel('TPR')\n",
    "plt.savefig('roc_metazoa.png')"
   ]
  },
  {
   "cell_type": "code",
   "execution_count": 46,
   "metadata": {
    "execution": {
     "iopub.execute_input": "2020-04-17T11:06:59.463Z",
     "iopub.status.busy": "2020-04-17T11:06:59.453Z",
     "iopub.status.idle": "2020-04-17T11:06:59.478Z",
     "shell.execute_reply": "2020-04-17T11:06:59.500Z"
    }
   },
   "outputs": [
    {
     "data": {
      "image/png": "[encoded data removed]",
      "text/plain": [
       "<Figure size 576x432 with 1 Axes>"
      ]
     },
     "metadata": {
      "needs_background": "light"
     },
     "output_type": "display_data"
    }
   ],
   "source": [
    "prec, rec, thresholds_recprec = metrics.precision_recall_curve(test_results[\"actual\"], test_results[\"predicted\"])\n",
    "roc_data = pd.DataFrame({\"Precision\": prec, \"Recall\": rec})\n",
    "fig = plt.figure(figsize=(8, 6))\n",
    "ax = fig.add_subplot(1, 1, 1)\n",
    "\n",
    "plt.plot(rec, prec)\n",
    "plt.xlim(0, 1)\n",
    "plt.ylim(0, 1)\n",
    "ax.set_xlabel('Recall')\n",
    "ax.set_ylabel('Precision')\n",
    "plt.savefig('recprec_metazoa.png')"
   ]
  },
  {
   "cell_type": "code",
   "execution_count": 84,
   "metadata": {},
   "outputs": [],
   "source": [
    "optimal_thr = 0.3"
   ]
  },
  {
   "cell_type": "code",
   "execution_count": 85,
   "metadata": {
    "execution": {
     "iopub.execute_input": "2020-04-16T10:19:48.118Z",
     "iopub.status.busy": "2020-04-16T10:19:48.109Z",
     "iopub.status.idle": "2020-04-16T10:19:48.220Z",
     "shell.execute_reply": "2020-04-16T10:19:48.242Z"
    },
    "pycharm": {
     "name": "#%%\n"
    }
   },
   "outputs": [
    {
     "data": {
      "text/plain": [
       "array([[10243, 16193],\n",
       "       [ 3212, 15942]])"
      ]
     },
     "execution_count": 85,
     "metadata": {},
     "output_type": "execute_result"
    }
   ],
   "source": [
    "metrics.confusion_matrix(test_results[\"actual\"], test_results[\"predicted\"]>=optimal_thr)"
   ]
  },
  {
   "cell_type": "code",
   "execution_count": 86,
   "metadata": {},
   "outputs": [
    {
     "data": {
      "text/plain": [
       "0.5743584119324413"
      ]
     },
     "execution_count": 86,
     "metadata": {},
     "output_type": "execute_result"
    }
   ],
   "source": [
    "metrics.accuracy_score(test_results[\"actual\"], test_results[\"predicted\"]>=optimal_thr)"
   ]
  },
  {
   "cell_type": "code",
   "execution_count": 87,
   "metadata": {},
   "outputs": [
    {
     "data": {
      "text/plain": [
       "0.6216537659147185"
      ]
     },
     "execution_count": 87,
     "metadata": {},
     "output_type": "execute_result"
    }
   ],
   "source": [
    "metrics.f1_score(test_results[\"actual\"], test_results[\"predicted\"]>=optimal_thr)"
   ]
  },
  {
   "cell_type": "markdown",
   "metadata": {
    "pycharm": {
     "name": "#%% md\n"
    }
   },
   "source": [
    "### Whole tree quality correlations. Metazoa"
   ]
  },
  {
   "cell_type": "code",
   "execution_count": 64,
   "metadata": {},
   "outputs": [
    {
     "name": "stderr",
     "output_type": "stream",
     "text": [
      "/hspart/tools/miniconda3/envs/geom/lib/python3.8/site-packages/torch/nn/functional.py:1351: UserWarning: nn.functional.sigmoid is deprecated. Use torch.sigmoid instead.\n",
      "  warnings.warn(\"nn.functional.sigmoid is deprecated. Use torch.sigmoid instead.\")\n"
     ]
    }
   ],
   "source": [
    "import re\n",
    "\n",
    "model = model.cpu()\n",
    "\n",
    "incorrect_nodes_expect = [(re.findall('FastME|TNT', tree.filename[0].split('/')[-1])[0], re.findall(r'PF\\d+_\\d+', tree.filename[0].split('/')[-1])[0], torch.sum(model(tree)).item()) for tree in test_dataset]"
   ]
  },
  {
   "cell_type": "code",
   "execution_count": 65,
   "metadata": {},
   "outputs": [],
   "source": [
    "predicted = pd.DataFrame(incorrect_nodes_expect, columns=['method', 'ID', 'ine'])\n",
    "predicted = predicted.pivot(index='ID', columns='method', values='ine')"
   ]
  },
  {
   "cell_type": "code",
   "execution_count": 66,
   "metadata": {},
   "outputs": [],
   "source": [
    "actual = pd.read_csv(data_path+'tree/Metazoa_RFdist.txt', sep='\\t', index_col=0)"
   ]
  },
  {
   "cell_type": "code",
   "execution_count": 67,
   "metadata": {},
   "outputs": [],
   "source": [
    "predicted.columns=['FastME_pred', 'TNT_pred']"
   ]
  },
  {
   "cell_type": "code",
   "execution_count": 68,
   "metadata": {},
   "outputs": [],
   "source": [
    "data = pd.merge(actual, predicted, how='inner', on='ID')"
   ]
  },
  {
   "cell_type": "code",
   "execution_count": 69,
   "metadata": {
    "pycharm": {
     "name": "#%%\n"
    }
   },
   "outputs": [],
   "source": [
    "data['Act_diff'] = data['TNT'] - data['FastME']\n",
    "data['Pred_diff'] = data['TNT_pred'] - data['FastME_pred']"
   ]
  },
  {
   "cell_type": "code",
   "execution_count": 70,
   "metadata": {},
   "outputs": [
    {
     "data": {
      "image/png": "[encoded data removed]",
      "text/plain": [
       "<Figure size 576x432 with 1 Axes>"
      ]
     },
     "metadata": {
      "needs_background": "light"
     },
     "output_type": "display_data"
    }
   ],
   "source": [
    "fig = plt.figure(figsize=(8, 6))\n",
    "ax = fig.add_subplot(1, 1, 1)\n",
    "\n",
    "plt.scatter(data['FastME'], data['FastME_pred'])\n",
    "ax.set_xlabel('Actual RF distance')\n",
    "ax.set_ylabel('Predicted quality')\n",
    "plt.savefig('FastME_corr.png')"
   ]
  },
  {
   "cell_type": "code",
   "execution_count": null,
   "outputs": [],
   "source": [
    "spearmanr(data['FastME'], data['FastME_pred'])"
   ],
   "metadata": {
    "collapsed": false,
    "pycharm": {
     "name": "#%%\n"
    }
   }
  },
  {
   "cell_type": "code",
   "execution_count": null,
   "outputs": [],
   "source": [
    "fig = plt.figure(figsize=(8, 6))\n",
    "ax = fig.add_subplot(1, 1, 1)\n",
    "\n",
    "plt.scatter(data['TNT'], data['TNT_pred'])\n",
    "ax.set_xlabel('Actual RF distance')\n",
    "ax.set_ylabel('Predicted quality')\n",
    "plt.savefig('TNT_corr.png')"
   ],
   "metadata": {
    "collapsed": false,
    "pycharm": {
     "name": "#%%\n"
    }
   }
  },
  {
   "cell_type": "code",
   "execution_count": null,
   "outputs": [],
   "source": [
    "spearmanr(data['TNT'], data['TNT_pred'])"
   ],
   "metadata": {
    "collapsed": false,
    "pycharm": {
     "name": "#%%\n"
    }
   }
  },
  {
   "cell_type": "code",
   "execution_count": null,
   "outputs": [],
   "source": [
    "fig = plt.figure(figsize=(8, 6))\n",
    "ax = fig.add_subplot(1, 1, 1)\n",
    "\n",
    "plt.scatter(data['Act_diff'], data['Pred_diff'])\n",
    "ax.set_xlabel('Actual RF distance difference')\n",
    "ax.set_ylabel('Predicted difference')\n",
    "plt.savefig('diff_corr.png')"
   ],
   "metadata": {
    "collapsed": false,
    "pycharm": {
     "name": "#%%\n"
    }
   }
  },
  {
   "cell_type": "code",
   "execution_count": null,
   "outputs": [],
   "source": [
    "metrics.confusion_matrix(data['Act_diff']<0, data['Pred_diff']<0)"
   ],
   "metadata": {
    "collapsed": false,
    "pycharm": {
     "name": "#%%\n"
    }
   }
  },
  {
   "cell_type": "code",
   "execution_count": null,
   "outputs": [],
   "source": [
    "fpr, tpr, thresholds_roc = metrics.roc_curve(data['Act_diff']<0, data['Pred_diff'])\n",
    "\n",
    "fig = plt.figure(figsize=(8, 6))\n",
    "ax = fig.add_subplot(1, 1, 1)\n",
    "\n",
    "plt.plot(fpr, tpr)\n",
    "plt.title('AUC={:.4f}'.format(metrics.roc_auc_score(data['Act_diff']<0, data['Pred_diff'])))\n",
    "plt.xlim(0, 1)\n",
    "plt.ylim(0, 1)\n",
    "ax.set_xlabel('FPR')\n",
    "ax.set_ylabel('TPR')\n",
    "plt.savefig('whole_roc.png')"
   ],
   "metadata": {
    "collapsed": false,
    "pycharm": {
     "name": "#%%\n"
    }
   }
  },
  {
   "cell_type": "code",
   "execution_count": 71,
   "metadata": {},
   "outputs": [
    {
     "data": {
      "text/plain": [
       "SpearmanrResult(correlation=0.27961670602187383, pvalue=6.993105806042725e-19)"
      ]
     },
     "execution_count": 71,
     "metadata": {},
     "output_type": "execute_result"
    }
   ],
   "source": []
  },
  {
   "cell_type": "code",
   "execution_count": 72,
   "metadata": {},
   "outputs": [
    {
     "data": {
      "image/png": "[encoded data removed]",
      "text/plain": [
       "<Figure size 576x432 with 1 Axes>"
      ]
     },
     "metadata": {
      "needs_background": "light"
     },
     "output_type": "display_data"
    }
   ],
   "source": [
    "fig = plt.figure(figsize=(8, 6))\n",
    "ax = fig.add_subplot(1, 1, 1)\n",
    "\n",
    "plt.scatter(data['TNT'], data['TNT_pred'])\n",
    "ax.set_xlabel('Actual RF distance')\n",
    "ax.set_ylabel('Predicted quality')\n",
    "plt.savefig('TNT_corr.png')"
   ]
  },
  {
   "cell_type": "code",
   "execution_count": 73,
   "metadata": {},
   "outputs": [
    {
     "data": {
      "text/plain": [
       "SpearmanrResult(correlation=0.02913454259387886, pvalue=0.36471752141544345)"
      ]
     },
     "execution_count": 73,
     "metadata": {},
     "output_type": "execute_result"
    }
   ],
   "source": [
    "spearmanr(data['TNT'], data['TNT_pred'])"
   ]
  },
  {
   "cell_type": "code",
   "execution_count": 74,
   "metadata": {},
   "outputs": [
    {
     "data": {
      "image/png": "[encoded data removed]",
      "text/plain": [
       "<Figure size 576x432 with 1 Axes>"
      ]
     },
     "metadata": {
      "needs_background": "light"
     },
     "output_type": "display_data"
    }
   ],
   "source": [
    "fig = plt.figure(figsize=(8, 6))\n",
    "ax = fig.add_subplot(1, 1, 1)\n",
    "\n",
    "plt.scatter(data['Act_diff'], data['Pred_diff'])\n",
    "ax.set_xlabel('Actual RF distance difference')\n",
    "ax.set_ylabel('Predicted difference')\n",
    "plt.savefig('diff_corr.png')"
   ]
  },
  {
   "cell_type": "code",
   "execution_count": 75,
   "metadata": {},
   "outputs": [
    {
     "data": {
      "text/plain": [
       "array([[805,   0],\n",
       "       [165,   0]])"
      ]
     },
     "execution_count": 75,
     "metadata": {},
     "output_type": "execute_result"
    }
   ],
   "source": [
    "metrics.confusion_matrix(data['Act_diff']<0, data['Pred_diff']<0)"
   ]
  },
  {
   "cell_type": "code",
   "execution_count": 76,
   "metadata": {},
   "outputs": [
    {
     "data": {
      "image/png": "[encoded data removed]",
      "text/plain": [
       "<Figure size 576x432 with 1 Axes>"
      ]
     },
     "metadata": {
      "needs_background": "light"
     },
     "output_type": "display_data"
    }
   ],
   "source": [
    "fpr, tpr, thresholds_roc = metrics.roc_curve(data['Act_diff']<0, data['Pred_diff'])\n",
    "\n",
    "fig = plt.figure(figsize=(8, 6))\n",
    "ax = fig.add_subplot(1, 1, 1)\n",
    "\n",
    "plt.plot(fpr, tpr)\n",
    "plt.title('AUC={:.4f}'.format(metrics.roc_auc_score(data['Act_diff']<0, data['Pred_diff'])))\n",
    "plt.xlim(0, 1)\n",
    "plt.ylim(0, 1)\n",
    "ax.set_xlabel('FPR')\n",
    "ax.set_ylabel('TPR')\n",
    "plt.savefig('whole_roc.png')"
   ]
  },
  {
   "cell_type": "code",
   "execution_count": null,
   "metadata": {},
   "outputs": [],
   "source": []
  }
 ],
 "metadata": {
  "kernelspec": {
   "display_name": "Python 3",
   "language": "python",
   "name": "python3"
  },
  "language_info": {
   "codemirror_mode": {
    "name": "ipython",
    "version": 3
   },
   "file_extension": ".py",
   "mimetype": "text/x-python",
   "name": "python",
   "nbconvert_exporter": "python",
   "pygments_lexer": "ipython3",
   "version": "3.8.1"
  },
  "nteract": {
   "version": "0.22.4"
  }
 },
 "nbformat": 4,
 "nbformat_minor": 4
}